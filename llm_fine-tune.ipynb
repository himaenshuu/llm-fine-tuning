{
 "cells": [
  {
   "cell_type": "code",
   "execution_count": 1,
   "metadata": {
    "colab": {
     "base_uri": "https://localhost:8080/"
    },
    "id": "L9cvCPqQSrt7",
    "outputId": "bb3d8348-cd01-4f3b-b0c6-2f305bb6cf5d"
   },
   "outputs": [
    {
     "name": "stdout",
     "output_type": "stream",
     "text": [
      "[{'input': \"Extract the product information:\\n<div class='product'><h2>Asus ROG Strix</h2><span class='price'>$1106</span><span class='category'>electronics</span><span class='brand'>Amazon</span></div>\", 'output': {'name': 'Asus ROG Strix', 'price': '$1106', 'category': 'electronics', 'manufacturer': 'Amazon'}}, {'input': \"Extract the product information:\\n<div class='product'><h2>iPad Air</h2><span class='price'>$1344</span><span class='category'>audio</span><span class='brand'>Dell</span></div>\", 'output': {'name': 'iPad Air', 'price': '$1344', 'category': 'audio', 'manufacturer': 'Dell'}}, {'input': \"Extract the product information:\\n<div class='product'><h2>Google Pixel 7</h2><span class='price'>$712</span><span class='category'>smartphones</span><span class='brand'>Dell</span></div>\", 'output': {'name': 'Google Pixel 7', 'price': '$712', 'category': 'smartphones', 'manufacturer': 'Dell'}}, {'input': \"Extract the product information:\\n<div class='product'><h2>Bose QuietComfort 45</h2><span class='price'>$2429</span><span class='category'>audio</span><span class='brand'>Dell</span></div>\", 'output': {'name': 'Bose QuietComfort 45', 'price': '$2429', 'category': 'audio', 'manufacturer': 'Dell'}}, {'input': \"Extract the product information:\\n<div class='product'><h2>Google Pixel 7</h2><span class='price'>$2429</span><span class='category'>electronics</span><span class='brand'>Asus</span></div>\", 'output': {'name': 'Google Pixel 7', 'price': '$2429', 'category': 'electronics', 'manufacturer': 'Asus'}}, {'input': \"Extract the product information:\\n<div class='product'><h2>Razer DeathAdder V2</h2><span class='price'>$1277</span><span class='category'>audio</span><span class='brand'>Apple</span></div>\", 'output': {'name': 'Razer DeathAdder V2', 'price': '$1277', 'category': 'audio', 'manufacturer': 'Apple'}}, {'input': \"Extract the product information:\\n<div class='product'><h2>Nintendo Switch</h2><span class='price'>$585</span><span class='category'>electronics</span><span class='brand'>Canon</span></div>\", 'output': {'name': 'Nintendo Switch', 'price': '$585', 'category': 'electronics', 'manufacturer': 'Canon'}}, {'input': \"Extract the product information:\\n<div class='product'><h2>MacBook Pro 14</h2><span class='price'>$1002</span><span class='category'>electronics</span><span class='brand'>Google</span></div>\", 'output': {'name': 'MacBook Pro 14', 'price': '$1002', 'category': 'electronics', 'manufacturer': 'Google'}}, {'input': \"Extract the product information:\\n<div class='product'><h2>Fitbit Charge 5</h2><span class='price'>$2004</span><span class='category'>laptops</span><span class='brand'>Apple</span></div>\", 'output': {'name': 'Fitbit Charge 5', 'price': '$2004', 'category': 'laptops', 'manufacturer': 'Apple'}}, {'input': \"Extract the product information:\\n<div class='product'><h2>Samsung Galaxy S23</h2><span class='price'>$563</span><span class='category'>fitness</span><span class='brand'>Samsung</span></div>\", 'output': {'name': 'Samsung Galaxy S23', 'price': '$563', 'category': 'fitness', 'manufacturer': 'Samsung'}}, {'input': \"Extract the product information:\\n<div class='product'><h2>Canon EOS R</h2><span class='price'>$2004</span><span class='category'>audio</span><span class='brand'>Sony</span></div>\", 'output': {'name': 'Canon EOS R', 'price': '$2004', 'category': 'audio', 'manufacturer': 'Sony'}}, {'input': \"Extract the product information:\\n<div class='product'><h2>Canon EOS R</h2><span class='price'>$2396</span><span class='category'>smartphones</span><span class='brand'>HP</span></div>\", 'output': {'name': 'Canon EOS R', 'price': '$2396', 'category': 'smartphones', 'manufacturer': 'HP'}}, {'input': \"Extract the product information:\\n<div class='product'><h2>Nintendo Switch</h2><span class='price'>$915</span><span class='category'>cameras</span><span class='brand'>Asus</span></div>\", 'output': {'name': 'Nintendo Switch', 'price': '$915', 'category': 'cameras', 'manufacturer': 'Asus'}}, {'input': \"Extract the product information:\\n<div class='product'><h2>Fitbit Charge 5</h2><span class='price'>$1162</span><span class='category'>audio</span><span class='brand'>Amazon</span></div>\", 'output': {'name': 'Fitbit Charge 5', 'price': '$1162', 'category': 'audio', 'manufacturer': 'Amazon'}}, {'input': \"Extract the product information:\\n<div class='product'><h2>Nintendo Switch</h2><span class='price'>$915</span><span class='category'>drones</span><span class='brand'>Samsung</span></div>\", 'output': {'name': 'Nintendo Switch', 'price': '$915', 'category': 'drones', 'manufacturer': 'Samsung'}}, {'input': \"Extract the product information:\\n<div class='product'><h2>Canon EOS R</h2><span class='price'>$1708</span><span class='category'>gaming</span><span class='brand'>Canon</span></div>\", 'output': {'name': 'Canon EOS R', 'price': '$1708', 'category': 'gaming', 'manufacturer': 'Canon'}}, {'input': \"Extract the product information:\\n<div class='product'><h2>PlayStation 5</h2><span class='price'>$454</span><span class='category'>cameras</span><span class='brand'>Amazon</span></div>\", 'output': {'name': 'PlayStation 5', 'price': '$454', 'category': 'cameras', 'manufacturer': 'Amazon'}}, {'input': \"Extract the product information:\\n<div class='product'><h2>PlayStation 5</h2><span class='price'>$819</span><span class='category'>audio</span><span class='brand'>Sony</span></div>\", 'output': {'name': 'PlayStation 5', 'price': '$819', 'category': 'audio', 'manufacturer': 'Sony'}}, {'input': \"Extract the product information:\\n<div class='product'><h2>HP Envy 15</h2><span class='price'>$299</span><span class='category'>cameras</span><span class='brand'>Microsoft</span></div>\", 'output': {'name': 'HP Envy 15', 'price': '$299', 'category': 'cameras', 'manufacturer': 'Microsoft'}}, {'input': \"Extract the product information:\\n<div class='product'><h2>Google Pixel 7</h2><span class='price'>$2102</span><span class='category'>audio</span><span class='brand'>Sony</span></div>\", 'output': {'name': 'Google Pixel 7', 'price': '$2102', 'category': 'audio', 'manufacturer': 'Sony'}}, {'input': \"Extract the product information:\\n<div class='product'><h2>Kindle Paperwhite</h2><span class='price'>$2004</span><span class='category'>cameras</span><span class='brand'>Asus</span></div>\", 'output': {'name': 'Kindle Paperwhite', 'price': '$2004', 'category': 'cameras', 'manufacturer': 'Asus'}}, {'input': \"Extract the product information:\\n<div class='product'><h2>Bose QuietComfort 45</h2><span class='price'>$395</span><span class='category'>electronics</span><span class='brand'>Canon</span></div>\", 'output': {'name': 'Bose QuietComfort 45', 'price': '$395', 'category': 'electronics', 'manufacturer': 'Canon'}}, {'input': \"Extract the product information:\\n<div class='product'><h2>Google Pixel 7</h2><span class='price'>$979</span><span class='category'>laptops</span><span class='brand'>Canon</span></div>\", 'output': {'name': 'Google Pixel 7', 'price': '$979', 'category': 'laptops', 'manufacturer': 'Canon'}}, {'input': \"Extract the product information:\\n<div class='product'><h2>DJI Mini 3 Pro</h2><span class='price'>$384</span><span class='category'>cameras</span><span class='brand'>Canon</span></div>\", 'output': {'name': 'DJI Mini 3 Pro', 'price': '$384', 'category': 'cameras', 'manufacturer': 'Canon'}}, {'input': \"Extract the product information:\\n<div class='product'><h2>iPad Air</h2><span class='price'>$677</span><span class='category'>cameras</span><span class='brand'>Samsung</span></div>\", 'output': {'name': 'iPad Air', 'price': '$677', 'category': 'cameras', 'manufacturer': 'Samsung'}}, {'input': \"Extract the product information:\\n<div class='product'><h2>PlayStation 5</h2><span class='price'>$1793</span><span class='category'>electronics</span><span class='brand'>Apple</span></div>\", 'output': {'name': 'PlayStation 5', 'price': '$1793', 'category': 'electronics', 'manufacturer': 'Apple'}}, {'input': \"Extract the product information:\\n<div class='product'><h2>Google Pixel 7</h2><span class='price'>$951</span><span class='category'>drones</span><span class='brand'>Sony</span></div>\", 'output': {'name': 'Google Pixel 7', 'price': '$951', 'category': 'drones', 'manufacturer': 'Sony'}}, {'input': \"Extract the product information:\\n<div class='product'><h2>MacBook Pro 14</h2><span class='price'>$1685</span><span class='category'>audio</span><span class='brand'>Amazon</span></div>\", 'output': {'name': 'MacBook Pro 14', 'price': '$1685', 'category': 'audio', 'manufacturer': 'Amazon'}}, {'input': \"Extract the product information:\\n<div class='product'><h2>MacBook Pro 14</h2><span class='price'>$453</span><span class='category'>gaming</span><span class='brand'>Google</span></div>\", 'output': {'name': 'MacBook Pro 14', 'price': '$453', 'category': 'gaming', 'manufacturer': 'Google'}}, {'input': \"Extract the product information:\\n<div class='product'><h2>Google Pixel 7</h2><span class='price'>$380</span><span class='category'>fitness</span><span class='brand'>HP</span></div>\", 'output': {'name': 'Google Pixel 7', 'price': '$380', 'category': 'fitness', 'manufacturer': 'HP'}}, {'input': \"Extract the product information:\\n<div class='product'><h2>HP Envy 15</h2><span class='price'>$2098</span><span class='category'>smartphones</span><span class='brand'>Dell</span></div>\", 'output': {'name': 'HP Envy 15', 'price': '$2098', 'category': 'smartphones', 'manufacturer': 'Dell'}}, {'input': \"Extract the product information:\\n<div class='product'><h2>iPad Air</h2><span class='price'>$1277</span><span class='category'>drones</span><span class='brand'>Canon</span></div>\", 'output': {'name': 'iPad Air', 'price': '$1277', 'category': 'drones', 'manufacturer': 'Canon'}}, {'input': \"Extract the product information:\\n<div class='product'><h2>Logitech MX Master 3</h2><span class='price'>$384</span><span class='category'>cameras</span><span class='brand'>Sony</span></div>\", 'output': {'name': 'Logitech MX Master 3', 'price': '$384', 'category': 'cameras', 'manufacturer': 'Sony'}}, {'input': \"Extract the product information:\\n<div class='product'><h2>Fitbit Charge 5</h2><span class='price'>$585</span><span class='category'>smartphones</span><span class='brand'>Samsung</span></div>\", 'output': {'name': 'Fitbit Charge 5', 'price': '$585', 'category': 'smartphones', 'manufacturer': 'Samsung'}}, {'input': \"Extract the product information:\\n<div class='product'><h2>Nintendo Switch</h2><span class='price'>$2102</span><span class='category'>audio</span><span class='brand'>Samsung</span></div>\", 'output': {'name': 'Nintendo Switch', 'price': '$2102', 'category': 'audio', 'manufacturer': 'Samsung'}}, {'input': \"Extract the product information:\\n<div class='product'><h2>Asus ROG Strix</h2><span class='price'>$819</span><span class='category'>drones</span><span class='brand'>Google</span></div>\", 'output': {'name': 'Asus ROG Strix', 'price': '$819', 'category': 'drones', 'manufacturer': 'Google'}}, {'input': \"Extract the product information:\\n<div class='product'><h2>Bose QuietComfort 45</h2><span class='price'>$2098</span><span class='category'>audio</span><span class='brand'>Microsoft</span></div>\", 'output': {'name': 'Bose QuietComfort 45', 'price': '$2098', 'category': 'audio', 'manufacturer': 'Microsoft'}}, {'input': \"Extract the product information:\\n<div class='product'><h2>Apple Watch</h2><span class='price'>$2102</span><span class='category'>fitness</span><span class='brand'>Canon</span></div>\", 'output': {'name': 'Apple Watch', 'price': '$2102', 'category': 'fitness', 'manufacturer': 'Canon'}}, {'input': \"Extract the product information:\\n<div class='product'><h2>HP Envy 15</h2><span class='price'>$1576</span><span class='category'>smartphones</span><span class='brand'>Apple</span></div>\", 'output': {'name': 'HP Envy 15', 'price': '$1576', 'category': 'smartphones', 'manufacturer': 'Apple'}}, {'input': \"Extract the product information:\\n<div class='product'><h2>Logitech MX Master 3</h2><span class='price'>$1685</span><span class='category'>laptops</span><span class='brand'>Amazon</span></div>\", 'output': {'name': 'Logitech MX Master 3', 'price': '$1685', 'category': 'laptops', 'manufacturer': 'Amazon'}}, {'input': \"Extract the product information:\\n<div class='product'><h2>Fitbit Charge 5</h2><span class='price'>$1277</span><span class='category'>audio</span><span class='brand'>HP</span></div>\", 'output': {'name': 'Fitbit Charge 5', 'price': '$1277', 'category': 'audio', 'manufacturer': 'HP'}}, {'input': \"Extract the product information:\\n<div class='product'><h2>Bose QuietComfort 45</h2><span class='price'>$2100</span><span class='category'>laptops</span><span class='brand'>Asus</span></div>\", 'output': {'name': 'Bose QuietComfort 45', 'price': '$2100', 'category': 'laptops', 'manufacturer': 'Asus'}}, {'input': \"Extract the product information:\\n<div class='product'><h2>Asus ROG Strix</h2><span class='price'>$448</span><span class='category'>electronics</span><span class='brand'>Microsoft</span></div>\", 'output': {'name': 'Asus ROG Strix', 'price': '$448', 'category': 'electronics', 'manufacturer': 'Microsoft'}}, {'input': \"Extract the product information:\\n<div class='product'><h2>Sony WH-1000XM5</h2><span class='price'>$2492</span><span class='category'>fitness</span><span class='brand'>Apple</span></div>\", 'output': {'name': 'Sony WH-1000XM5', 'price': '$2492', 'category': 'fitness', 'manufacturer': 'Apple'}}, {'input': \"Extract the product information:\\n<div class='product'><h2>DJI Mini 3 Pro</h2><span class='price'>$650</span><span class='category'>smartphones</span><span class='brand'>Asus</span></div>\", 'output': {'name': 'DJI Mini 3 Pro', 'price': '$650', 'category': 'smartphones', 'manufacturer': 'Asus'}}, {'input': \"Extract the product information:\\n<div class='product'><h2>Asus ROG Strix</h2><span class='price'>$1447</span><span class='category'>cameras</span><span class='brand'>Samsung</span></div>\", 'output': {'name': 'Asus ROG Strix', 'price': '$1447', 'category': 'cameras', 'manufacturer': 'Samsung'}}, {'input': \"Extract the product information:\\n<div class='product'><h2>Fitbit Charge 5</h2><span class='price'>$979</span><span class='category'>gaming</span><span class='brand'>Sony</span></div>\", 'output': {'name': 'Fitbit Charge 5', 'price': '$979', 'category': 'gaming', 'manufacturer': 'Sony'}}, {'input': \"Extract the product information:\\n<div class='product'><h2>DJI Mini 3 Pro</h2><span class='price'>$712</span><span class='category'>drones</span><span class='brand'>Canon</span></div>\", 'output': {'name': 'DJI Mini 3 Pro', 'price': '$712', 'category': 'drones', 'manufacturer': 'Canon'}}, {'input': \"Extract the product information:\\n<div class='product'><h2>HP Envy 15</h2><span class='price'>$384</span><span class='category'>drones</span><span class='brand'>Samsung</span></div>\", 'output': {'name': 'HP Envy 15', 'price': '$384', 'category': 'drones', 'manufacturer': 'Samsung'}}, {'input': \"Extract the product information:\\n<div class='product'><h2>Google Pixel 7</h2><span class='price'>$585</span><span class='category'>audio</span><span class='brand'>Google</span></div>\", 'output': {'name': 'Google Pixel 7', 'price': '$585', 'category': 'audio', 'manufacturer': 'Google'}}, {'input': \"Extract the product information:\\n<div class='product'><h2>Xbox Series X</h2><span class='price'>$1403</span><span class='category'>audio</span><span class='brand'>Apple</span></div>\", 'output': {'name': 'Xbox Series X', 'price': '$1403', 'category': 'audio', 'manufacturer': 'Apple'}}, {'input': \"Extract the product information:\\n<div class='product'><h2>DJI Mini 3 Pro</h2><span class='price'>$1793</span><span class='category'>smartphones</span><span class='brand'>Apple</span></div>\", 'output': {'name': 'DJI Mini 3 Pro', 'price': '$1793', 'category': 'smartphones', 'manufacturer': 'Apple'}}, {'input': \"Extract the product information:\\n<div class='product'><h2>Logitech MX Master 3</h2><span class='price'>$2061</span><span class='category'>laptops</span><span class='brand'>Amazon</span></div>\", 'output': {'name': 'Logitech MX Master 3', 'price': '$2061', 'category': 'laptops', 'manufacturer': 'Amazon'}}, {'input': \"Extract the product information:\\n<div class='product'><h2>Samsung Galaxy S23</h2><span class='price'>$258</span><span class='category'>electronics</span><span class='brand'>Canon</span></div>\", 'output': {'name': 'Samsung Galaxy S23', 'price': '$258', 'category': 'electronics', 'manufacturer': 'Canon'}}, {'input': \"Extract the product information:\\n<div class='product'><h2>Bose QuietComfort 45</h2><span class='price'>$650</span><span class='category'>fitness</span><span class='brand'>Asus</span></div>\", 'output': {'name': 'Bose QuietComfort 45', 'price': '$650', 'category': 'fitness', 'manufacturer': 'Asus'}}, {'input': \"Extract the product information:\\n<div class='product'><h2>Bose QuietComfort 45</h2><span class='price'>$979</span><span class='category'>fitness</span><span class='brand'>Samsung</span></div>\", 'output': {'name': 'Bose QuietComfort 45', 'price': '$979', 'category': 'fitness', 'manufacturer': 'Samsung'}}, {'input': \"Extract the product information:\\n<div class='product'><h2>Google Pixel 7</h2><span class='price'>$1106</span><span class='category'>gaming</span><span class='brand'>Asus</span></div>\", 'output': {'name': 'Google Pixel 7', 'price': '$1106', 'category': 'gaming', 'manufacturer': 'Asus'}}, {'input': \"Extract the product information:\\n<div class='product'><h2>Xbox Series X</h2><span class='price'>$1344</span><span class='category'>audio</span><span class='brand'>Canon</span></div>\", 'output': {'name': 'Xbox Series X', 'price': '$1344', 'category': 'audio', 'manufacturer': 'Canon'}}, {'input': \"Extract the product information:\\n<div class='product'><h2>Fitbit Charge 5</h2><span class='price'>$1708</span><span class='category'>electronics</span><span class='brand'>Sony</span></div>\", 'output': {'name': 'Fitbit Charge 5', 'price': '$1708', 'category': 'electronics', 'manufacturer': 'Sony'}}, {'input': \"Extract the product information:\\n<div class='product'><h2>Dell XPS 13</h2><span class='price'>$2061</span><span class='category'>smartphones</span><span class='brand'>Canon</span></div>\", 'output': {'name': 'Dell XPS 13', 'price': '$2061', 'category': 'smartphones', 'manufacturer': 'Canon'}}, {'input': \"Extract the product information:\\n<div class='product'><h2>DJI Mini 3 Pro</h2><span class='price'>$1162</span><span class='category'>gaming</span><span class='brand'>HP</span></div>\", 'output': {'name': 'DJI Mini 3 Pro', 'price': '$1162', 'category': 'gaming', 'manufacturer': 'HP'}}, {'input': \"Extract the product information:\\n<div class='product'><h2>Nintendo Switch</h2><span class='price'>$1086</span><span class='category'>smartphones</span><span class='brand'>Canon</span></div>\", 'output': {'name': 'Nintendo Switch', 'price': '$1086', 'category': 'smartphones', 'manufacturer': 'Canon'}}, {'input': \"Extract the product information:\\n<div class='product'><h2>Apple Watch</h2><span class='price'>$258</span><span class='category'>audio</span><span class='brand'>Google</span></div>\", 'output': {'name': 'Apple Watch', 'price': '$258', 'category': 'audio', 'manufacturer': 'Google'}}, {'input': \"Extract the product information:\\n<div class='product'><h2>Apple Watch</h2><span class='price'>$1162</span><span class='category'>gaming</span><span class='brand'>Dell</span></div>\", 'output': {'name': 'Apple Watch', 'price': '$1162', 'category': 'gaming', 'manufacturer': 'Dell'}}, {'input': \"Extract the product information:\\n<div class='product'><h2>HP Envy 15</h2><span class='price'>$1403</span><span class='category'>cameras</span><span class='brand'>Asus</span></div>\", 'output': {'name': 'HP Envy 15', 'price': '$1403', 'category': 'cameras', 'manufacturer': 'Asus'}}, {'input': \"Extract the product information:\\n<div class='product'><h2>MacBook Pro 14</h2><span class='price'>$650</span><span class='category'>fitness</span><span class='brand'>Asus</span></div>\", 'output': {'name': 'MacBook Pro 14', 'price': '$650', 'category': 'fitness', 'manufacturer': 'Asus'}}, {'input': \"Extract the product information:\\n<div class='product'><h2>Nikon Z6 II</h2><span class='price'>$1344</span><span class='category'>cameras</span><span class='brand'>Microsoft</span></div>\", 'output': {'name': 'Nikon Z6 II', 'price': '$1344', 'category': 'cameras', 'manufacturer': 'Microsoft'}}, {'input': \"Extract the product information:\\n<div class='product'><h2>Xbox Series X</h2><span class='price'>$650</span><span class='category'>cameras</span><span class='brand'>Canon</span></div>\", 'output': {'name': 'Xbox Series X', 'price': '$650', 'category': 'cameras', 'manufacturer': 'Canon'}}, {'input': \"Extract the product information:\\n<div class='product'><h2>Apple Watch</h2><span class='price'>$1688</span><span class='category'>drones</span><span class='brand'>Google</span></div>\", 'output': {'name': 'Apple Watch', 'price': '$1688', 'category': 'drones', 'manufacturer': 'Google'}}, {'input': \"Extract the product information:\\n<div class='product'><h2>Razer DeathAdder V2</h2><span class='price'>$453</span><span class='category'>laptops</span><span class='brand'>Dell</span></div>\", 'output': {'name': 'Razer DeathAdder V2', 'price': '$453', 'category': 'laptops', 'manufacturer': 'Dell'}}, {'input': \"Extract the product information:\\n<div class='product'><h2>Dell XPS 13</h2><span class='price'>$979</span><span class='category'>gaming</span><span class='brand'>Microsoft</span></div>\", 'output': {'name': 'Dell XPS 13', 'price': '$979', 'category': 'gaming', 'manufacturer': 'Microsoft'}}, {'input': \"Extract the product information:\\n<div class='product'><h2>Nintendo Switch</h2><span class='price'>$585</span><span class='category'>laptops</span><span class='brand'>Amazon</span></div>\", 'output': {'name': 'Nintendo Switch', 'price': '$585', 'category': 'laptops', 'manufacturer': 'Amazon'}}, {'input': \"Extract the product information:\\n<div class='product'><h2>Logitech MX Master 3</h2><span class='price'>$258</span><span class='category'>cameras</span><span class='brand'>Amazon</span></div>\", 'output': {'name': 'Logitech MX Master 3', 'price': '$258', 'category': 'cameras', 'manufacturer': 'Amazon'}}, {'input': \"Extract the product information:\\n<div class='product'><h2>Xbox Series X</h2><span class='price'>$979</span><span class='category'>cameras</span><span class='brand'>Amazon</span></div>\", 'output': {'name': 'Xbox Series X', 'price': '$979', 'category': 'cameras', 'manufacturer': 'Amazon'}}, {'input': \"Extract the product information:\\n<div class='product'><h2>Dell XPS 13</h2><span class='price'>$1447</span><span class='category'>drones</span><span class='brand'>HP</span></div>\", 'output': {'name': 'Dell XPS 13', 'price': '$1447', 'category': 'drones', 'manufacturer': 'HP'}}, {'input': \"Extract the product information:\\n<div class='product'><h2>Sony WH-1000XM5</h2><span class='price'>$1194</span><span class='category'>gaming</span><span class='brand'>Sony</span></div>\", 'output': {'name': 'Sony WH-1000XM5', 'price': '$1194', 'category': 'gaming', 'manufacturer': 'Sony'}}, {'input': \"Extract the product information:\\n<div class='product'><h2>Google Pixel 7</h2><span class='price'>$534</span><span class='category'>smartphones</span><span class='brand'>Amazon</span></div>\", 'output': {'name': 'Google Pixel 7', 'price': '$534', 'category': 'smartphones', 'manufacturer': 'Amazon'}}, {'input': \"Extract the product information:\\n<div class='product'><h2>Xbox Series X</h2><span class='price'>$1344</span><span class='category'>drones</span><span class='brand'>Microsoft</span></div>\", 'output': {'name': 'Xbox Series X', 'price': '$1344', 'category': 'drones', 'manufacturer': 'Microsoft'}}, {'input': \"Extract the product information:\\n<div class='product'><h2>Canon EOS R</h2><span class='price'>$1688</span><span class='category'>fitness</span><span class='brand'>Asus</span></div>\", 'output': {'name': 'Canon EOS R', 'price': '$1688', 'category': 'fitness', 'manufacturer': 'Asus'}}, {'input': \"Extract the product information:\\n<div class='product'><h2>iPad Air</h2><span class='price'>$819</span><span class='category'>smartphones</span><span class='brand'>Canon</span></div>\", 'output': {'name': 'iPad Air', 'price': '$819', 'category': 'smartphones', 'manufacturer': 'Canon'}}, {'input': \"Extract the product information:\\n<div class='product'><h2>Kindle Paperwhite</h2><span class='price'>$2325</span><span class='category'>smartphones</span><span class='brand'>Amazon</span></div>\", 'output': {'name': 'Kindle Paperwhite', 'price': '$2325', 'category': 'smartphones', 'manufacturer': 'Amazon'}}, {'input': \"Extract the product information:\\n<div class='product'><h2>Asus ROG Strix</h2><span class='price'>$395</span><span class='category'>smartphones</span><span class='brand'>HP</span></div>\", 'output': {'name': 'Asus ROG Strix', 'price': '$395', 'category': 'smartphones', 'manufacturer': 'HP'}}, {'input': \"Extract the product information:\\n<div class='product'><h2>DJI Mini 3 Pro</h2><span class='price'>$1086</span><span class='category'>smartphones</span><span class='brand'>Canon</span></div>\", 'output': {'name': 'DJI Mini 3 Pro', 'price': '$1086', 'category': 'smartphones', 'manufacturer': 'Canon'}}, {'input': \"Extract the product information:\\n<div class='product'><h2>Xbox Series X</h2><span class='price'>$2396</span><span class='category'>cameras</span><span class='brand'>Microsoft</span></div>\", 'output': {'name': 'Xbox Series X', 'price': '$2396', 'category': 'cameras', 'manufacturer': 'Microsoft'}}, {'input': \"Extract the product information:\\n<div class='product'><h2>Logitech MX Master 3</h2><span class='price'>$2429</span><span class='category'>audio</span><span class='brand'>Dell</span></div>\", 'output': {'name': 'Logitech MX Master 3', 'price': '$2429', 'category': 'audio', 'manufacturer': 'Dell'}}, {'input': \"Extract the product information:\\n<div class='product'><h2>Sony WH-1000XM5</h2><span class='price'>$2325</span><span class='category'>smartphones</span><span class='brand'>Amazon</span></div>\", 'output': {'name': 'Sony WH-1000XM5', 'price': '$2325', 'category': 'smartphones', 'manufacturer': 'Amazon'}}, {'input': \"Extract the product information:\\n<div class='product'><h2>Dell XPS 13</h2><span class='price'>$1565</span><span class='category'>electronics</span><span class='brand'>Dell</span></div>\", 'output': {'name': 'Dell XPS 13', 'price': '$1565', 'category': 'electronics', 'manufacturer': 'Dell'}}, {'input': \"Extract the product information:\\n<div class='product'><h2>Kindle Paperwhite</h2><span class='price'>$1576</span><span class='category'>electronics</span><span class='brand'>Google</span></div>\", 'output': {'name': 'Kindle Paperwhite', 'price': '$1576', 'category': 'electronics', 'manufacturer': 'Google'}}, {'input': \"Extract the product information:\\n<div class='product'><h2>PlayStation 5</h2><span class='price'>$1086</span><span class='category'>fitness</span><span class='brand'>Asus</span></div>\", 'output': {'name': 'PlayStation 5', 'price': '$1086', 'category': 'fitness', 'manufacturer': 'Asus'}}, {'input': \"Extract the product information:\\n<div class='product'><h2>Logitech MX Master 3</h2><span class='price'>$333</span><span class='category'>smartphones</span><span class='brand'>Dell</span></div>\", 'output': {'name': 'Logitech MX Master 3', 'price': '$333', 'category': 'smartphones', 'manufacturer': 'Dell'}}, {'input': \"Extract the product information:\\n<div class='product'><h2>Logitech MX Master 3</h2><span class='price'>$819</span><span class='category'>electronics</span><span class='brand'>HP</span></div>\", 'output': {'name': 'Logitech MX Master 3', 'price': '$819', 'category': 'electronics', 'manufacturer': 'HP'}}, {'input': \"Extract the product information:\\n<div class='product'><h2>Dell XPS 13</h2><span class='price'>$1688</span><span class='category'>laptops</span><span class='brand'>HP</span></div>\", 'output': {'name': 'Dell XPS 13', 'price': '$1688', 'category': 'laptops', 'manufacturer': 'HP'}}, {'input': \"Extract the product information:\\n<div class='product'><h2>Dell XPS 13</h2><span class='price'>$1447</span><span class='category'>fitness</span><span class='brand'>Apple</span></div>\", 'output': {'name': 'Dell XPS 13', 'price': '$1447', 'category': 'fitness', 'manufacturer': 'Apple'}}, {'input': \"Extract the product information:\\n<div class='product'><h2>Dell XPS 13</h2><span class='price'>$1793</span><span class='category'>audio</span><span class='brand'>Microsoft</span></div>\", 'output': {'name': 'Dell XPS 13', 'price': '$1793', 'category': 'audio', 'manufacturer': 'Microsoft'}}, {'input': \"Extract the product information:\\n<div class='product'><h2>iPad Air</h2><span class='price'>$448</span><span class='category'>gaming</span><span class='brand'>Asus</span></div>\", 'output': {'name': 'iPad Air', 'price': '$448', 'category': 'gaming', 'manufacturer': 'Asus'}}, {'input': \"Extract the product information:\\n<div class='product'><h2>Fitbit Charge 5</h2><span class='price'>$1685</span><span class='category'>drones</span><span class='brand'>Dell</span></div>\", 'output': {'name': 'Fitbit Charge 5', 'price': '$1685', 'category': 'drones', 'manufacturer': 'Dell'}}, {'input': \"Extract the product information:\\n<div class='product'><h2>DJI Mini 3 Pro</h2><span class='price'>$384</span><span class='category'>electronics</span><span class='brand'>Canon</span></div>\", 'output': {'name': 'DJI Mini 3 Pro', 'price': '$384', 'category': 'electronics', 'manufacturer': 'Canon'}}, {'input': \"Extract the product information:\\n<div class='product'><h2>iPad Air</h2><span class='price'>$1002</span><span class='category'>fitness</span><span class='brand'>Samsung</span></div>\", 'output': {'name': 'iPad Air', 'price': '$1002', 'category': 'fitness', 'manufacturer': 'Samsung'}}, {'input': \"Extract the product information:\\n<div class='product'><h2>HP Envy 15</h2><span class='price'>$2389</span><span class='category'>smartphones</span><span class='brand'>Apple</span></div>\", 'output': {'name': 'HP Envy 15', 'price': '$2389', 'category': 'smartphones', 'manufacturer': 'Apple'}}, {'input': \"Extract the product information:\\n<div class='product'><h2>Sony WH-1000XM5</h2><span class='price'>$915</span><span class='category'>fitness</span><span class='brand'>HP</span></div>\", 'output': {'name': 'Sony WH-1000XM5', 'price': '$915', 'category': 'fitness', 'manufacturer': 'HP'}}, {'input': \"Extract the product information:\\n<div class='product'><h2>Canon EOS R</h2><span class='price'>$395</span><span class='category'>drones</span><span class='brand'>Apple</span></div>\", 'output': {'name': 'Canon EOS R', 'price': '$395', 'category': 'drones', 'manufacturer': 'Apple'}}, {'input': \"Extract the product information:\\n<div class='product'><h2>Xbox Series X</h2><span class='price'>$1246</span><span class='category'>gaming</span><span class='brand'>Sony</span></div>\", 'output': {'name': 'Xbox Series X', 'price': '$1246', 'category': 'gaming', 'manufacturer': 'Sony'}}, {'input': \"Extract the product information:\\n<div class='product'><h2>Logitech MX Master 3</h2><span class='price'>$951</span><span class='category'>laptops</span><span class='brand'>Apple</span></div>\", 'output': {'name': 'Logitech MX Master 3', 'price': '$951', 'category': 'laptops', 'manufacturer': 'Apple'}}, {'input': \"Extract the product information:\\n<div class='product'><h2>Sony WH-1000XM5</h2><span class='price'>$446</span><span class='category'>electronics</span><span class='brand'>Sony</span></div>\", 'output': {'name': 'Sony WH-1000XM5', 'price': '$446', 'category': 'electronics', 'manufacturer': 'Sony'}}, {'input': \"Extract the product information:\\n<div class='product'><h2>Google Pixel 7</h2><span class='price'>$1002</span><span class='category'>gaming</span><span class='brand'>Dell</span></div>\", 'output': {'name': 'Google Pixel 7', 'price': '$1002', 'category': 'gaming', 'manufacturer': 'Dell'}}, {'input': \"Extract the product information:\\n<div class='product'><h2>Kindle Paperwhite</h2><span class='price'>$395</span><span class='category'>laptops</span><span class='brand'>Canon</span></div>\", 'output': {'name': 'Kindle Paperwhite', 'price': '$395', 'category': 'laptops', 'manufacturer': 'Canon'}}, {'input': \"Extract the product information:\\n<div class='product'><h2>HP Envy 15</h2><span class='price'>$395</span><span class='category'>cameras</span><span class='brand'>Canon</span></div>\", 'output': {'name': 'HP Envy 15', 'price': '$395', 'category': 'cameras', 'manufacturer': 'Canon'}}, {'input': \"Extract the product information:\\n<div class='product'><h2>HP Envy 15</h2><span class='price'>$2389</span><span class='category'>laptops</span><span class='brand'>Asus</span></div>\", 'output': {'name': 'HP Envy 15', 'price': '$2389', 'category': 'laptops', 'manufacturer': 'Asus'}}, {'input': \"Extract the product information:\\n<div class='product'><h2>Razer DeathAdder V2</h2><span class='price'>$446</span><span class='category'>smartphones</span><span class='brand'>Dell</span></div>\", 'output': {'name': 'Razer DeathAdder V2', 'price': '$446', 'category': 'smartphones', 'manufacturer': 'Dell'}}, {'input': \"Extract the product information:\\n<div class='product'><h2>Razer DeathAdder V2</h2><span class='price'>$2396</span><span class='category'>fitness</span><span class='brand'>Sony</span></div>\", 'output': {'name': 'Razer DeathAdder V2', 'price': '$2396', 'category': 'fitness', 'manufacturer': 'Sony'}}, {'input': \"Extract the product information:\\n<div class='product'><h2>Razer DeathAdder V2</h2><span class='price'>$2325</span><span class='category'>electronics</span><span class='brand'>Amazon</span></div>\", 'output': {'name': 'Razer DeathAdder V2', 'price': '$2325', 'category': 'electronics', 'manufacturer': 'Amazon'}}, {'input': \"Extract the product information:\\n<div class='product'><h2>Google Pixel 7</h2><span class='price'>$1576</span><span class='category'>gaming</span><span class='brand'>Amazon</span></div>\", 'output': {'name': 'Google Pixel 7', 'price': '$1576', 'category': 'gaming', 'manufacturer': 'Amazon'}}, {'input': \"Extract the product information:\\n<div class='product'><h2>Fitbit Charge 5</h2><span class='price'>$2004</span><span class='category'>laptops</span><span class='brand'>Dell</span></div>\", 'output': {'name': 'Fitbit Charge 5', 'price': '$2004', 'category': 'laptops', 'manufacturer': 'Dell'}}, {'input': \"Extract the product information:\\n<div class='product'><h2>Asus ROG Strix</h2><span class='price'>$585</span><span class='category'>smartphones</span><span class='brand'>Canon</span></div>\", 'output': {'name': 'Asus ROG Strix', 'price': '$585', 'category': 'smartphones', 'manufacturer': 'Canon'}}, {'input': \"Extract the product information:\\n<div class='product'><h2>Logitech MX Master 3</h2><span class='price'>$1002</span><span class='category'>electronics</span><span class='brand'>HP</span></div>\", 'output': {'name': 'Logitech MX Master 3', 'price': '$1002', 'category': 'electronics', 'manufacturer': 'HP'}}, {'input': \"Extract the product information:\\n<div class='product'><h2>HP Envy 15</h2><span class='price'>$1086</span><span class='category'>gaming</span><span class='brand'>Asus</span></div>\", 'output': {'name': 'HP Envy 15', 'price': '$1086', 'category': 'gaming', 'manufacturer': 'Asus'}}, {'input': \"Extract the product information:\\n<div class='product'><h2>Nikon Z6 II</h2><span class='price'>$1793</span><span class='category'>fitness</span><span class='brand'>Canon</span></div>\", 'output': {'name': 'Nikon Z6 II', 'price': '$1793', 'category': 'fitness', 'manufacturer': 'Canon'}}, {'input': \"Extract the product information:\\n<div class='product'><h2>Nintendo Switch</h2><span class='price'>$712</span><span class='category'>smartphones</span><span class='brand'>Google</span></div>\", 'output': {'name': 'Nintendo Switch', 'price': '$712', 'category': 'smartphones', 'manufacturer': 'Google'}}, {'input': \"Extract the product information:\\n<div class='product'><h2>Canon EOS R</h2><span class='price'>$2061</span><span class='category'>fitness</span><span class='brand'>Amazon</span></div>\", 'output': {'name': 'Canon EOS R', 'price': '$2061', 'category': 'fitness', 'manufacturer': 'Amazon'}}, {'input': \"Extract the product information:\\n<div class='product'><h2>DJI Mini 3 Pro</h2><span class='price'>$380</span><span class='category'>smartphones</span><span class='brand'>Sony</span></div>\", 'output': {'name': 'DJI Mini 3 Pro', 'price': '$380', 'category': 'smartphones', 'manufacturer': 'Sony'}}, {'input': \"Extract the product information:\\n<div class='product'><h2>Kindle Paperwhite</h2><span class='price'>$1447</span><span class='category'>electronics</span><span class='brand'>Asus</span></div>\", 'output': {'name': 'Kindle Paperwhite', 'price': '$1447', 'category': 'electronics', 'manufacturer': 'Asus'}}, {'input': \"Extract the product information:\\n<div class='product'><h2>Samsung Galaxy S23</h2><span class='price'>$2098</span><span class='category'>audio</span><span class='brand'>Google</span></div>\", 'output': {'name': 'Samsung Galaxy S23', 'price': '$2098', 'category': 'audio', 'manufacturer': 'Google'}}, {'input': \"Extract the product information:\\n<div class='product'><h2>Razer DeathAdder V2</h2><span class='price'>$951</span><span class='category'>smartphones</span><span class='brand'>Asus</span></div>\", 'output': {'name': 'Razer DeathAdder V2', 'price': '$951', 'category': 'smartphones', 'manufacturer': 'Asus'}}, {'input': \"Extract the product information:\\n<div class='product'><h2>Logitech MX Master 3</h2><span class='price'>$1162</span><span class='category'>smartphones</span><span class='brand'>Amazon</span></div>\", 'output': {'name': 'Logitech MX Master 3', 'price': '$1162', 'category': 'smartphones', 'manufacturer': 'Amazon'}}, {'input': \"Extract the product information:\\n<div class='product'><h2>Samsung Galaxy S23</h2><span class='price'>$2098</span><span class='category'>cameras</span><span class='brand'>Samsung</span></div>\", 'output': {'name': 'Samsung Galaxy S23', 'price': '$2098', 'category': 'cameras', 'manufacturer': 'Samsung'}}, {'input': \"Extract the product information:\\n<div class='product'><h2>Dell XPS 13</h2><span class='price'>$1793</span><span class='category'>smartphones</span><span class='brand'>Asus</span></div>\", 'output': {'name': 'Dell XPS 13', 'price': '$1793', 'category': 'smartphones', 'manufacturer': 'Asus'}}, {'input': \"Extract the product information:\\n<div class='product'><h2>PlayStation 5</h2><span class='price'>$1246</span><span class='category'>drones</span><span class='brand'>HP</span></div>\", 'output': {'name': 'PlayStation 5', 'price': '$1246', 'category': 'drones', 'manufacturer': 'HP'}}, {'input': \"Extract the product information:\\n<div class='product'><h2>Nikon Z6 II</h2><span class='price'>$2102</span><span class='category'>electronics</span><span class='brand'>Amazon</span></div>\", 'output': {'name': 'Nikon Z6 II', 'price': '$2102', 'category': 'electronics', 'manufacturer': 'Amazon'}}, {'input': \"Extract the product information:\\n<div class='product'><h2>PlayStation 5</h2><span class='price'>$1194</span><span class='category'>laptops</span><span class='brand'>Google</span></div>\", 'output': {'name': 'PlayStation 5', 'price': '$1194', 'category': 'laptops', 'manufacturer': 'Google'}}, {'input': \"Extract the product information:\\n<div class='product'><h2>Nikon Z6 II</h2><span class='price'>$299</span><span class='category'>cameras</span><span class='brand'>Canon</span></div>\", 'output': {'name': 'Nikon Z6 II', 'price': '$299', 'category': 'cameras', 'manufacturer': 'Canon'}}, {'input': \"Extract the product information:\\n<div class='product'><h2>Xbox Series X</h2><span class='price'>$677</span><span class='category'>electronics</span><span class='brand'>Google</span></div>\", 'output': {'name': 'Xbox Series X', 'price': '$677', 'category': 'electronics', 'manufacturer': 'Google'}}, {'input': \"Extract the product information:\\n<div class='product'><h2>HP Envy 15</h2><span class='price'>$299</span><span class='category'>cameras</span><span class='brand'>Google</span></div>\", 'output': {'name': 'HP Envy 15', 'price': '$299', 'category': 'cameras', 'manufacturer': 'Google'}}, {'input': \"Extract the product information:\\n<div class='product'><h2>Samsung Galaxy S23</h2><span class='price'>$915</span><span class='category'>drones</span><span class='brand'>Samsung</span></div>\", 'output': {'name': 'Samsung Galaxy S23', 'price': '$915', 'category': 'drones', 'manufacturer': 'Samsung'}}, {'input': \"Extract the product information:\\n<div class='product'><h2>Kindle Paperwhite</h2><span class='price'>$380</span><span class='category'>fitness</span><span class='brand'>HP</span></div>\", 'output': {'name': 'Kindle Paperwhite', 'price': '$380', 'category': 'fitness', 'manufacturer': 'HP'}}, {'input': \"Extract the product information:\\n<div class='product'><h2>Google Pixel 7</h2><span class='price'>$2396</span><span class='category'>fitness</span><span class='brand'>Apple</span></div>\", 'output': {'name': 'Google Pixel 7', 'price': '$2396', 'category': 'fitness', 'manufacturer': 'Apple'}}, {'input': \"Extract the product information:\\n<div class='product'><h2>Logitech MX Master 3</h2><span class='price'>$1688</span><span class='category'>gaming</span><span class='brand'>Dell</span></div>\", 'output': {'name': 'Logitech MX Master 3', 'price': '$1688', 'category': 'gaming', 'manufacturer': 'Dell'}}, {'input': \"Extract the product information:\\n<div class='product'><h2>Bose QuietComfort 45</h2><span class='price'>$395</span><span class='category'>smartphones</span><span class='brand'>Asus</span></div>\", 'output': {'name': 'Bose QuietComfort 45', 'price': '$395', 'category': 'smartphones', 'manufacturer': 'Asus'}}, {'input': \"Extract the product information:\\n<div class='product'><h2>Dell XPS 13</h2><span class='price'>$333</span><span class='category'>audio</span><span class='brand'>Samsung</span></div>\", 'output': {'name': 'Dell XPS 13', 'price': '$333', 'category': 'audio', 'manufacturer': 'Samsung'}}, {'input': \"Extract the product information:\\n<div class='product'><h2>Bose QuietComfort 45</h2><span class='price'>$1685</span><span class='category'>cameras</span><span class='brand'>Apple</span></div>\", 'output': {'name': 'Bose QuietComfort 45', 'price': '$1685', 'category': 'cameras', 'manufacturer': 'Apple'}}, {'input': \"Extract the product information:\\n<div class='product'><h2>Razer DeathAdder V2</h2><span class='price'>$677</span><span class='category'>laptops</span><span class='brand'>Asus</span></div>\", 'output': {'name': 'Razer DeathAdder V2', 'price': '$677', 'category': 'laptops', 'manufacturer': 'Asus'}}, {'input': \"Extract the product information:\\n<div class='product'><h2>Xbox Series X</h2><span class='price'>$585</span><span class='category'>fitness</span><span class='brand'>Google</span></div>\", 'output': {'name': 'Xbox Series X', 'price': '$585', 'category': 'fitness', 'manufacturer': 'Google'}}, {'input': \"Extract the product information:\\n<div class='product'><h2>Xbox Series X</h2><span class='price'>$1403</span><span class='category'>smartphones</span><span class='brand'>Asus</span></div>\", 'output': {'name': 'Xbox Series X', 'price': '$1403', 'category': 'smartphones', 'manufacturer': 'Asus'}}, {'input': \"Extract the product information:\\n<div class='product'><h2>MacBook Pro 14</h2><span class='price'>$930</span><span class='category'>audio</span><span class='brand'>Dell</span></div>\", 'output': {'name': 'MacBook Pro 14', 'price': '$930', 'category': 'audio', 'manufacturer': 'Dell'}}, {'input': \"Extract the product information:\\n<div class='product'><h2>Razer DeathAdder V2</h2><span class='price'>$712</span><span class='category'>fitness</span><span class='brand'>Google</span></div>\", 'output': {'name': 'Razer DeathAdder V2', 'price': '$712', 'category': 'fitness', 'manufacturer': 'Google'}}, {'input': \"Extract the product information:\\n<div class='product'><h2>Fitbit Charge 5</h2><span class='price'>$819</span><span class='category'>electronics</span><span class='brand'>Apple</span></div>\", 'output': {'name': 'Fitbit Charge 5', 'price': '$819', 'category': 'electronics', 'manufacturer': 'Apple'}}, {'input': \"Extract the product information:\\n<div class='product'><h2>Canon EOS R</h2><span class='price'>$1106</span><span class='category'>drones</span><span class='brand'>Google</span></div>\", 'output': {'name': 'Canon EOS R', 'price': '$1106', 'category': 'drones', 'manufacturer': 'Google'}}, {'input': \"Extract the product information:\\n<div class='product'><h2>Sony WH-1000XM5</h2><span class='price'>$951</span><span class='category'>drones</span><span class='brand'>Amazon</span></div>\", 'output': {'name': 'Sony WH-1000XM5', 'price': '$951', 'category': 'drones', 'manufacturer': 'Amazon'}}, {'input': \"Extract the product information:\\n<div class='product'><h2>HP Envy 15</h2><span class='price'>$258</span><span class='category'>fitness</span><span class='brand'>Sony</span></div>\", 'output': {'name': 'HP Envy 15', 'price': '$258', 'category': 'fitness', 'manufacturer': 'Sony'}}, {'input': \"Extract the product information:\\n<div class='product'><h2>HP Envy 15</h2><span class='price'>$454</span><span class='category'>gaming</span><span class='brand'>HP</span></div>\", 'output': {'name': 'HP Envy 15', 'price': '$454', 'category': 'gaming', 'manufacturer': 'HP'}}, {'input': \"Extract the product information:\\n<div class='product'><h2>iPad Air</h2><span class='price'>$563</span><span class='category'>fitness</span><span class='brand'>Dell</span></div>\", 'output': {'name': 'iPad Air', 'price': '$563', 'category': 'fitness', 'manufacturer': 'Dell'}}, {'input': \"Extract the product information:\\n<div class='product'><h2>MacBook Pro 14</h2><span class='price'>$1194</span><span class='category'>audio</span><span class='brand'>HP</span></div>\", 'output': {'name': 'MacBook Pro 14', 'price': '$1194', 'category': 'audio', 'manufacturer': 'HP'}}, {'input': \"Extract the product information:\\n<div class='product'><h2>Apple Watch</h2><span class='price'>$2389</span><span class='category'>cameras</span><span class='brand'>Google</span></div>\", 'output': {'name': 'Apple Watch', 'price': '$2389', 'category': 'cameras', 'manufacturer': 'Google'}}, {'input': \"Extract the product information:\\n<div class='product'><h2>Bose QuietComfort 45</h2><span class='price'>$2325</span><span class='category'>laptops</span><span class='brand'>Samsung</span></div>\", 'output': {'name': 'Bose QuietComfort 45', 'price': '$2325', 'category': 'laptops', 'manufacturer': 'Samsung'}}, {'input': \"Extract the product information:\\n<div class='product'><h2>PlayStation 5</h2><span class='price'>$2492</span><span class='category'>gaming</span><span class='brand'>Apple</span></div>\", 'output': {'name': 'PlayStation 5', 'price': '$2492', 'category': 'gaming', 'manufacturer': 'Apple'}}, {'input': \"Extract the product information:\\n<div class='product'><h2>Dell XPS 13</h2><span class='price'>$1688</span><span class='category'>smartphones</span><span class='brand'>Apple</span></div>\", 'output': {'name': 'Dell XPS 13', 'price': '$1688', 'category': 'smartphones', 'manufacturer': 'Apple'}}, {'input': \"Extract the product information:\\n<div class='product'><h2>HP Envy 15</h2><span class='price'>$563</span><span class='category'>smartphones</span><span class='brand'>Canon</span></div>\", 'output': {'name': 'HP Envy 15', 'price': '$563', 'category': 'smartphones', 'manufacturer': 'Canon'}}, {'input': \"Extract the product information:\\n<div class='product'><h2>Apple Watch</h2><span class='price'>$1344</span><span class='category'>audio</span><span class='brand'>HP</span></div>\", 'output': {'name': 'Apple Watch', 'price': '$1344', 'category': 'audio', 'manufacturer': 'HP'}}, {'input': \"Extract the product information:\\n<div class='product'><h2>MacBook Pro 14</h2><span class='price'>$437</span><span class='category'>smartphones</span><span class='brand'>Dell</span></div>\", 'output': {'name': 'MacBook Pro 14', 'price': '$437', 'category': 'smartphones', 'manufacturer': 'Dell'}}, {'input': \"Extract the product information:\\n<div class='product'><h2>Nintendo Switch</h2><span class='price'>$2102</span><span class='category'>laptops</span><span class='brand'>Microsoft</span></div>\", 'output': {'name': 'Nintendo Switch', 'price': '$2102', 'category': 'laptops', 'manufacturer': 'Microsoft'}}, {'input': \"Extract the product information:\\n<div class='product'><h2>Bose QuietComfort 45</h2><span class='price'>$951</span><span class='category'>fitness</span><span class='brand'>Canon</span></div>\", 'output': {'name': 'Bose QuietComfort 45', 'price': '$951', 'category': 'fitness', 'manufacturer': 'Canon'}}, {'input': \"Extract the product information:\\n<div class='product'><h2>Google Pixel 7</h2><span class='price'>$819</span><span class='category'>drones</span><span class='brand'>Dell</span></div>\", 'output': {'name': 'Google Pixel 7', 'price': '$819', 'category': 'drones', 'manufacturer': 'Dell'}}, {'input': \"Extract the product information:\\n<div class='product'><h2>Nintendo Switch</h2><span class='price'>$1793</span><span class='category'>gaming</span><span class='brand'>Sony</span></div>\", 'output': {'name': 'Nintendo Switch', 'price': '$1793', 'category': 'gaming', 'manufacturer': 'Sony'}}, {'input': \"Extract the product information:\\n<div class='product'><h2>Razer DeathAdder V2</h2><span class='price'>$1403</span><span class='category'>electronics</span><span class='brand'>Samsung</span></div>\", 'output': {'name': 'Razer DeathAdder V2', 'price': '$1403', 'category': 'electronics', 'manufacturer': 'Samsung'}}, {'input': \"Extract the product information:\\n<div class='product'><h2>Nikon Z6 II</h2><span class='price'>$677</span><span class='category'>electronics</span><span class='brand'>HP</span></div>\", 'output': {'name': 'Nikon Z6 II', 'price': '$677', 'category': 'electronics', 'manufacturer': 'HP'}}, {'input': \"Extract the product information:\\n<div class='product'><h2>Nintendo Switch</h2><span class='price'>$1688</span><span class='category'>laptops</span><span class='brand'>Sony</span></div>\", 'output': {'name': 'Nintendo Switch', 'price': '$1688', 'category': 'laptops', 'manufacturer': 'Sony'}}, {'input': \"Extract the product information:\\n<div class='product'><h2>Bose QuietComfort 45</h2><span class='price'>$1793</span><span class='category'>drones</span><span class='brand'>Samsung</span></div>\", 'output': {'name': 'Bose QuietComfort 45', 'price': '$1793', 'category': 'drones', 'manufacturer': 'Samsung'}}, {'input': \"Extract the product information:\\n<div class='product'><h2>Razer DeathAdder V2</h2><span class='price'>$453</span><span class='category'>gaming</span><span class='brand'>Amazon</span></div>\", 'output': {'name': 'Razer DeathAdder V2', 'price': '$453', 'category': 'gaming', 'manufacturer': 'Amazon'}}, {'input': \"Extract the product information:\\n<div class='product'><h2>MacBook Pro 14</h2><span class='price'>$446</span><span class='category'>laptops</span><span class='brand'>Canon</span></div>\", 'output': {'name': 'MacBook Pro 14', 'price': '$446', 'category': 'laptops', 'manufacturer': 'Canon'}}, {'input': \"Extract the product information:\\n<div class='product'><h2>Kindle Paperwhite</h2><span class='price'>$1793</span><span class='category'>audio</span><span class='brand'>Apple</span></div>\", 'output': {'name': 'Kindle Paperwhite', 'price': '$1793', 'category': 'audio', 'manufacturer': 'Apple'}}, {'input': \"Extract the product information:\\n<div class='product'><h2>PlayStation 5</h2><span class='price'>$2100</span><span class='category'>fitness</span><span class='brand'>Samsung</span></div>\", 'output': {'name': 'PlayStation 5', 'price': '$2100', 'category': 'fitness', 'manufacturer': 'Samsung'}}, {'input': \"Extract the product information:\\n<div class='product'><h2>Razer DeathAdder V2</h2><span class='price'>$384</span><span class='category'>fitness</span><span class='brand'>Apple</span></div>\", 'output': {'name': 'Razer DeathAdder V2', 'price': '$384', 'category': 'fitness', 'manufacturer': 'Apple'}}, {'input': \"Extract the product information:\\n<div class='product'><h2>Apple Watch</h2><span class='price'>$299</span><span class='category'>electronics</span><span class='brand'>Sony</span></div>\", 'output': {'name': 'Apple Watch', 'price': '$299', 'category': 'electronics', 'manufacturer': 'Sony'}}, {'input': \"Extract the product information:\\n<div class='product'><h2>Sony WH-1000XM5</h2><span class='price'>$1576</span><span class='category'>smartphones</span><span class='brand'>Microsoft</span></div>\", 'output': {'name': 'Sony WH-1000XM5', 'price': '$1576', 'category': 'smartphones', 'manufacturer': 'Microsoft'}}, {'input': \"Extract the product information:\\n<div class='product'><h2>Kindle Paperwhite</h2><span class='price'>$299</span><span class='category'>gaming</span><span class='brand'>Asus</span></div>\", 'output': {'name': 'Kindle Paperwhite', 'price': '$299', 'category': 'gaming', 'manufacturer': 'Asus'}}, {'input': \"Extract the product information:\\n<div class='product'><h2>MacBook Pro 14</h2><span class='price'>$2492</span><span class='category'>gaming</span><span class='brand'>Canon</span></div>\", 'output': {'name': 'MacBook Pro 14', 'price': '$2492', 'category': 'gaming', 'manufacturer': 'Canon'}}, {'input': \"Extract the product information:\\n<div class='product'><h2>Logitech MX Master 3</h2><span class='price'>$2061</span><span class='category'>audio</span><span class='brand'>Samsung</span></div>\", 'output': {'name': 'Logitech MX Master 3', 'price': '$2061', 'category': 'audio', 'manufacturer': 'Samsung'}}, {'input': \"Extract the product information:\\n<div class='product'><h2>Samsung Galaxy S23</h2><span class='price'>$380</span><span class='category'>audio</span><span class='brand'>Samsung</span></div>\", 'output': {'name': 'Samsung Galaxy S23', 'price': '$380', 'category': 'audio', 'manufacturer': 'Samsung'}}, {'input': \"Extract the product information:\\n<div class='product'><h2>Logitech MX Master 3</h2><span class='price'>$437</span><span class='category'>cameras</span><span class='brand'>Apple</span></div>\", 'output': {'name': 'Logitech MX Master 3', 'price': '$437', 'category': 'cameras', 'manufacturer': 'Apple'}}, {'input': \"Extract the product information:\\n<div class='product'><h2>Apple Watch</h2><span class='price'>$951</span><span class='category'>drones</span><span class='brand'>Samsung</span></div>\", 'output': {'name': 'Apple Watch', 'price': '$951', 'category': 'drones', 'manufacturer': 'Samsung'}}, {'input': \"Extract the product information:\\n<div class='product'><h2>PlayStation 5</h2><span class='price'>$979</span><span class='category'>smartphones</span><span class='brand'>Samsung</span></div>\", 'output': {'name': 'PlayStation 5', 'price': '$979', 'category': 'smartphones', 'manufacturer': 'Samsung'}}, {'input': \"Extract the product information:\\n<div class='product'><h2>DJI Mini 3 Pro</h2><span class='price'>$2061</span><span class='category'>laptops</span><span class='brand'>Asus</span></div>\", 'output': {'name': 'DJI Mini 3 Pro', 'price': '$2061', 'category': 'laptops', 'manufacturer': 'Asus'}}, {'input': \"Extract the product information:\\n<div class='product'><h2>Dell XPS 13</h2><span class='price'>$1277</span><span class='category'>drones</span><span class='brand'>Amazon</span></div>\", 'output': {'name': 'Dell XPS 13', 'price': '$1277', 'category': 'drones', 'manufacturer': 'Amazon'}}, {'input': \"Extract the product information:\\n<div class='product'><h2>Asus ROG Strix</h2><span class='price'>$1002</span><span class='category'>cameras</span><span class='brand'>Apple</span></div>\", 'output': {'name': 'Asus ROG Strix', 'price': '$1002', 'category': 'cameras', 'manufacturer': 'Apple'}}, {'input': \"Extract the product information:\\n<div class='product'><h2>Razer DeathAdder V2</h2><span class='price'>$930</span><span class='category'>drones</span><span class='brand'>HP</span></div>\", 'output': {'name': 'Razer DeathAdder V2', 'price': '$930', 'category': 'drones', 'manufacturer': 'HP'}}, {'input': \"Extract the product information:\\n<div class='product'><h2>Apple Watch</h2><span class='price'>$563</span><span class='category'>cameras</span><span class='brand'>Samsung</span></div>\", 'output': {'name': 'Apple Watch', 'price': '$563', 'category': 'cameras', 'manufacturer': 'Samsung'}}, {'input': \"Extract the product information:\\n<div class='product'><h2>Logitech MX Master 3</h2><span class='price'>$1194</span><span class='category'>cameras</span><span class='brand'>Canon</span></div>\", 'output': {'name': 'Logitech MX Master 3', 'price': '$1194', 'category': 'cameras', 'manufacturer': 'Canon'}}, {'input': \"Extract the product information:\\n<div class='product'><h2>Samsung Galaxy S23</h2><span class='price'>$1576</span><span class='category'>gaming</span><span class='brand'>Google</span></div>\", 'output': {'name': 'Samsung Galaxy S23', 'price': '$1576', 'category': 'gaming', 'manufacturer': 'Google'}}, {'input': \"Extract the product information:\\n<div class='product'><h2>Fitbit Charge 5</h2><span class='price'>$453</span><span class='category'>drones</span><span class='brand'>Sony</span></div>\", 'output': {'name': 'Fitbit Charge 5', 'price': '$453', 'category': 'drones', 'manufacturer': 'Sony'}}, {'input': \"Extract the product information:\\n<div class='product'><h2>Logitech MX Master 3</h2><span class='price'>$380</span><span class='category'>laptops</span><span class='brand'>Apple</span></div>\", 'output': {'name': 'Logitech MX Master 3', 'price': '$380', 'category': 'laptops', 'manufacturer': 'Apple'}}, {'input': \"Extract the product information:\\n<div class='product'><h2>iPad Air</h2><span class='price'>$2325</span><span class='category'>electronics</span><span class='brand'>Samsung</span></div>\", 'output': {'name': 'iPad Air', 'price': '$2325', 'category': 'electronics', 'manufacturer': 'Samsung'}}, {'input': \"Extract the product information:\\n<div class='product'><h2>Google Pixel 7</h2><span class='price'>$585</span><span class='category'>audio</span><span class='brand'>Asus</span></div>\", 'output': {'name': 'Google Pixel 7', 'price': '$585', 'category': 'audio', 'manufacturer': 'Asus'}}, {'input': \"Extract the product information:\\n<div class='product'><h2>Logitech MX Master 3</h2><span class='price'>$585</span><span class='category'>gaming</span><span class='brand'>HP</span></div>\", 'output': {'name': 'Logitech MX Master 3', 'price': '$585', 'category': 'gaming', 'manufacturer': 'HP'}}, {'input': \"Extract the product information:\\n<div class='product'><h2>Kindle Paperwhite</h2><span class='price'>$1576</span><span class='category'>smartphones</span><span class='brand'>Canon</span></div>\", 'output': {'name': 'Kindle Paperwhite', 'price': '$1576', 'category': 'smartphones', 'manufacturer': 'Canon'}}, {'input': \"Extract the product information:\\n<div class='product'><h2>PlayStation 5</h2><span class='price'>$1685</span><span class='category'>smartphones</span><span class='brand'>Amazon</span></div>\", 'output': {'name': 'PlayStation 5', 'price': '$1685', 'category': 'smartphones', 'manufacturer': 'Amazon'}}, {'input': \"Extract the product information:\\n<div class='product'><h2>Fitbit Charge 5</h2><span class='price'>$453</span><span class='category'>audio</span><span class='brand'>Amazon</span></div>\", 'output': {'name': 'Fitbit Charge 5', 'price': '$453', 'category': 'audio', 'manufacturer': 'Amazon'}}, {'input': \"Extract the product information:\\n<div class='product'><h2>Xbox Series X</h2><span class='price'>$1447</span><span class='category'>cameras</span><span class='brand'>Asus</span></div>\", 'output': {'name': 'Xbox Series X', 'price': '$1447', 'category': 'cameras', 'manufacturer': 'Asus'}}, {'input': \"Extract the product information:\\n<div class='product'><h2>Xbox Series X</h2><span class='price'>$454</span><span class='category'>smartphones</span><span class='brand'>Samsung</span></div>\", 'output': {'name': 'Xbox Series X', 'price': '$454', 'category': 'smartphones', 'manufacturer': 'Samsung'}}, {'input': \"Extract the product information:\\n<div class='product'><h2>PlayStation 5</h2><span class='price'>$1246</span><span class='category'>electronics</span><span class='brand'>Microsoft</span></div>\", 'output': {'name': 'PlayStation 5', 'price': '$1246', 'category': 'electronics', 'manufacturer': 'Microsoft'}}, {'input': \"Extract the product information:\\n<div class='product'><h2>Apple Watch</h2><span class='price'>$1793</span><span class='category'>smartphones</span><span class='brand'>Dell</span></div>\", 'output': {'name': 'Apple Watch', 'price': '$1793', 'category': 'smartphones', 'manufacturer': 'Dell'}}, {'input': \"Extract the product information:\\n<div class='product'><h2>Fitbit Charge 5</h2><span class='price'>$819</span><span class='category'>electronics</span><span class='brand'>Apple</span></div>\", 'output': {'name': 'Fitbit Charge 5', 'price': '$819', 'category': 'electronics', 'manufacturer': 'Apple'}}, {'input': \"Extract the product information:\\n<div class='product'><h2>Google Pixel 7</h2><span class='price'>$677</span><span class='category'>cameras</span><span class='brand'>Amazon</span></div>\", 'output': {'name': 'Google Pixel 7', 'price': '$677', 'category': 'cameras', 'manufacturer': 'Amazon'}}, {'input': \"Extract the product information:\\n<div class='product'><h2>iPad Air</h2><span class='price'>$395</span><span class='category'>audio</span><span class='brand'>Apple</span></div>\", 'output': {'name': 'iPad Air', 'price': '$395', 'category': 'audio', 'manufacturer': 'Apple'}}, {'input': \"Extract the product information:\\n<div class='product'><h2>Bose QuietComfort 45</h2><span class='price'>$1685</span><span class='category'>drones</span><span class='brand'>Google</span></div>\", 'output': {'name': 'Bose QuietComfort 45', 'price': '$1685', 'category': 'drones', 'manufacturer': 'Google'}}, {'input': \"Extract the product information:\\n<div class='product'><h2>Bose QuietComfort 45</h2><span class='price'>$1106</span><span class='category'>drones</span><span class='brand'>Canon</span></div>\", 'output': {'name': 'Bose QuietComfort 45', 'price': '$1106', 'category': 'drones', 'manufacturer': 'Canon'}}, {'input': \"Extract the product information:\\n<div class='product'><h2>Samsung Galaxy S23</h2><span class='price'>$299</span><span class='category'>laptops</span><span class='brand'>Sony</span></div>\", 'output': {'name': 'Samsung Galaxy S23', 'price': '$299', 'category': 'laptops', 'manufacturer': 'Sony'}}, {'input': \"Extract the product information:\\n<div class='product'><h2>Logitech MX Master 3</h2><span class='price'>$650</span><span class='category'>laptops</span><span class='brand'>Dell</span></div>\", 'output': {'name': 'Logitech MX Master 3', 'price': '$650', 'category': 'laptops', 'manufacturer': 'Dell'}}, {'input': \"Extract the product information:\\n<div class='product'><h2>Dell XPS 13</h2><span class='price'>$1793</span><span class='category'>laptops</span><span class='brand'>Asus</span></div>\", 'output': {'name': 'Dell XPS 13', 'price': '$1793', 'category': 'laptops', 'manufacturer': 'Asus'}}, {'input': \"Extract the product information:\\n<div class='product'><h2>Kindle Paperwhite</h2><span class='price'>$2098</span><span class='category'>laptops</span><span class='brand'>Apple</span></div>\", 'output': {'name': 'Kindle Paperwhite', 'price': '$2098', 'category': 'laptops', 'manufacturer': 'Apple'}}, {'input': \"Extract the product information:\\n<div class='product'><h2>Logitech MX Master 3</h2><span class='price'>$1194</span><span class='category'>gaming</span><span class='brand'>Apple</span></div>\", 'output': {'name': 'Logitech MX Master 3', 'price': '$1194', 'category': 'gaming', 'manufacturer': 'Apple'}}, {'input': \"Extract the product information:\\n<div class='product'><h2>Kindle Paperwhite</h2><span class='price'>$2098</span><span class='category'>cameras</span><span class='brand'>HP</span></div>\", 'output': {'name': 'Kindle Paperwhite', 'price': '$2098', 'category': 'cameras', 'manufacturer': 'HP'}}, {'input': \"Extract the product information:\\n<div class='product'><h2>Apple Watch</h2><span class='price'>$1162</span><span class='category'>laptops</span><span class='brand'>HP</span></div>\", 'output': {'name': 'Apple Watch', 'price': '$1162', 'category': 'laptops', 'manufacturer': 'HP'}}, {'input': \"Extract the product information:\\n<div class='product'><h2>Razer DeathAdder V2</h2><span class='price'>$563</span><span class='category'>cameras</span><span class='brand'>Sony</span></div>\", 'output': {'name': 'Razer DeathAdder V2', 'price': '$563', 'category': 'cameras', 'manufacturer': 'Sony'}}, {'input': \"Extract the product information:\\n<div class='product'><h2>Fitbit Charge 5</h2><span class='price'>$2004</span><span class='category'>gaming</span><span class='brand'>Asus</span></div>\", 'output': {'name': 'Fitbit Charge 5', 'price': '$2004', 'category': 'gaming', 'manufacturer': 'Asus'}}, {'input': \"Extract the product information:\\n<div class='product'><h2>Asus ROG Strix</h2><span class='price'>$677</span><span class='category'>audio</span><span class='brand'>Google</span></div>\", 'output': {'name': 'Asus ROG Strix', 'price': '$677', 'category': 'audio', 'manufacturer': 'Google'}}, {'input': \"Extract the product information:\\n<div class='product'><h2>Logitech MX Master 3</h2><span class='price'>$563</span><span class='category'>audio</span><span class='brand'>HP</span></div>\", 'output': {'name': 'Logitech MX Master 3', 'price': '$563', 'category': 'audio', 'manufacturer': 'HP'}}, {'input': \"Extract the product information:\\n<div class='product'><h2>Nintendo Switch</h2><span class='price'>$2098</span><span class='category'>fitness</span><span class='brand'>Asus</span></div>\", 'output': {'name': 'Nintendo Switch', 'price': '$2098', 'category': 'fitness', 'manufacturer': 'Asus'}}, {'input': \"Extract the product information:\\n<div class='product'><h2>Dell XPS 13</h2><span class='price'>$1978</span><span class='category'>laptops</span><span class='brand'>Microsoft</span></div>\", 'output': {'name': 'Dell XPS 13', 'price': '$1978', 'category': 'laptops', 'manufacturer': 'Microsoft'}}, {'input': \"Extract the product information:\\n<div class='product'><h2>Asus ROG Strix</h2><span class='price'>$2325</span><span class='category'>smartphones</span><span class='brand'>HP</span></div>\", 'output': {'name': 'Asus ROG Strix', 'price': '$2325', 'category': 'smartphones', 'manufacturer': 'HP'}}, {'input': \"Extract the product information:\\n<div class='product'><h2>Nikon Z6 II</h2><span class='price'>$299</span><span class='category'>cameras</span><span class='brand'>Apple</span></div>\", 'output': {'name': 'Nikon Z6 II', 'price': '$299', 'category': 'cameras', 'manufacturer': 'Apple'}}, {'input': \"Extract the product information:\\n<div class='product'><h2>Nintendo Switch</h2><span class='price'>$2004</span><span class='category'>drones</span><span class='brand'>Google</span></div>\", 'output': {'name': 'Nintendo Switch', 'price': '$2004', 'category': 'drones', 'manufacturer': 'Google'}}, {'input': \"Extract the product information:\\n<div class='product'><h2>PlayStation 5</h2><span class='price'>$299</span><span class='category'>audio</span><span class='brand'>Sony</span></div>\", 'output': {'name': 'PlayStation 5', 'price': '$299', 'category': 'audio', 'manufacturer': 'Sony'}}, {'input': \"Extract the product information:\\n<div class='product'><h2>Apple Watch</h2><span class='price'>$1978</span><span class='category'>electronics</span><span class='brand'>Microsoft</span></div>\", 'output': {'name': 'Apple Watch', 'price': '$1978', 'category': 'electronics', 'manufacturer': 'Microsoft'}}, {'input': \"Extract the product information:\\n<div class='product'><h2>Xbox Series X</h2><span class='price'>$2492</span><span class='category'>laptops</span><span class='brand'>HP</span></div>\", 'output': {'name': 'Xbox Series X', 'price': '$2492', 'category': 'laptops', 'manufacturer': 'HP'}}, {'input': \"Extract the product information:\\n<div class='product'><h2>Samsung Galaxy S23</h2><span class='price'>$650</span><span class='category'>smartphones</span><span class='brand'>Asus</span></div>\", 'output': {'name': 'Samsung Galaxy S23', 'price': '$650', 'category': 'smartphones', 'manufacturer': 'Asus'}}, {'input': \"Extract the product information:\\n<div class='product'><h2>HP Envy 15</h2><span class='price'>$819</span><span class='category'>laptops</span><span class='brand'>Canon</span></div>\", 'output': {'name': 'HP Envy 15', 'price': '$819', 'category': 'laptops', 'manufacturer': 'Canon'}}, {'input': \"Extract the product information:\\n<div class='product'><h2>Kindle Paperwhite</h2><span class='price'>$1403</span><span class='category'>smartphones</span><span class='brand'>Samsung</span></div>\", 'output': {'name': 'Kindle Paperwhite', 'price': '$1403', 'category': 'smartphones', 'manufacturer': 'Samsung'}}, {'input': \"Extract the product information:\\n<div class='product'><h2>Bose QuietComfort 45</h2><span class='price'>$395</span><span class='category'>gaming</span><span class='brand'>Asus</span></div>\", 'output': {'name': 'Bose QuietComfort 45', 'price': '$395', 'category': 'gaming', 'manufacturer': 'Asus'}}, {'input': \"Extract the product information:\\n<div class='product'><h2>DJI Mini 3 Pro</h2><span class='price'>$1576</span><span class='category'>gaming</span><span class='brand'>Sony</span></div>\", 'output': {'name': 'DJI Mini 3 Pro', 'price': '$1576', 'category': 'gaming', 'manufacturer': 'Sony'}}, {'input': \"Extract the product information:\\n<div class='product'><h2>Kindle Paperwhite</h2><span class='price'>$915</span><span class='category'>drones</span><span class='brand'>Canon</span></div>\", 'output': {'name': 'Kindle Paperwhite', 'price': '$915', 'category': 'drones', 'manufacturer': 'Canon'}}, {'input': \"Extract the product information:\\n<div class='product'><h2>Kindle Paperwhite</h2><span class='price'>$380</span><span class='category'>drones</span><span class='brand'>Google</span></div>\", 'output': {'name': 'Kindle Paperwhite', 'price': '$380', 'category': 'drones', 'manufacturer': 'Google'}}, {'input': \"Extract the product information:\\n<div class='product'><h2>MacBook Pro 14</h2><span class='price'>$2100</span><span class='category'>gaming</span><span class='brand'>Canon</span></div>\", 'output': {'name': 'MacBook Pro 14', 'price': '$2100', 'category': 'gaming', 'manufacturer': 'Canon'}}, {'input': \"Extract the product information:\\n<div class='product'><h2>Sony WH-1000XM5</h2><span class='price'>$1086</span><span class='category'>fitness</span><span class='brand'>Canon</span></div>\", 'output': {'name': 'Sony WH-1000XM5', 'price': '$1086', 'category': 'fitness', 'manufacturer': 'Canon'}}, {'input': \"Extract the product information:\\n<div class='product'><h2>PlayStation 5</h2><span class='price'>$333</span><span class='category'>drones</span><span class='brand'>HP</span></div>\", 'output': {'name': 'PlayStation 5', 'price': '$333', 'category': 'drones', 'manufacturer': 'HP'}}, {'input': \"Extract the product information:\\n<div class='product'><h2>Nintendo Switch</h2><span class='price'>$2004</span><span class='category'>gaming</span><span class='brand'>Samsung</span></div>\", 'output': {'name': 'Nintendo Switch', 'price': '$2004', 'category': 'gaming', 'manufacturer': 'Samsung'}}, {'input': \"Extract the product information:\\n<div class='product'><h2>Razer DeathAdder V2</h2><span class='price'>$1277</span><span class='category'>cameras</span><span class='brand'>Sony</span></div>\", 'output': {'name': 'Razer DeathAdder V2', 'price': '$1277', 'category': 'cameras', 'manufacturer': 'Sony'}}, {'input': \"Extract the product information:\\n<div class='product'><h2>iPad Air</h2><span class='price'>$534</span><span class='category'>smartphones</span><span class='brand'>Sony</span></div>\", 'output': {'name': 'iPad Air', 'price': '$534', 'category': 'smartphones', 'manufacturer': 'Sony'}}, {'input': \"Extract the product information:\\n<div class='product'><h2>Nintendo Switch</h2><span class='price'>$1162</span><span class='category'>laptops</span><span class='brand'>HP</span></div>\", 'output': {'name': 'Nintendo Switch', 'price': '$1162', 'category': 'laptops', 'manufacturer': 'HP'}}, {'input': \"Extract the product information:\\n<div class='product'><h2>Xbox Series X</h2><span class='price'>$2325</span><span class='category'>smartphones</span><span class='brand'>Dell</span></div>\", 'output': {'name': 'Xbox Series X', 'price': '$2325', 'category': 'smartphones', 'manufacturer': 'Dell'}}, {'input': \"Extract the product information:\\n<div class='product'><h2>Apple Watch</h2><span class='price'>$677</span><span class='category'>laptops</span><span class='brand'>Canon</span></div>\", 'output': {'name': 'Apple Watch', 'price': '$677', 'category': 'laptops', 'manufacturer': 'Canon'}}, {'input': \"Extract the product information:\\n<div class='product'><h2>Samsung Galaxy S23</h2><span class='price'>$2325</span><span class='category'>cameras</span><span class='brand'>Canon</span></div>\", 'output': {'name': 'Samsung Galaxy S23', 'price': '$2325', 'category': 'cameras', 'manufacturer': 'Canon'}}, {'input': \"Extract the product information:\\n<div class='product'><h2>Nintendo Switch</h2><span class='price'>$1793</span><span class='category'>laptops</span><span class='brand'>Google</span></div>\", 'output': {'name': 'Nintendo Switch', 'price': '$1793', 'category': 'laptops', 'manufacturer': 'Google'}}, {'input': \"Extract the product information:\\n<div class='product'><h2>Apple Watch</h2><span class='price'>$1344</span><span class='category'>audio</span><span class='brand'>Microsoft</span></div>\", 'output': {'name': 'Apple Watch', 'price': '$1344', 'category': 'audio', 'manufacturer': 'Microsoft'}}, {'input': \"Extract the product information:\\n<div class='product'><h2>HP Envy 15</h2><span class='price'>$1708</span><span class='category'>smartphones</span><span class='brand'>HP</span></div>\", 'output': {'name': 'HP Envy 15', 'price': '$1708', 'category': 'smartphones', 'manufacturer': 'HP'}}, {'input': \"Extract the product information:\\n<div class='product'><h2>PlayStation 5</h2><span class='price'>$384</span><span class='category'>smartphones</span><span class='brand'>Samsung</span></div>\", 'output': {'name': 'PlayStation 5', 'price': '$384', 'category': 'smartphones', 'manufacturer': 'Samsung'}}, {'input': \"Extract the product information:\\n<div class='product'><h2>Sony WH-1000XM5</h2><span class='price'>$2004</span><span class='category'>smartphones</span><span class='brand'>Asus</span></div>\", 'output': {'name': 'Sony WH-1000XM5', 'price': '$2004', 'category': 'smartphones', 'manufacturer': 'Asus'}}, {'input': \"Extract the product information:\\n<div class='product'><h2>Nintendo Switch</h2><span class='price'>$2396</span><span class='category'>audio</span><span class='brand'>Microsoft</span></div>\", 'output': {'name': 'Nintendo Switch', 'price': '$2396', 'category': 'audio', 'manufacturer': 'Microsoft'}}, {'input': \"Extract the product information:\\n<div class='product'><h2>Kindle Paperwhite</h2><span class='price'>$534</span><span class='category'>laptops</span><span class='brand'>Amazon</span></div>\", 'output': {'name': 'Kindle Paperwhite', 'price': '$534', 'category': 'laptops', 'manufacturer': 'Amazon'}}, {'input': \"Extract the product information:\\n<div class='product'><h2>Xbox Series X</h2><span class='price'>$453</span><span class='category'>electronics</span><span class='brand'>Google</span></div>\", 'output': {'name': 'Xbox Series X', 'price': '$453', 'category': 'electronics', 'manufacturer': 'Google'}}, {'input': \"Extract the product information:\\n<div class='product'><h2>iPad Air</h2><span class='price'>$915</span><span class='category'>gaming</span><span class='brand'>Apple</span></div>\", 'output': {'name': 'iPad Air', 'price': '$915', 'category': 'gaming', 'manufacturer': 'Apple'}}, {'input': \"Extract the product information:\\n<div class='product'><h2>PlayStation 5</h2><span class='price'>$1565</span><span class='category'>fitness</span><span class='brand'>Asus</span></div>\", 'output': {'name': 'PlayStation 5', 'price': '$1565', 'category': 'fitness', 'manufacturer': 'Asus'}}, {'input': \"Extract the product information:\\n<div class='product'><h2>PlayStation 5</h2><span class='price'>$1565</span><span class='category'>smartphones</span><span class='brand'>Sony</span></div>\", 'output': {'name': 'PlayStation 5', 'price': '$1565', 'category': 'smartphones', 'manufacturer': 'Sony'}}, {'input': \"Extract the product information:\\n<div class='product'><h2>Kindle Paperwhite</h2><span class='price'>$930</span><span class='category'>gaming</span><span class='brand'>Dell</span></div>\", 'output': {'name': 'Kindle Paperwhite', 'price': '$930', 'category': 'gaming', 'manufacturer': 'Dell'}}, {'input': \"Extract the product information:\\n<div class='product'><h2>Nintendo Switch</h2><span class='price'>$585</span><span class='category'>cameras</span><span class='brand'>HP</span></div>\", 'output': {'name': 'Nintendo Switch', 'price': '$585', 'category': 'cameras', 'manufacturer': 'HP'}}, {'input': \"Extract the product information:\\n<div class='product'><h2>Nintendo Switch</h2><span class='price'>$1027</span><span class='category'>electronics</span><span class='brand'>Google</span></div>\", 'output': {'name': 'Nintendo Switch', 'price': '$1027', 'category': 'electronics', 'manufacturer': 'Google'}}, {'input': \"Extract the product information:\\n<div class='product'><h2>Bose QuietComfort 45</h2><span class='price'>$1344</span><span class='category'>laptops</span><span class='brand'>Google</span></div>\", 'output': {'name': 'Bose QuietComfort 45', 'price': '$1344', 'category': 'laptops', 'manufacturer': 'Google'}}, {'input': \"Extract the product information:\\n<div class='product'><h2>Nintendo Switch</h2><span class='price'>$2325</span><span class='category'>laptops</span><span class='brand'>Canon</span></div>\", 'output': {'name': 'Nintendo Switch', 'price': '$2325', 'category': 'laptops', 'manufacturer': 'Canon'}}, {'input': \"Extract the product information:\\n<div class='product'><h2>Nikon Z6 II</h2><span class='price'>$448</span><span class='category'>electronics</span><span class='brand'>Asus</span></div>\", 'output': {'name': 'Nikon Z6 II', 'price': '$448', 'category': 'electronics', 'manufacturer': 'Asus'}}, {'input': \"Extract the product information:\\n<div class='product'><h2>Samsung Galaxy S23</h2><span class='price'>$1344</span><span class='category'>gaming</span><span class='brand'>Microsoft</span></div>\", 'output': {'name': 'Samsung Galaxy S23', 'price': '$1344', 'category': 'gaming', 'manufacturer': 'Microsoft'}}, {'input': \"Extract the product information:\\n<div class='product'><h2>Dell XPS 13</h2><span class='price'>$534</span><span class='category'>smartphones</span><span class='brand'>Dell</span></div>\", 'output': {'name': 'Dell XPS 13', 'price': '$534', 'category': 'smartphones', 'manufacturer': 'Dell'}}, {'input': \"Extract the product information:\\n<div class='product'><h2>Apple Watch</h2><span class='price'>$1447</span><span class='category'>gaming</span><span class='brand'>Samsung</span></div>\", 'output': {'name': 'Apple Watch', 'price': '$1447', 'category': 'gaming', 'manufacturer': 'Samsung'}}, {'input': \"Extract the product information:\\n<div class='product'><h2>Apple Watch</h2><span class='price'>$2098</span><span class='category'>fitness</span><span class='brand'>Canon</span></div>\", 'output': {'name': 'Apple Watch', 'price': '$2098', 'category': 'fitness', 'manufacturer': 'Canon'}}, {'input': \"Extract the product information:\\n<div class='product'><h2>Canon EOS R</h2><span class='price'>$1793</span><span class='category'>audio</span><span class='brand'>Microsoft</span></div>\", 'output': {'name': 'Canon EOS R', 'price': '$1793', 'category': 'audio', 'manufacturer': 'Microsoft'}}, {'input': \"Extract the product information:\\n<div class='product'><h2>Dell XPS 13</h2><span class='price'>$2325</span><span class='category'>gaming</span><span class='brand'>Canon</span></div>\", 'output': {'name': 'Dell XPS 13', 'price': '$2325', 'category': 'gaming', 'manufacturer': 'Canon'}}, {'input': \"Extract the product information:\\n<div class='product'><h2>Samsung Galaxy S23</h2><span class='price'>$2396</span><span class='category'>cameras</span><span class='brand'>Sony</span></div>\", 'output': {'name': 'Samsung Galaxy S23', 'price': '$2396', 'category': 'cameras', 'manufacturer': 'Sony'}}, {'input': \"Extract the product information:\\n<div class='product'><h2>DJI Mini 3 Pro</h2><span class='price'>$2325</span><span class='category'>smartphones</span><span class='brand'>Dell</span></div>\", 'output': {'name': 'DJI Mini 3 Pro', 'price': '$2325', 'category': 'smartphones', 'manufacturer': 'Dell'}}, {'input': \"Extract the product information:\\n<div class='product'><h2>Sony WH-1000XM5</h2><span class='price'>$1685</span><span class='category'>laptops</span><span class='brand'>HP</span></div>\", 'output': {'name': 'Sony WH-1000XM5', 'price': '$1685', 'category': 'laptops', 'manufacturer': 'HP'}}, {'input': \"Extract the product information:\\n<div class='product'><h2>HP Envy 15</h2><span class='price'>$384</span><span class='category'>audio</span><span class='brand'>Canon</span></div>\", 'output': {'name': 'HP Envy 15', 'price': '$384', 'category': 'audio', 'manufacturer': 'Canon'}}, {'input': \"Extract the product information:\\n<div class='product'><h2>HP Envy 15</h2><span class='price'>$448</span><span class='category'>fitness</span><span class='brand'>Asus</span></div>\", 'output': {'name': 'HP Envy 15', 'price': '$448', 'category': 'fitness', 'manufacturer': 'Asus'}}, {'input': \"Extract the product information:\\n<div class='product'><h2>Razer DeathAdder V2</h2><span class='price'>$2429</span><span class='category'>drones</span><span class='brand'>Sony</span></div>\", 'output': {'name': 'Razer DeathAdder V2', 'price': '$2429', 'category': 'drones', 'manufacturer': 'Sony'}}, {'input': \"Extract the product information:\\n<div class='product'><h2>iPad Air</h2><span class='price'>$1002</span><span class='category'>audio</span><span class='brand'>Canon</span></div>\", 'output': {'name': 'iPad Air', 'price': '$1002', 'category': 'audio', 'manufacturer': 'Canon'}}, {'input': \"Extract the product information:\\n<div class='product'><h2>Logitech MX Master 3</h2><span class='price'>$2004</span><span class='category'>smartphones</span><span class='brand'>Asus</span></div>\", 'output': {'name': 'Logitech MX Master 3', 'price': '$2004', 'category': 'smartphones', 'manufacturer': 'Asus'}}, {'input': \"Extract the product information:\\n<div class='product'><h2>Kindle Paperwhite</h2><span class='price'>$534</span><span class='category'>gaming</span><span class='brand'>Apple</span></div>\", 'output': {'name': 'Kindle Paperwhite', 'price': '$534', 'category': 'gaming', 'manufacturer': 'Apple'}}, {'input': \"Extract the product information:\\n<div class='product'><h2>Kindle Paperwhite</h2><span class='price'>$2004</span><span class='category'>electronics</span><span class='brand'>Canon</span></div>\", 'output': {'name': 'Kindle Paperwhite', 'price': '$2004', 'category': 'electronics', 'manufacturer': 'Canon'}}, {'input': \"Extract the product information:\\n<div class='product'><h2>Xbox Series X</h2><span class='price'>$1688</span><span class='category'>fitness</span><span class='brand'>HP</span></div>\", 'output': {'name': 'Xbox Series X', 'price': '$1688', 'category': 'fitness', 'manufacturer': 'HP'}}, {'input': \"Extract the product information:\\n<div class='product'><h2>Nintendo Switch</h2><span class='price'>$448</span><span class='category'>fitness</span><span class='brand'>Apple</span></div>\", 'output': {'name': 'Nintendo Switch', 'price': '$448', 'category': 'fitness', 'manufacturer': 'Apple'}}, {'input': \"Extract the product information:\\n<div class='product'><h2>Samsung Galaxy S23</h2><span class='price'>$819</span><span class='category'>laptops</span><span class='brand'>Sony</span></div>\", 'output': {'name': 'Samsung Galaxy S23', 'price': '$819', 'category': 'laptops', 'manufacturer': 'Sony'}}, {'input': \"Extract the product information:\\n<div class='product'><h2>Xbox Series X</h2><span class='price'>$712</span><span class='category'>audio</span><span class='brand'>Apple</span></div>\", 'output': {'name': 'Xbox Series X', 'price': '$712', 'category': 'audio', 'manufacturer': 'Apple'}}, {'input': \"Extract the product information:\\n<div class='product'><h2>Sony WH-1000XM5</h2><span class='price'>$448</span><span class='category'>audio</span><span class='brand'>Canon</span></div>\", 'output': {'name': 'Sony WH-1000XM5', 'price': '$448', 'category': 'audio', 'manufacturer': 'Canon'}}, {'input': \"Extract the product information:\\n<div class='product'><h2>Samsung Galaxy S23</h2><span class='price'>$2429</span><span class='category'>gaming</span><span class='brand'>Dell</span></div>\", 'output': {'name': 'Samsung Galaxy S23', 'price': '$2429', 'category': 'gaming', 'manufacturer': 'Dell'}}, {'input': \"Extract the product information:\\n<div class='product'><h2>Kindle Paperwhite</h2><span class='price'>$1447</span><span class='category'>cameras</span><span class='brand'>Amazon</span></div>\", 'output': {'name': 'Kindle Paperwhite', 'price': '$1447', 'category': 'cameras', 'manufacturer': 'Amazon'}}, {'input': \"Extract the product information:\\n<div class='product'><h2>Google Pixel 7</h2><span class='price'>$1194</span><span class='category'>audio</span><span class='brand'>Dell</span></div>\", 'output': {'name': 'Google Pixel 7', 'price': '$1194', 'category': 'audio', 'manufacturer': 'Dell'}}, {'input': \"Extract the product information:\\n<div class='product'><h2>PlayStation 5</h2><span class='price'>$446</span><span class='category'>drones</span><span class='brand'>Asus</span></div>\", 'output': {'name': 'PlayStation 5', 'price': '$446', 'category': 'drones', 'manufacturer': 'Asus'}}, {'input': \"Extract the product information:\\n<div class='product'><h2>Samsung Galaxy S23</h2><span class='price'>$915</span><span class='category'>electronics</span><span class='brand'>Apple</span></div>\", 'output': {'name': 'Samsung Galaxy S23', 'price': '$915', 'category': 'electronics', 'manufacturer': 'Apple'}}, {'input': \"Extract the product information:\\n<div class='product'><h2>Asus ROG Strix</h2><span class='price'>$380</span><span class='category'>audio</span><span class='brand'>Samsung</span></div>\", 'output': {'name': 'Asus ROG Strix', 'price': '$380', 'category': 'audio', 'manufacturer': 'Samsung'}}, {'input': \"Extract the product information:\\n<div class='product'><h2>iPad Air</h2><span class='price'>$1447</span><span class='category'>audio</span><span class='brand'>Dell</span></div>\", 'output': {'name': 'iPad Air', 'price': '$1447', 'category': 'audio', 'manufacturer': 'Dell'}}, {'input': \"Extract the product information:\\n<div class='product'><h2>Logitech MX Master 3</h2><span class='price'>$2061</span><span class='category'>drones</span><span class='brand'>Dell</span></div>\", 'output': {'name': 'Logitech MX Master 3', 'price': '$2061', 'category': 'drones', 'manufacturer': 'Dell'}}, {'input': \"Extract the product information:\\n<div class='product'><h2>Nintendo Switch</h2><span class='price'>$2325</span><span class='category'>fitness</span><span class='brand'>Dell</span></div>\", 'output': {'name': 'Nintendo Switch', 'price': '$2325', 'category': 'fitness', 'manufacturer': 'Dell'}}, {'input': \"Extract the product information:\\n<div class='product'><h2>Canon EOS R</h2><span class='price'>$446</span><span class='category'>gaming</span><span class='brand'>Asus</span></div>\", 'output': {'name': 'Canon EOS R', 'price': '$446', 'category': 'gaming', 'manufacturer': 'Asus'}}, {'input': \"Extract the product information:\\n<div class='product'><h2>Sony WH-1000XM5</h2><span class='price'>$819</span><span class='category'>fitness</span><span class='brand'>Canon</span></div>\", 'output': {'name': 'Sony WH-1000XM5', 'price': '$819', 'category': 'fitness', 'manufacturer': 'Canon'}}, {'input': \"Extract the product information:\\n<div class='product'><h2>Bose QuietComfort 45</h2><span class='price'>$1447</span><span class='category'>smartphones</span><span class='brand'>Canon</span></div>\", 'output': {'name': 'Bose QuietComfort 45', 'price': '$1447', 'category': 'smartphones', 'manufacturer': 'Canon'}}, {'input': \"Extract the product information:\\n<div class='product'><h2>Xbox Series X</h2><span class='price'>$2389</span><span class='category'>fitness</span><span class='brand'>Google</span></div>\", 'output': {'name': 'Xbox Series X', 'price': '$2389', 'category': 'fitness', 'manufacturer': 'Google'}}, {'input': \"Extract the product information:\\n<div class='product'><h2>Fitbit Charge 5</h2><span class='price'>$712</span><span class='category'>smartphones</span><span class='brand'>Dell</span></div>\", 'output': {'name': 'Fitbit Charge 5', 'price': '$712', 'category': 'smartphones', 'manufacturer': 'Dell'}}, {'input': \"Extract the product information:\\n<div class='product'><h2>PlayStation 5</h2><span class='price'>$2102</span><span class='category'>cameras</span><span class='brand'>Dell</span></div>\", 'output': {'name': 'PlayStation 5', 'price': '$2102', 'category': 'cameras', 'manufacturer': 'Dell'}}, {'input': \"Extract the product information:\\n<div class='product'><h2>Logitech MX Master 3</h2><span class='price'>$677</span><span class='category'>electronics</span><span class='brand'>Apple</span></div>\", 'output': {'name': 'Logitech MX Master 3', 'price': '$677', 'category': 'electronics', 'manufacturer': 'Apple'}}, {'input': \"Extract the product information:\\n<div class='product'><h2>MacBook Pro 14</h2><span class='price'>$395</span><span class='category'>audio</span><span class='brand'>Google</span></div>\", 'output': {'name': 'MacBook Pro 14', 'price': '$395', 'category': 'audio', 'manufacturer': 'Google'}}, {'input': \"Extract the product information:\\n<div class='product'><h2>Fitbit Charge 5</h2><span class='price'>$712</span><span class='category'>cameras</span><span class='brand'>HP</span></div>\", 'output': {'name': 'Fitbit Charge 5', 'price': '$712', 'category': 'cameras', 'manufacturer': 'HP'}}, {'input': \"Extract the product information:\\n<div class='product'><h2>Logitech MX Master 3</h2><span class='price'>$951</span><span class='category'>drones</span><span class='brand'>Dell</span></div>\", 'output': {'name': 'Logitech MX Master 3', 'price': '$951', 'category': 'drones', 'manufacturer': 'Dell'}}, {'input': \"Extract the product information:\\n<div class='product'><h2>iPad Air</h2><span class='price'>$1194</span><span class='category'>audio</span><span class='brand'>Samsung</span></div>\", 'output': {'name': 'iPad Air', 'price': '$1194', 'category': 'audio', 'manufacturer': 'Samsung'}}, {'input': \"Extract the product information:\\n<div class='product'><h2>Canon EOS R</h2><span class='price'>$2098</span><span class='category'>gaming</span><span class='brand'>Sony</span></div>\", 'output': {'name': 'Canon EOS R', 'price': '$2098', 'category': 'gaming', 'manufacturer': 'Sony'}}, {'input': \"Extract the product information:\\n<div class='product'><h2>MacBook Pro 14</h2><span class='price'>$446</span><span class='category'>cameras</span><span class='brand'>Sony</span></div>\", 'output': {'name': 'MacBook Pro 14', 'price': '$446', 'category': 'cameras', 'manufacturer': 'Sony'}}, {'input': \"Extract the product information:\\n<div class='product'><h2>Bose QuietComfort 45</h2><span class='price'>$1447</span><span class='category'>audio</span><span class='brand'>Samsung</span></div>\", 'output': {'name': 'Bose QuietComfort 45', 'price': '$1447', 'category': 'audio', 'manufacturer': 'Samsung'}}, {'input': \"Extract the product information:\\n<div class='product'><h2>Nintendo Switch</h2><span class='price'>$1685</span><span class='category'>smartphones</span><span class='brand'>Apple</span></div>\", 'output': {'name': 'Nintendo Switch', 'price': '$1685', 'category': 'smartphones', 'manufacturer': 'Apple'}}, {'input': \"Extract the product information:\\n<div class='product'><h2>MacBook Pro 14</h2><span class='price'>$2492</span><span class='category'>smartphones</span><span class='brand'>Asus</span></div>\", 'output': {'name': 'MacBook Pro 14', 'price': '$2492', 'category': 'smartphones', 'manufacturer': 'Asus'}}, {'input': \"Extract the product information:\\n<div class='product'><h2>MacBook Pro 14</h2><span class='price'>$2102</span><span class='category'>laptops</span><span class='brand'>Apple</span></div>\", 'output': {'name': 'MacBook Pro 14', 'price': '$2102', 'category': 'laptops', 'manufacturer': 'Apple'}}, {'input': \"Extract the product information:\\n<div class='product'><h2>Razer DeathAdder V2</h2><span class='price'>$951</span><span class='category'>smartphones</span><span class='brand'>Canon</span></div>\", 'output': {'name': 'Razer DeathAdder V2', 'price': '$951', 'category': 'smartphones', 'manufacturer': 'Canon'}}, {'input': \"Extract the product information:\\n<div class='product'><h2>Fitbit Charge 5</h2><span class='price'>$979</span><span class='category'>cameras</span><span class='brand'>HP</span></div>\", 'output': {'name': 'Fitbit Charge 5', 'price': '$979', 'category': 'cameras', 'manufacturer': 'HP'}}, {'input': \"Extract the product information:\\n<div class='product'><h2>HP Envy 15</h2><span class='price'>$2396</span><span class='category'>laptops</span><span class='brand'>Canon</span></div>\", 'output': {'name': 'HP Envy 15', 'price': '$2396', 'category': 'laptops', 'manufacturer': 'Canon'}}, {'input': \"Extract the product information:\\n<div class='product'><h2>Sony WH-1000XM5</h2><span class='price'>$712</span><span class='category'>drones</span><span class='brand'>Samsung</span></div>\", 'output': {'name': 'Sony WH-1000XM5', 'price': '$712', 'category': 'drones', 'manufacturer': 'Samsung'}}, {'input': \"Extract the product information:\\n<div class='product'><h2>DJI Mini 3 Pro</h2><span class='price'>$1403</span><span class='category'>cameras</span><span class='brand'>Samsung</span></div>\", 'output': {'name': 'DJI Mini 3 Pro', 'price': '$1403', 'category': 'cameras', 'manufacturer': 'Samsung'}}, {'input': \"Extract the product information:\\n<div class='product'><h2>Apple Watch</h2><span class='price'>$1447</span><span class='category'>laptops</span><span class='brand'>Amazon</span></div>\", 'output': {'name': 'Apple Watch', 'price': '$1447', 'category': 'laptops', 'manufacturer': 'Amazon'}}, {'input': \"Extract the product information:\\n<div class='product'><h2>Google Pixel 7</h2><span class='price'>$380</span><span class='category'>drones</span><span class='brand'>HP</span></div>\", 'output': {'name': 'Google Pixel 7', 'price': '$380', 'category': 'drones', 'manufacturer': 'HP'}}, {'input': \"Extract the product information:\\n<div class='product'><h2>PlayStation 5</h2><span class='price'>$1194</span><span class='category'>fitness</span><span class='brand'>HP</span></div>\", 'output': {'name': 'PlayStation 5', 'price': '$1194', 'category': 'fitness', 'manufacturer': 'HP'}}, {'input': \"Extract the product information:\\n<div class='product'><h2>Nikon Z6 II</h2><span class='price'>$819</span><span class='category'>fitness</span><span class='brand'>Dell</span></div>\", 'output': {'name': 'Nikon Z6 II', 'price': '$819', 'category': 'fitness', 'manufacturer': 'Dell'}}, {'input': \"Extract the product information:\\n<div class='product'><h2>Dell XPS 13</h2><span class='price'>$2325</span><span class='category'>cameras</span><span class='brand'>Microsoft</span></div>\", 'output': {'name': 'Dell XPS 13', 'price': '$2325', 'category': 'cameras', 'manufacturer': 'Microsoft'}}, {'input': \"Extract the product information:\\n<div class='product'><h2>Razer DeathAdder V2</h2><span class='price'>$563</span><span class='category'>audio</span><span class='brand'>Asus</span></div>\", 'output': {'name': 'Razer DeathAdder V2', 'price': '$563', 'category': 'audio', 'manufacturer': 'Asus'}}, {'input': \"Extract the product information:\\n<div class='product'><h2>Sony WH-1000XM5</h2><span class='price'>$2102</span><span class='category'>gaming</span><span class='brand'>Dell</span></div>\", 'output': {'name': 'Sony WH-1000XM5', 'price': '$2102', 'category': 'gaming', 'manufacturer': 'Dell'}}, {'input': \"Extract the product information:\\n<div class='product'><h2>Sony WH-1000XM5</h2><span class='price'>$585</span><span class='category'>fitness</span><span class='brand'>Samsung</span></div>\", 'output': {'name': 'Sony WH-1000XM5', 'price': '$585', 'category': 'fitness', 'manufacturer': 'Samsung'}}, {'input': \"Extract the product information:\\n<div class='product'><h2>iPad Air</h2><span class='price'>$1685</span><span class='category'>smartphones</span><span class='brand'>Canon</span></div>\", 'output': {'name': 'iPad Air', 'price': '$1685', 'category': 'smartphones', 'manufacturer': 'Canon'}}, {'input': \"Extract the product information:\\n<div class='product'><h2>Canon EOS R</h2><span class='price'>$915</span><span class='category'>fitness</span><span class='brand'>Sony</span></div>\", 'output': {'name': 'Canon EOS R', 'price': '$915', 'category': 'fitness', 'manufacturer': 'Sony'}}, {'input': \"Extract the product information:\\n<div class='product'><h2>Canon EOS R</h2><span class='price'>$333</span><span class='category'>audio</span><span class='brand'>Canon</span></div>\", 'output': {'name': 'Canon EOS R', 'price': '$333', 'category': 'audio', 'manufacturer': 'Canon'}}, {'input': \"Extract the product information:\\n<div class='product'><h2>Nikon Z6 II</h2><span class='price'>$2100</span><span class='category'>smartphones</span><span class='brand'>Dell</span></div>\", 'output': {'name': 'Nikon Z6 II', 'price': '$2100', 'category': 'smartphones', 'manufacturer': 'Dell'}}, {'input': \"Extract the product information:\\n<div class='product'><h2>Google Pixel 7</h2><span class='price'>$1246</span><span class='category'>cameras</span><span class='brand'>Samsung</span></div>\", 'output': {'name': 'Google Pixel 7', 'price': '$1246', 'category': 'cameras', 'manufacturer': 'Samsung'}}, {'input': \"Extract the product information:\\n<div class='product'><h2>Bose QuietComfort 45</h2><span class='price'>$534</span><span class='category'>electronics</span><span class='brand'>Dell</span></div>\", 'output': {'name': 'Bose QuietComfort 45', 'price': '$534', 'category': 'electronics', 'manufacturer': 'Dell'}}, {'input': \"Extract the product information:\\n<div class='product'><h2>Apple Watch</h2><span class='price'>$951</span><span class='category'>drones</span><span class='brand'>Microsoft</span></div>\", 'output': {'name': 'Apple Watch', 'price': '$951', 'category': 'drones', 'manufacturer': 'Microsoft'}}, {'input': \"Extract the product information:\\n<div class='product'><h2>Xbox Series X</h2><span class='price'>$1688</span><span class='category'>audio</span><span class='brand'>Apple</span></div>\", 'output': {'name': 'Xbox Series X', 'price': '$1688', 'category': 'audio', 'manufacturer': 'Apple'}}, {'input': \"Extract the product information:\\n<div class='product'><h2>HP Envy 15</h2><span class='price'>$333</span><span class='category'>drones</span><span class='brand'>Samsung</span></div>\", 'output': {'name': 'HP Envy 15', 'price': '$333', 'category': 'drones', 'manufacturer': 'Samsung'}}, {'input': \"Extract the product information:\\n<div class='product'><h2>Bose QuietComfort 45</h2><span class='price'>$650</span><span class='category'>gaming</span><span class='brand'>Samsung</span></div>\", 'output': {'name': 'Bose QuietComfort 45', 'price': '$650', 'category': 'gaming', 'manufacturer': 'Samsung'}}, {'input': \"Extract the product information:\\n<div class='product'><h2>Logitech MX Master 3</h2><span class='price'>$677</span><span class='category'>laptops</span><span class='brand'>Sony</span></div>\", 'output': {'name': 'Logitech MX Master 3', 'price': '$677', 'category': 'laptops', 'manufacturer': 'Sony'}}, {'input': \"Extract the product information:\\n<div class='product'><h2>Nikon Z6 II</h2><span class='price'>$2098</span><span class='category'>cameras</span><span class='brand'>Google</span></div>\", 'output': {'name': 'Nikon Z6 II', 'price': '$2098', 'category': 'cameras', 'manufacturer': 'Google'}}, {'input': \"Extract the product information:\\n<div class='product'><h2>Canon EOS R</h2><span class='price'>$437</span><span class='category'>cameras</span><span class='brand'>Canon</span></div>\", 'output': {'name': 'Canon EOS R', 'price': '$437', 'category': 'cameras', 'manufacturer': 'Canon'}}, {'input': \"Extract the product information:\\n<div class='product'><h2>Apple Watch</h2><span class='price'>$585</span><span class='category'>cameras</span><span class='brand'>Microsoft</span></div>\", 'output': {'name': 'Apple Watch', 'price': '$585', 'category': 'cameras', 'manufacturer': 'Microsoft'}}, {'input': \"Extract the product information:\\n<div class='product'><h2>Razer DeathAdder V2</h2><span class='price'>$453</span><span class='category'>electronics</span><span class='brand'>Dell</span></div>\", 'output': {'name': 'Razer DeathAdder V2', 'price': '$453', 'category': 'electronics', 'manufacturer': 'Dell'}}, {'input': \"Extract the product information:\\n<div class='product'><h2>Sony WH-1000XM5</h2><span class='price'>$1002</span><span class='category'>cameras</span><span class='brand'>Amazon</span></div>\", 'output': {'name': 'Sony WH-1000XM5', 'price': '$1002', 'category': 'cameras', 'manufacturer': 'Amazon'}}, {'input': \"Extract the product information:\\n<div class='product'><h2>PlayStation 5</h2><span class='price'>$2492</span><span class='category'>audio</span><span class='brand'>Apple</span></div>\", 'output': {'name': 'PlayStation 5', 'price': '$2492', 'category': 'audio', 'manufacturer': 'Apple'}}, {'input': \"Extract the product information:\\n<div class='product'><h2>PlayStation 5</h2><span class='price'>$1027</span><span class='category'>electronics</span><span class='brand'>HP</span></div>\", 'output': {'name': 'PlayStation 5', 'price': '$1027', 'category': 'electronics', 'manufacturer': 'HP'}}, {'input': \"Extract the product information:\\n<div class='product'><h2>Fitbit Charge 5</h2><span class='price'>$446</span><span class='category'>cameras</span><span class='brand'>Google</span></div>\", 'output': {'name': 'Fitbit Charge 5', 'price': '$446', 'category': 'cameras', 'manufacturer': 'Google'}}, {'input': \"Extract the product information:\\n<div class='product'><h2>Nintendo Switch</h2><span class='price'>$2325</span><span class='category'>laptops</span><span class='brand'>Amazon</span></div>\", 'output': {'name': 'Nintendo Switch', 'price': '$2325', 'category': 'laptops', 'manufacturer': 'Amazon'}}, {'input': \"Extract the product information:\\n<div class='product'><h2>Google Pixel 7</h2><span class='price'>$819</span><span class='category'>drones</span><span class='brand'>Google</span></div>\", 'output': {'name': 'Google Pixel 7', 'price': '$819', 'category': 'drones', 'manufacturer': 'Google'}}, {'input': \"Extract the product information:\\n<div class='product'><h2>Apple Watch</h2><span class='price'>$454</span><span class='category'>audio</span><span class='brand'>Canon</span></div>\", 'output': {'name': 'Apple Watch', 'price': '$454', 'category': 'audio', 'manufacturer': 'Canon'}}, {'input': \"Extract the product information:\\n<div class='product'><h2>Samsung Galaxy S23</h2><span class='price'>$712</span><span class='category'>cameras</span><span class='brand'>Microsoft</span></div>\", 'output': {'name': 'Samsung Galaxy S23', 'price': '$712', 'category': 'cameras', 'manufacturer': 'Microsoft'}}, {'input': \"Extract the product information:\\n<div class='product'><h2>Kindle Paperwhite</h2><span class='price'>$448</span><span class='category'>drones</span><span class='brand'>Apple</span></div>\", 'output': {'name': 'Kindle Paperwhite', 'price': '$448', 'category': 'drones', 'manufacturer': 'Apple'}}, {'input': \"Extract the product information:\\n<div class='product'><h2>PlayStation 5</h2><span class='price'>$677</span><span class='category'>smartphones</span><span class='brand'>Apple</span></div>\", 'output': {'name': 'PlayStation 5', 'price': '$677', 'category': 'smartphones', 'manufacturer': 'Apple'}}, {'input': \"Extract the product information:\\n<div class='product'><h2>Canon EOS R</h2><span class='price'>$2396</span><span class='category'>electronics</span><span class='brand'>Apple</span></div>\", 'output': {'name': 'Canon EOS R', 'price': '$2396', 'category': 'electronics', 'manufacturer': 'Apple'}}, {'input': \"Extract the product information:\\n<div class='product'><h2>iPad Air</h2><span class='price'>$534</span><span class='category'>laptops</span><span class='brand'>Dell</span></div>\", 'output': {'name': 'iPad Air', 'price': '$534', 'category': 'laptops', 'manufacturer': 'Dell'}}, {'input': \"Extract the product information:\\n<div class='product'><h2>Kindle Paperwhite</h2><span class='price'>$930</span><span class='category'>smartphones</span><span class='brand'>Asus</span></div>\", 'output': {'name': 'Kindle Paperwhite', 'price': '$930', 'category': 'smartphones', 'manufacturer': 'Asus'}}, {'input': \"Extract the product information:\\n<div class='product'><h2>Nikon Z6 II</h2><span class='price'>$915</span><span class='category'>fitness</span><span class='brand'>Sony</span></div>\", 'output': {'name': 'Nikon Z6 II', 'price': '$915', 'category': 'fitness', 'manufacturer': 'Sony'}}, {'input': \"Extract the product information:\\n<div class='product'><h2>Dell XPS 13</h2><span class='price'>$437</span><span class='category'>smartphones</span><span class='brand'>Canon</span></div>\", 'output': {'name': 'Dell XPS 13', 'price': '$437', 'category': 'smartphones', 'manufacturer': 'Canon'}}, {'input': \"Extract the product information:\\n<div class='product'><h2>Asus ROG Strix</h2><span class='price'>$299</span><span class='category'>gaming</span><span class='brand'>Asus</span></div>\", 'output': {'name': 'Asus ROG Strix', 'price': '$299', 'category': 'gaming', 'manufacturer': 'Asus'}}, {'input': \"Extract the product information:\\n<div class='product'><h2>Dell XPS 13</h2><span class='price'>$1403</span><span class='category'>fitness</span><span class='brand'>Asus</span></div>\", 'output': {'name': 'Dell XPS 13', 'price': '$1403', 'category': 'fitness', 'manufacturer': 'Asus'}}, {'input': \"Extract the product information:\\n<div class='product'><h2>Google Pixel 7</h2><span class='price'>$1027</span><span class='category'>fitness</span><span class='brand'>Asus</span></div>\", 'output': {'name': 'Google Pixel 7', 'price': '$1027', 'category': 'fitness', 'manufacturer': 'Asus'}}, {'input': \"Extract the product information:\\n<div class='product'><h2>Logitech MX Master 3</h2><span class='price'>$258</span><span class='category'>cameras</span><span class='brand'>Dell</span></div>\", 'output': {'name': 'Logitech MX Master 3', 'price': '$258', 'category': 'cameras', 'manufacturer': 'Dell'}}, {'input': \"Extract the product information:\\n<div class='product'><h2>Razer DeathAdder V2</h2><span class='price'>$380</span><span class='category'>fitness</span><span class='brand'>HP</span></div>\", 'output': {'name': 'Razer DeathAdder V2', 'price': '$380', 'category': 'fitness', 'manufacturer': 'HP'}}, {'input': \"Extract the product information:\\n<div class='product'><h2>Nintendo Switch</h2><span class='price'>$1447</span><span class='category'>audio</span><span class='brand'>Microsoft</span></div>\", 'output': {'name': 'Nintendo Switch', 'price': '$1447', 'category': 'audio', 'manufacturer': 'Microsoft'}}, {'input': \"Extract the product information:\\n<div class='product'><h2>Google Pixel 7</h2><span class='price'>$819</span><span class='category'>fitness</span><span class='brand'>Microsoft</span></div>\", 'output': {'name': 'Google Pixel 7', 'price': '$819', 'category': 'fitness', 'manufacturer': 'Microsoft'}}, {'input': \"Extract the product information:\\n<div class='product'><h2>PlayStation 5</h2><span class='price'>$395</span><span class='category'>fitness</span><span class='brand'>Google</span></div>\", 'output': {'name': 'PlayStation 5', 'price': '$395', 'category': 'fitness', 'manufacturer': 'Google'}}, {'input': \"Extract the product information:\\n<div class='product'><h2>Google Pixel 7</h2><span class='price'>$979</span><span class='category'>cameras</span><span class='brand'>Apple</span></div>\", 'output': {'name': 'Google Pixel 7', 'price': '$979', 'category': 'cameras', 'manufacturer': 'Apple'}}, {'input': \"Extract the product information:\\n<div class='product'><h2>Nintendo Switch</h2><span class='price'>$915</span><span class='category'>fitness</span><span class='brand'>Samsung</span></div>\", 'output': {'name': 'Nintendo Switch', 'price': '$915', 'category': 'fitness', 'manufacturer': 'Samsung'}}, {'input': \"Extract the product information:\\n<div class='product'><h2>Google Pixel 7</h2><span class='price'>$951</span><span class='category'>fitness</span><span class='brand'>Dell</span></div>\", 'output': {'name': 'Google Pixel 7', 'price': '$951', 'category': 'fitness', 'manufacturer': 'Dell'}}, {'input': \"Extract the product information:\\n<div class='product'><h2>Razer DeathAdder V2</h2><span class='price'>$1194</span><span class='category'>audio</span><span class='brand'>HP</span></div>\", 'output': {'name': 'Razer DeathAdder V2', 'price': '$1194', 'category': 'audio', 'manufacturer': 'HP'}}, {'input': \"Extract the product information:\\n<div class='product'><h2>HP Envy 15</h2><span class='price'>$1576</span><span class='category'>electronics</span><span class='brand'>Microsoft</span></div>\", 'output': {'name': 'HP Envy 15', 'price': '$1576', 'category': 'electronics', 'manufacturer': 'Microsoft'}}, {'input': \"Extract the product information:\\n<div class='product'><h2>HP Envy 15</h2><span class='price'>$437</span><span class='category'>electronics</span><span class='brand'>Google</span></div>\", 'output': {'name': 'HP Envy 15', 'price': '$437', 'category': 'electronics', 'manufacturer': 'Google'}}, {'input': \"Extract the product information:\\n<div class='product'><h2>Google Pixel 7</h2><span class='price'>$1576</span><span class='category'>gaming</span><span class='brand'>HP</span></div>\", 'output': {'name': 'Google Pixel 7', 'price': '$1576', 'category': 'gaming', 'manufacturer': 'HP'}}, {'input': \"Extract the product information:\\n<div class='product'><h2>Fitbit Charge 5</h2><span class='price'>$384</span><span class='category'>gaming</span><span class='brand'>Amazon</span></div>\", 'output': {'name': 'Fitbit Charge 5', 'price': '$384', 'category': 'gaming', 'manufacturer': 'Amazon'}}, {'input': \"Extract the product information:\\n<div class='product'><h2>Kindle Paperwhite</h2><span class='price'>$1793</span><span class='category'>laptops</span><span class='brand'>Apple</span></div>\", 'output': {'name': 'Kindle Paperwhite', 'price': '$1793', 'category': 'laptops', 'manufacturer': 'Apple'}}, {'input': \"Extract the product information:\\n<div class='product'><h2>Google Pixel 7</h2><span class='price'>$1447</span><span class='category'>electronics</span><span class='brand'>Asus</span></div>\", 'output': {'name': 'Google Pixel 7', 'price': '$1447', 'category': 'electronics', 'manufacturer': 'Asus'}}, {'input': \"Extract the product information:\\n<div class='product'><h2>HP Envy 15</h2><span class='price'>$2102</span><span class='category'>smartphones</span><span class='brand'>HP</span></div>\", 'output': {'name': 'HP Envy 15', 'price': '$2102', 'category': 'smartphones', 'manufacturer': 'HP'}}, {'input': \"Extract the product information:\\n<div class='product'><h2>Nikon Z6 II</h2><span class='price'>$1086</span><span class='category'>drones</span><span class='brand'>Google</span></div>\", 'output': {'name': 'Nikon Z6 II', 'price': '$1086', 'category': 'drones', 'manufacturer': 'Google'}}, {'input': \"Extract the product information:\\n<div class='product'><h2>Dell XPS 13</h2><span class='price'>$1403</span><span class='category'>smartphones</span><span class='brand'>Microsoft</span></div>\", 'output': {'name': 'Dell XPS 13', 'price': '$1403', 'category': 'smartphones', 'manufacturer': 'Microsoft'}}, {'input': \"Extract the product information:\\n<div class='product'><h2>iPad Air</h2><span class='price'>$446</span><span class='category'>laptops</span><span class='brand'>Samsung</span></div>\", 'output': {'name': 'iPad Air', 'price': '$446', 'category': 'laptops', 'manufacturer': 'Samsung'}}, {'input': \"Extract the product information:\\n<div class='product'><h2>PlayStation 5</h2><span class='price'>$563</span><span class='category'>electronics</span><span class='brand'>Dell</span></div>\", 'output': {'name': 'PlayStation 5', 'price': '$563', 'category': 'electronics', 'manufacturer': 'Dell'}}, {'input': \"Extract the product information:\\n<div class='product'><h2>Logitech MX Master 3</h2><span class='price'>$1793</span><span class='category'>laptops</span><span class='brand'>Sony</span></div>\", 'output': {'name': 'Logitech MX Master 3', 'price': '$1793', 'category': 'laptops', 'manufacturer': 'Sony'}}, {'input': \"Extract the product information:\\n<div class='product'><h2>Fitbit Charge 5</h2><span class='price'>$979</span><span class='category'>drones</span><span class='brand'>Microsoft</span></div>\", 'output': {'name': 'Fitbit Charge 5', 'price': '$979', 'category': 'drones', 'manufacturer': 'Microsoft'}}, {'input': \"Extract the product information:\\n<div class='product'><h2>Asus ROG Strix</h2><span class='price'>$534</span><span class='category'>fitness</span><span class='brand'>HP</span></div>\", 'output': {'name': 'Asus ROG Strix', 'price': '$534', 'category': 'fitness', 'manufacturer': 'HP'}}, {'input': \"Extract the product information:\\n<div class='product'><h2>Bose QuietComfort 45</h2><span class='price'>$1277</span><span class='category'>audio</span><span class='brand'>Samsung</span></div>\", 'output': {'name': 'Bose QuietComfort 45', 'price': '$1277', 'category': 'audio', 'manufacturer': 'Samsung'}}, {'input': \"Extract the product information:\\n<div class='product'><h2>Google Pixel 7</h2><span class='price'>$299</span><span class='category'>cameras</span><span class='brand'>Google</span></div>\", 'output': {'name': 'Google Pixel 7', 'price': '$299', 'category': 'cameras', 'manufacturer': 'Google'}}, {'input': \"Extract the product information:\\n<div class='product'><h2>Nintendo Switch</h2><span class='price'>$1002</span><span class='category'>audio</span><span class='brand'>Amazon</span></div>\", 'output': {'name': 'Nintendo Switch', 'price': '$1002', 'category': 'audio', 'manufacturer': 'Amazon'}}, {'input': \"Extract the product information:\\n<div class='product'><h2>MacBook Pro 14</h2><span class='price'>$2061</span><span class='category'>electronics</span><span class='brand'>Canon</span></div>\", 'output': {'name': 'MacBook Pro 14', 'price': '$2061', 'category': 'electronics', 'manufacturer': 'Canon'}}, {'input': \"Extract the product information:\\n<div class='product'><h2>MacBook Pro 14</h2><span class='price'>$2492</span><span class='category'>electronics</span><span class='brand'>Apple</span></div>\", 'output': {'name': 'MacBook Pro 14', 'price': '$2492', 'category': 'electronics', 'manufacturer': 'Apple'}}, {'input': \"Extract the product information:\\n<div class='product'><h2>HP Envy 15</h2><span class='price'>$395</span><span class='category'>fitness</span><span class='brand'>HP</span></div>\", 'output': {'name': 'HP Envy 15', 'price': '$395', 'category': 'fitness', 'manufacturer': 'HP'}}, {'input': \"Extract the product information:\\n<div class='product'><h2>Dell XPS 13</h2><span class='price'>$677</span><span class='category'>cameras</span><span class='brand'>Asus</span></div>\", 'output': {'name': 'Dell XPS 13', 'price': '$677', 'category': 'cameras', 'manufacturer': 'Asus'}}, {'input': \"Extract the product information:\\n<div class='product'><h2>Nintendo Switch</h2><span class='price'>$2004</span><span class='category'>gaming</span><span class='brand'>Microsoft</span></div>\", 'output': {'name': 'Nintendo Switch', 'price': '$2004', 'category': 'gaming', 'manufacturer': 'Microsoft'}}, {'input': \"Extract the product information:\\n<div class='product'><h2>Nintendo Switch</h2><span class='price'>$2098</span><span class='category'>laptops</span><span class='brand'>Google</span></div>\", 'output': {'name': 'Nintendo Switch', 'price': '$2098', 'category': 'laptops', 'manufacturer': 'Google'}}, {'input': \"Extract the product information:\\n<div class='product'><h2>Google Pixel 7</h2><span class='price'>$448</span><span class='category'>audio</span><span class='brand'>Asus</span></div>\", 'output': {'name': 'Google Pixel 7', 'price': '$448', 'category': 'audio', 'manufacturer': 'Asus'}}, {'input': \"Extract the product information:\\n<div class='product'><h2>Sony WH-1000XM5</h2><span class='price'>$650</span><span class='category'>laptops</span><span class='brand'>Samsung</span></div>\", 'output': {'name': 'Sony WH-1000XM5', 'price': '$650', 'category': 'laptops', 'manufacturer': 'Samsung'}}, {'input': \"Extract the product information:\\n<div class='product'><h2>PlayStation 5</h2><span class='price'>$437</span><span class='category'>gaming</span><span class='brand'>Asus</span></div>\", 'output': {'name': 'PlayStation 5', 'price': '$437', 'category': 'gaming', 'manufacturer': 'Asus'}}, {'input': \"Extract the product information:\\n<div class='product'><h2>Samsung Galaxy S23</h2><span class='price'>$1002</span><span class='category'>cameras</span><span class='brand'>Google</span></div>\", 'output': {'name': 'Samsung Galaxy S23', 'price': '$1002', 'category': 'cameras', 'manufacturer': 'Google'}}, {'input': \"Extract the product information:\\n<div class='product'><h2>Xbox Series X</h2><span class='price'>$384</span><span class='category'>gaming</span><span class='brand'>Samsung</span></div>\", 'output': {'name': 'Xbox Series X', 'price': '$384', 'category': 'gaming', 'manufacturer': 'Samsung'}}, {'input': \"Extract the product information:\\n<div class='product'><h2>Apple Watch</h2><span class='price'>$951</span><span class='category'>electronics</span><span class='brand'>Apple</span></div>\", 'output': {'name': 'Apple Watch', 'price': '$951', 'category': 'electronics', 'manufacturer': 'Apple'}}, {'input': \"Extract the product information:\\n<div class='product'><h2>iPad Air</h2><span class='price'>$563</span><span class='category'>electronics</span><span class='brand'>Google</span></div>\", 'output': {'name': 'iPad Air', 'price': '$563', 'category': 'electronics', 'manufacturer': 'Google'}}, {'input': \"Extract the product information:\\n<div class='product'><h2>Dell XPS 13</h2><span class='price'>$1708</span><span class='category'>cameras</span><span class='brand'>Samsung</span></div>\", 'output': {'name': 'Dell XPS 13', 'price': '$1708', 'category': 'cameras', 'manufacturer': 'Samsung'}}, {'input': \"Extract the product information:\\n<div class='product'><h2>Bose QuietComfort 45</h2><span class='price'>$1194</span><span class='category'>cameras</span><span class='brand'>Apple</span></div>\", 'output': {'name': 'Bose QuietComfort 45', 'price': '$1194', 'category': 'cameras', 'manufacturer': 'Apple'}}, {'input': \"Extract the product information:\\n<div class='product'><h2>Samsung Galaxy S23</h2><span class='price'>$1027</span><span class='category'>electronics</span><span class='brand'>Samsung</span></div>\", 'output': {'name': 'Samsung Galaxy S23', 'price': '$1027', 'category': 'electronics', 'manufacturer': 'Samsung'}}, {'input': \"Extract the product information:\\n<div class='product'><h2>iPad Air</h2><span class='price'>$1106</span><span class='category'>cameras</span><span class='brand'>Apple</span></div>\", 'output': {'name': 'iPad Air', 'price': '$1106', 'category': 'cameras', 'manufacturer': 'Apple'}}, {'input': \"Extract the product information:\\n<div class='product'><h2>Bose QuietComfort 45</h2><span class='price'>$2429</span><span class='category'>gaming</span><span class='brand'>HP</span></div>\", 'output': {'name': 'Bose QuietComfort 45', 'price': '$2429', 'category': 'gaming', 'manufacturer': 'HP'}}, {'input': \"Extract the product information:\\n<div class='product'><h2>Asus ROG Strix</h2><span class='price'>$2492</span><span class='category'>smartphones</span><span class='brand'>HP</span></div>\", 'output': {'name': 'Asus ROG Strix', 'price': '$2492', 'category': 'smartphones', 'manufacturer': 'HP'}}, {'input': \"Extract the product information:\\n<div class='product'><h2>Apple Watch</h2><span class='price'>$258</span><span class='category'>fitness</span><span class='brand'>Canon</span></div>\", 'output': {'name': 'Apple Watch', 'price': '$258', 'category': 'fitness', 'manufacturer': 'Canon'}}, {'input': \"Extract the product information:\\n<div class='product'><h2>Canon EOS R</h2><span class='price'>$979</span><span class='category'>electronics</span><span class='brand'>Google</span></div>\", 'output': {'name': 'Canon EOS R', 'price': '$979', 'category': 'electronics', 'manufacturer': 'Google'}}, {'input': \"Extract the product information:\\n<div class='product'><h2>MacBook Pro 14</h2><span class='price'>$1086</span><span class='category'>gaming</span><span class='brand'>Sony</span></div>\", 'output': {'name': 'MacBook Pro 14', 'price': '$1086', 'category': 'gaming', 'manufacturer': 'Sony'}}, {'input': \"Extract the product information:\\n<div class='product'><h2>Razer DeathAdder V2</h2><span class='price'>$1685</span><span class='category'>fitness</span><span class='brand'>Asus</span></div>\", 'output': {'name': 'Razer DeathAdder V2', 'price': '$1685', 'category': 'fitness', 'manufacturer': 'Asus'}}, {'input': \"Extract the product information:\\n<div class='product'><h2>Asus ROG Strix</h2><span class='price'>$1002</span><span class='category'>gaming</span><span class='brand'>Apple</span></div>\", 'output': {'name': 'Asus ROG Strix', 'price': '$1002', 'category': 'gaming', 'manufacturer': 'Apple'}}, {'input': \"Extract the product information:\\n<div class='product'><h2>Bose QuietComfort 45</h2><span class='price'>$951</span><span class='category'>audio</span><span class='brand'>Google</span></div>\", 'output': {'name': 'Bose QuietComfort 45', 'price': '$951', 'category': 'audio', 'manufacturer': 'Google'}}, {'input': \"Extract the product information:\\n<div class='product'><h2>Asus ROG Strix</h2><span class='price'>$1978</span><span class='category'>audio</span><span class='brand'>Sony</span></div>\", 'output': {'name': 'Asus ROG Strix', 'price': '$1978', 'category': 'audio', 'manufacturer': 'Sony'}}, {'input': \"Extract the product information:\\n<div class='product'><h2>Kindle Paperwhite</h2><span class='price'>$454</span><span class='category'>electronics</span><span class='brand'>Sony</span></div>\", 'output': {'name': 'Kindle Paperwhite', 'price': '$454', 'category': 'electronics', 'manufacturer': 'Sony'}}, {'input': \"Extract the product information:\\n<div class='product'><h2>Dell XPS 13</h2><span class='price'>$819</span><span class='category'>electronics</span><span class='brand'>Samsung</span></div>\", 'output': {'name': 'Dell XPS 13', 'price': '$819', 'category': 'electronics', 'manufacturer': 'Samsung'}}, {'input': \"Extract the product information:\\n<div class='product'><h2>Bose QuietComfort 45</h2><span class='price'>$2429</span><span class='category'>gaming</span><span class='brand'>Sony</span></div>\", 'output': {'name': 'Bose QuietComfort 45', 'price': '$2429', 'category': 'gaming', 'manufacturer': 'Sony'}}, {'input': \"Extract the product information:\\n<div class='product'><h2>iPad Air</h2><span class='price'>$1344</span><span class='category'>cameras</span><span class='brand'>Google</span></div>\", 'output': {'name': 'iPad Air', 'price': '$1344', 'category': 'cameras', 'manufacturer': 'Google'}}, {'input': \"Extract the product information:\\n<div class='product'><h2>MacBook Pro 14</h2><span class='price'>$299</span><span class='category'>smartphones</span><span class='brand'>Canon</span></div>\", 'output': {'name': 'MacBook Pro 14', 'price': '$299', 'category': 'smartphones', 'manufacturer': 'Canon'}}, {'input': \"Extract the product information:\\n<div class='product'><h2>Bose QuietComfort 45</h2><span class='price'>$2389</span><span class='category'>electronics</span><span class='brand'>Asus</span></div>\", 'output': {'name': 'Bose QuietComfort 45', 'price': '$2389', 'category': 'electronics', 'manufacturer': 'Asus'}}, {'input': \"Extract the product information:\\n<div class='product'><h2>DJI Mini 3 Pro</h2><span class='price'>$1086</span><span class='category'>electronics</span><span class='brand'>Canon</span></div>\", 'output': {'name': 'DJI Mini 3 Pro', 'price': '$1086', 'category': 'electronics', 'manufacturer': 'Canon'}}, {'input': \"Extract the product information:\\n<div class='product'><h2>DJI Mini 3 Pro</h2><span class='price'>$1793</span><span class='category'>audio</span><span class='brand'>Apple</span></div>\", 'output': {'name': 'DJI Mini 3 Pro', 'price': '$1793', 'category': 'audio', 'manufacturer': 'Apple'}}, {'input': \"Extract the product information:\\n<div class='product'><h2>Bose QuietComfort 45</h2><span class='price'>$930</span><span class='category'>drones</span><span class='brand'>Amazon</span></div>\", 'output': {'name': 'Bose QuietComfort 45', 'price': '$930', 'category': 'drones', 'manufacturer': 'Amazon'}}, {'input': \"Extract the product information:\\n<div class='product'><h2>DJI Mini 3 Pro</h2><span class='price'>$1027</span><span class='category'>laptops</span><span class='brand'>Dell</span></div>\", 'output': {'name': 'DJI Mini 3 Pro', 'price': '$1027', 'category': 'laptops', 'manufacturer': 'Dell'}}, {'input': \"Extract the product information:\\n<div class='product'><h2>Bose QuietComfort 45</h2><span class='price'>$915</span><span class='category'>laptops</span><span class='brand'>Samsung</span></div>\", 'output': {'name': 'Bose QuietComfort 45', 'price': '$915', 'category': 'laptops', 'manufacturer': 'Samsung'}}, {'input': \"Extract the product information:\\n<div class='product'><h2>Nintendo Switch</h2><span class='price'>$258</span><span class='category'>drones</span><span class='brand'>Amazon</span></div>\", 'output': {'name': 'Nintendo Switch', 'price': '$258', 'category': 'drones', 'manufacturer': 'Amazon'}}, {'input': \"Extract the product information:\\n<div class='product'><h2>Nintendo Switch</h2><span class='price'>$380</span><span class='category'>laptops</span><span class='brand'>Asus</span></div>\", 'output': {'name': 'Nintendo Switch', 'price': '$380', 'category': 'laptops', 'manufacturer': 'Asus'}}, {'input': \"Extract the product information:\\n<div class='product'><h2>PlayStation 5</h2><span class='price'>$299</span><span class='category'>laptops</span><span class='brand'>Sony</span></div>\", 'output': {'name': 'PlayStation 5', 'price': '$299', 'category': 'laptops', 'manufacturer': 'Sony'}}, {'input': \"Extract the product information:\\n<div class='product'><h2>Nikon Z6 II</h2><span class='price'>$951</span><span class='category'>laptops</span><span class='brand'>Canon</span></div>\", 'output': {'name': 'Nikon Z6 II', 'price': '$951', 'category': 'laptops', 'manufacturer': 'Canon'}}, {'input': \"Extract the product information:\\n<div class='product'><h2>Sony WH-1000XM5</h2><span class='price'>$1277</span><span class='category'>fitness</span><span class='brand'>Microsoft</span></div>\", 'output': {'name': 'Sony WH-1000XM5', 'price': '$1277', 'category': 'fitness', 'manufacturer': 'Microsoft'}}, {'input': \"Extract the product information:\\n<div class='product'><h2>Bose QuietComfort 45</h2><span class='price'>$930</span><span class='category'>drones</span><span class='brand'>HP</span></div>\", 'output': {'name': 'Bose QuietComfort 45', 'price': '$930', 'category': 'drones', 'manufacturer': 'HP'}}, {'input': \"Extract the product information:\\n<div class='product'><h2>Nintendo Switch</h2><span class='price'>$2492</span><span class='category'>smartphones</span><span class='brand'>Dell</span></div>\", 'output': {'name': 'Nintendo Switch', 'price': '$2492', 'category': 'smartphones', 'manufacturer': 'Dell'}}, {'input': \"Extract the product information:\\n<div class='product'><h2>Xbox Series X</h2><span class='price'>$2004</span><span class='category'>laptops</span><span class='brand'>Apple</span></div>\", 'output': {'name': 'Xbox Series X', 'price': '$2004', 'category': 'laptops', 'manufacturer': 'Apple'}}, {'input': \"Extract the product information:\\n<div class='product'><h2>Nintendo Switch</h2><span class='price'>$1685</span><span class='category'>electronics</span><span class='brand'>Sony</span></div>\", 'output': {'name': 'Nintendo Switch', 'price': '$1685', 'category': 'electronics', 'manufacturer': 'Sony'}}, {'input': \"Extract the product information:\\n<div class='product'><h2>Logitech MX Master 3</h2><span class='price'>$819</span><span class='category'>fitness</span><span class='brand'>Asus</span></div>\", 'output': {'name': 'Logitech MX Master 3', 'price': '$819', 'category': 'fitness', 'manufacturer': 'Asus'}}, {'input': \"Extract the product information:\\n<div class='product'><h2>Xbox Series X</h2><span class='price'>$1688</span><span class='category'>smartphones</span><span class='brand'>Samsung</span></div>\", 'output': {'name': 'Xbox Series X', 'price': '$1688', 'category': 'smartphones', 'manufacturer': 'Samsung'}}, {'input': \"Extract the product information:\\n<div class='product'><h2>Bose QuietComfort 45</h2><span class='price'>$2061</span><span class='category'>fitness</span><span class='brand'>Samsung</span></div>\", 'output': {'name': 'Bose QuietComfort 45', 'price': '$2061', 'category': 'fitness', 'manufacturer': 'Samsung'}}, {'input': \"Extract the product information:\\n<div class='product'><h2>Razer DeathAdder V2</h2><span class='price'>$1344</span><span class='category'>audio</span><span class='brand'>Microsoft</span></div>\", 'output': {'name': 'Razer DeathAdder V2', 'price': '$1344', 'category': 'audio', 'manufacturer': 'Microsoft'}}, {'input': \"Extract the product information:\\n<div class='product'><h2>Dell XPS 13</h2><span class='price'>$446</span><span class='category'>laptops</span><span class='brand'>Apple</span></div>\", 'output': {'name': 'Dell XPS 13', 'price': '$446', 'category': 'laptops', 'manufacturer': 'Apple'}}, {'input': \"Extract the product information:\\n<div class='product'><h2>Logitech MX Master 3</h2><span class='price'>$915</span><span class='category'>fitness</span><span class='brand'>Canon</span></div>\", 'output': {'name': 'Logitech MX Master 3', 'price': '$915', 'category': 'fitness', 'manufacturer': 'Canon'}}, {'input': \"Extract the product information:\\n<div class='product'><h2>Fitbit Charge 5</h2><span class='price'>$1708</span><span class='category'>gaming</span><span class='brand'>Amazon</span></div>\", 'output': {'name': 'Fitbit Charge 5', 'price': '$1708', 'category': 'gaming', 'manufacturer': 'Amazon'}}, {'input': \"Extract the product information:\\n<div class='product'><h2>Xbox Series X</h2><span class='price'>$384</span><span class='category'>fitness</span><span class='brand'>HP</span></div>\", 'output': {'name': 'Xbox Series X', 'price': '$384', 'category': 'fitness', 'manufacturer': 'HP'}}, {'input': \"Extract the product information:\\n<div class='product'><h2>MacBook Pro 14</h2><span class='price'>$585</span><span class='category'>cameras</span><span class='brand'>Sony</span></div>\", 'output': {'name': 'MacBook Pro 14', 'price': '$585', 'category': 'cameras', 'manufacturer': 'Sony'}}, {'input': \"Extract the product information:\\n<div class='product'><h2>Apple Watch</h2><span class='price'>$2061</span><span class='category'>fitness</span><span class='brand'>Microsoft</span></div>\", 'output': {'name': 'Apple Watch', 'price': '$2061', 'category': 'fitness', 'manufacturer': 'Microsoft'}}, {'input': \"Extract the product information:\\n<div class='product'><h2>Xbox Series X</h2><span class='price'>$2429</span><span class='category'>cameras</span><span class='brand'>Sony</span></div>\", 'output': {'name': 'Xbox Series X', 'price': '$2429', 'category': 'cameras', 'manufacturer': 'Sony'}}, {'input': \"Extract the product information:\\n<div class='product'><h2>Logitech MX Master 3</h2><span class='price'>$1793</span><span class='category'>drones</span><span class='brand'>Asus</span></div>\", 'output': {'name': 'Logitech MX Master 3', 'price': '$1793', 'category': 'drones', 'manufacturer': 'Asus'}}, {'input': \"Extract the product information:\\n<div class='product'><h2>Logitech MX Master 3</h2><span class='price'>$437</span><span class='category'>audio</span><span class='brand'>Canon</span></div>\", 'output': {'name': 'Logitech MX Master 3', 'price': '$437', 'category': 'audio', 'manufacturer': 'Canon'}}, {'input': \"Extract the product information:\\n<div class='product'><h2>iPad Air</h2><span class='price'>$1027</span><span class='category'>fitness</span><span class='brand'>Amazon</span></div>\", 'output': {'name': 'iPad Air', 'price': '$1027', 'category': 'fitness', 'manufacturer': 'Amazon'}}, {'input': \"Extract the product information:\\n<div class='product'><h2>Xbox Series X</h2><span class='price'>$2100</span><span class='category'>laptops</span><span class='brand'>Microsoft</span></div>\", 'output': {'name': 'Xbox Series X', 'price': '$2100', 'category': 'laptops', 'manufacturer': 'Microsoft'}}, {'input': \"Extract the product information:\\n<div class='product'><h2>HP Envy 15</h2><span class='price'>$384</span><span class='category'>fitness</span><span class='brand'>Dell</span></div>\", 'output': {'name': 'HP Envy 15', 'price': '$384', 'category': 'fitness', 'manufacturer': 'Dell'}}, {'input': \"Extract the product information:\\n<div class='product'><h2>Dell XPS 13</h2><span class='price'>$2429</span><span class='category'>cameras</span><span class='brand'>Dell</span></div>\", 'output': {'name': 'Dell XPS 13', 'price': '$2429', 'category': 'cameras', 'manufacturer': 'Dell'}}, {'input': \"Extract the product information:\\n<div class='product'><h2>Nintendo Switch</h2><span class='price'>$677</span><span class='category'>drones</span><span class='brand'>Apple</span></div>\", 'output': {'name': 'Nintendo Switch', 'price': '$677', 'category': 'drones', 'manufacturer': 'Apple'}}, {'input': \"Extract the product information:\\n<div class='product'><h2>Google Pixel 7</h2><span class='price'>$1086</span><span class='category'>cameras</span><span class='brand'>Amazon</span></div>\", 'output': {'name': 'Google Pixel 7', 'price': '$1086', 'category': 'cameras', 'manufacturer': 'Amazon'}}, {'input': \"Extract the product information:\\n<div class='product'><h2>Google Pixel 7</h2><span class='price'>$258</span><span class='category'>audio</span><span class='brand'>Amazon</span></div>\", 'output': {'name': 'Google Pixel 7', 'price': '$258', 'category': 'audio', 'manufacturer': 'Amazon'}}, {'input': \"Extract the product information:\\n<div class='product'><h2>Google Pixel 7</h2><span class='price'>$2100</span><span class='category'>audio</span><span class='brand'>Amazon</span></div>\", 'output': {'name': 'Google Pixel 7', 'price': '$2100', 'category': 'audio', 'manufacturer': 'Amazon'}}, {'input': \"Extract the product information:\\n<div class='product'><h2>Razer DeathAdder V2</h2><span class='price'>$1688</span><span class='category'>cameras</span><span class='brand'>Asus</span></div>\", 'output': {'name': 'Razer DeathAdder V2', 'price': '$1688', 'category': 'cameras', 'manufacturer': 'Asus'}}, {'input': \"Extract the product information:\\n<div class='product'><h2>Dell XPS 13</h2><span class='price'>$2098</span><span class='category'>cameras</span><span class='brand'>Microsoft</span></div>\", 'output': {'name': 'Dell XPS 13', 'price': '$2098', 'category': 'cameras', 'manufacturer': 'Microsoft'}}, {'input': \"Extract the product information:\\n<div class='product'><h2>Asus ROG Strix</h2><span class='price'>$951</span><span class='category'>electronics</span><span class='brand'>Samsung</span></div>\", 'output': {'name': 'Asus ROG Strix', 'price': '$951', 'category': 'electronics', 'manufacturer': 'Samsung'}}, {'input': \"Extract the product information:\\n<div class='product'><h2>Asus ROG Strix</h2><span class='price'>$2396</span><span class='category'>smartphones</span><span class='brand'>Amazon</span></div>\", 'output': {'name': 'Asus ROG Strix', 'price': '$2396', 'category': 'smartphones', 'manufacturer': 'Amazon'}}, {'input': \"Extract the product information:\\n<div class='product'><h2>Dell XPS 13</h2><span class='price'>$395</span><span class='category'>electronics</span><span class='brand'>Dell</span></div>\", 'output': {'name': 'Dell XPS 13', 'price': '$395', 'category': 'electronics', 'manufacturer': 'Dell'}}, {'input': \"Extract the product information:\\n<div class='product'><h2>Xbox Series X</h2><span class='price'>$1246</span><span class='category'>electronics</span><span class='brand'>Apple</span></div>\", 'output': {'name': 'Xbox Series X', 'price': '$1246', 'category': 'electronics', 'manufacturer': 'Apple'}}, {'input': \"Extract the product information:\\n<div class='product'><h2>PlayStation 5</h2><span class='price'>$299</span><span class='category'>fitness</span><span class='brand'>Dell</span></div>\", 'output': {'name': 'PlayStation 5', 'price': '$299', 'category': 'fitness', 'manufacturer': 'Dell'}}, {'input': \"Extract the product information:\\n<div class='product'><h2>Razer DeathAdder V2</h2><span class='price'>$2429</span><span class='category'>drones</span><span class='brand'>Samsung</span></div>\", 'output': {'name': 'Razer DeathAdder V2', 'price': '$2429', 'category': 'drones', 'manufacturer': 'Samsung'}}, {'input': \"Extract the product information:\\n<div class='product'><h2>Google Pixel 7</h2><span class='price'>$930</span><span class='category'>drones</span><span class='brand'>HP</span></div>\", 'output': {'name': 'Google Pixel 7', 'price': '$930', 'category': 'drones', 'manufacturer': 'HP'}}, {'input': \"Extract the product information:\\n<div class='product'><h2>Razer DeathAdder V2</h2><span class='price'>$384</span><span class='category'>electronics</span><span class='brand'>Asus</span></div>\", 'output': {'name': 'Razer DeathAdder V2', 'price': '$384', 'category': 'electronics', 'manufacturer': 'Asus'}}, {'input': \"Extract the product information:\\n<div class='product'><h2>Razer DeathAdder V2</h2><span class='price'>$1344</span><span class='category'>fitness</span><span class='brand'>Google</span></div>\", 'output': {'name': 'Razer DeathAdder V2', 'price': '$1344', 'category': 'fitness', 'manufacturer': 'Google'}}, {'input': \"Extract the product information:\\n<div class='product'><h2>Nintendo Switch</h2><span class='price'>$2396</span><span class='category'>fitness</span><span class='brand'>Canon</span></div>\", 'output': {'name': 'Nintendo Switch', 'price': '$2396', 'category': 'fitness', 'manufacturer': 'Canon'}}, {'input': \"Extract the product information:\\n<div class='product'><h2>Asus ROG Strix</h2><span class='price'>$1277</span><span class='category'>electronics</span><span class='brand'>Dell</span></div>\", 'output': {'name': 'Asus ROG Strix', 'price': '$1277', 'category': 'electronics', 'manufacturer': 'Dell'}}, {'input': \"Extract the product information:\\n<div class='product'><h2>Asus ROG Strix</h2><span class='price'>$2061</span><span class='category'>laptops</span><span class='brand'>Sony</span></div>\", 'output': {'name': 'Asus ROG Strix', 'price': '$2061', 'category': 'laptops', 'manufacturer': 'Sony'}}, {'input': \"Extract the product information:\\n<div class='product'><h2>Razer DeathAdder V2</h2><span class='price'>$2102</span><span class='category'>cameras</span><span class='brand'>Asus</span></div>\", 'output': {'name': 'Razer DeathAdder V2', 'price': '$2102', 'category': 'cameras', 'manufacturer': 'Asus'}}, {'input': \"Extract the product information:\\n<div class='product'><h2>Razer DeathAdder V2</h2><span class='price'>$1978</span><span class='category'>drones</span><span class='brand'>Microsoft</span></div>\", 'output': {'name': 'Razer DeathAdder V2', 'price': '$1978', 'category': 'drones', 'manufacturer': 'Microsoft'}}, {'input': \"Extract the product information:\\n<div class='product'><h2>Nintendo Switch</h2><span class='price'>$2004</span><span class='category'>gaming</span><span class='brand'>HP</span></div>\", 'output': {'name': 'Nintendo Switch', 'price': '$2004', 'category': 'gaming', 'manufacturer': 'HP'}}, {'input': \"Extract the product information:\\n<div class='product'><h2>iPad Air</h2><span class='price'>$299</span><span class='category'>cameras</span><span class='brand'>Asus</span></div>\", 'output': {'name': 'iPad Air', 'price': '$299', 'category': 'cameras', 'manufacturer': 'Asus'}}, {'input': \"Extract the product information:\\n<div class='product'><h2>DJI Mini 3 Pro</h2><span class='price'>$979</span><span class='category'>audio</span><span class='brand'>Dell</span></div>\", 'output': {'name': 'DJI Mini 3 Pro', 'price': '$979', 'category': 'audio', 'manufacturer': 'Dell'}}, {'input': \"Extract the product information:\\n<div class='product'><h2>PlayStation 5</h2><span class='price'>$448</span><span class='category'>fitness</span><span class='brand'>Samsung</span></div>\", 'output': {'name': 'PlayStation 5', 'price': '$448', 'category': 'fitness', 'manufacturer': 'Samsung'}}, {'input': \"Extract the product information:\\n<div class='product'><h2>Canon EOS R</h2><span class='price'>$585</span><span class='category'>laptops</span><span class='brand'>Google</span></div>\", 'output': {'name': 'Canon EOS R', 'price': '$585', 'category': 'laptops', 'manufacturer': 'Google'}}, {'input': \"Extract the product information:\\n<div class='product'><h2>Canon EOS R</h2><span class='price'>$454</span><span class='category'>audio</span><span class='brand'>Sony</span></div>\", 'output': {'name': 'Canon EOS R', 'price': '$454', 'category': 'audio', 'manufacturer': 'Sony'}}, {'input': \"Extract the product information:\\n<div class='product'><h2>iPad Air</h2><span class='price'>$930</span><span class='category'>laptops</span><span class='brand'>Canon</span></div>\", 'output': {'name': 'iPad Air', 'price': '$930', 'category': 'laptops', 'manufacturer': 'Canon'}}, {'input': \"Extract the product information:\\n<div class='product'><h2>Nikon Z6 II</h2><span class='price'>$1106</span><span class='category'>gaming</span><span class='brand'>Samsung</span></div>\", 'output': {'name': 'Nikon Z6 II', 'price': '$1106', 'category': 'gaming', 'manufacturer': 'Samsung'}}, {'input': \"Extract the product information:\\n<div class='product'><h2>Fitbit Charge 5</h2><span class='price'>$1447</span><span class='category'>electronics</span><span class='brand'>Canon</span></div>\", 'output': {'name': 'Fitbit Charge 5', 'price': '$1447', 'category': 'electronics', 'manufacturer': 'Canon'}}, {'input': \"Extract the product information:\\n<div class='product'><h2>MacBook Pro 14</h2><span class='price'>$2492</span><span class='category'>cameras</span><span class='brand'>Apple</span></div>\", 'output': {'name': 'MacBook Pro 14', 'price': '$2492', 'category': 'cameras', 'manufacturer': 'Apple'}}, {'input': \"Extract the product information:\\n<div class='product'><h2>Xbox Series X</h2><span class='price'>$454</span><span class='category'>audio</span><span class='brand'>Samsung</span></div>\", 'output': {'name': 'Xbox Series X', 'price': '$454', 'category': 'audio', 'manufacturer': 'Samsung'}}, {'input': \"Extract the product information:\\n<div class='product'><h2>PlayStation 5</h2><span class='price'>$1685</span><span class='category'>fitness</span><span class='brand'>Dell</span></div>\", 'output': {'name': 'PlayStation 5', 'price': '$1685', 'category': 'fitness', 'manufacturer': 'Dell'}}, {'input': \"Extract the product information:\\n<div class='product'><h2>MacBook Pro 14</h2><span class='price'>$446</span><span class='category'>smartphones</span><span class='brand'>Sony</span></div>\", 'output': {'name': 'MacBook Pro 14', 'price': '$446', 'category': 'smartphones', 'manufacturer': 'Sony'}}, {'input': \"Extract the product information:\\n<div class='product'><h2>Nikon Z6 II</h2><span class='price'>$1027</span><span class='category'>audio</span><span class='brand'>Google</span></div>\", 'output': {'name': 'Nikon Z6 II', 'price': '$1027', 'category': 'audio', 'manufacturer': 'Google'}}, {'input': \"Extract the product information:\\n<div class='product'><h2>Xbox Series X</h2><span class='price'>$1246</span><span class='category'>electronics</span><span class='brand'>Asus</span></div>\", 'output': {'name': 'Xbox Series X', 'price': '$1246', 'category': 'electronics', 'manufacturer': 'Asus'}}, {'input': \"Extract the product information:\\n<div class='product'><h2>MacBook Pro 14</h2><span class='price'>$1002</span><span class='category'>audio</span><span class='brand'>Apple</span></div>\", 'output': {'name': 'MacBook Pro 14', 'price': '$1002', 'category': 'audio', 'manufacturer': 'Apple'}}, {'input': \"Extract the product information:\\n<div class='product'><h2>Xbox Series X</h2><span class='price'>$1194</span><span class='category'>electronics</span><span class='brand'>Asus</span></div>\", 'output': {'name': 'Xbox Series X', 'price': '$1194', 'category': 'electronics', 'manufacturer': 'Asus'}}, {'input': \"Extract the product information:\\n<div class='product'><h2>Nikon Z6 II</h2><span class='price'>$1978</span><span class='category'>drones</span><span class='brand'>Google</span></div>\", 'output': {'name': 'Nikon Z6 II', 'price': '$1978', 'category': 'drones', 'manufacturer': 'Google'}}, {'input': \"Extract the product information:\\n<div class='product'><h2>Logitech MX Master 3</h2><span class='price'>$1086</span><span class='category'>laptops</span><span class='brand'>Google</span></div>\", 'output': {'name': 'Logitech MX Master 3', 'price': '$1086', 'category': 'laptops', 'manufacturer': 'Google'}}, {'input': \"Extract the product information:\\n<div class='product'><h2>Asus ROG Strix</h2><span class='price'>$299</span><span class='category'>gaming</span><span class='brand'>Asus</span></div>\", 'output': {'name': 'Asus ROG Strix', 'price': '$299', 'category': 'gaming', 'manufacturer': 'Asus'}}, {'input': \"Extract the product information:\\n<div class='product'><h2>Fitbit Charge 5</h2><span class='price'>$1708</span><span class='category'>laptops</span><span class='brand'>Asus</span></div>\", 'output': {'name': 'Fitbit Charge 5', 'price': '$1708', 'category': 'laptops', 'manufacturer': 'Asus'}}, {'input': \"Extract the product information:\\n<div class='product'><h2>Nikon Z6 II</h2><span class='price'>$650</span><span class='category'>drones</span><span class='brand'>Dell</span></div>\", 'output': {'name': 'Nikon Z6 II', 'price': '$650', 'category': 'drones', 'manufacturer': 'Dell'}}, {'input': \"Extract the product information:\\n<div class='product'><h2>DJI Mini 3 Pro</h2><span class='price'>$1162</span><span class='category'>drones</span><span class='brand'>Dell</span></div>\", 'output': {'name': 'DJI Mini 3 Pro', 'price': '$1162', 'category': 'drones', 'manufacturer': 'Dell'}}, {'input': \"Extract the product information:\\n<div class='product'><h2>Bose QuietComfort 45</h2><span class='price'>$2100</span><span class='category'>smartphones</span><span class='brand'>Google</span></div>\", 'output': {'name': 'Bose QuietComfort 45', 'price': '$2100', 'category': 'smartphones', 'manufacturer': 'Google'}}, {'input': \"Extract the product information:\\n<div class='product'><h2>MacBook Pro 14</h2><span class='price'>$1403</span><span class='category'>fitness</span><span class='brand'>Sony</span></div>\", 'output': {'name': 'MacBook Pro 14', 'price': '$1403', 'category': 'fitness', 'manufacturer': 'Sony'}}, {'input': \"Extract the product information:\\n<div class='product'><h2>Google Pixel 7</h2><span class='price'>$1194</span><span class='category'>fitness</span><span class='brand'>Dell</span></div>\", 'output': {'name': 'Google Pixel 7', 'price': '$1194', 'category': 'fitness', 'manufacturer': 'Dell'}}, {'input': \"Extract the product information:\\n<div class='product'><h2>Dell XPS 13</h2><span class='price'>$454</span><span class='category'>audio</span><span class='brand'>Dell</span></div>\", 'output': {'name': 'Dell XPS 13', 'price': '$454', 'category': 'audio', 'manufacturer': 'Dell'}}, {'input': \"Extract the product information:\\n<div class='product'><h2>Nikon Z6 II</h2><span class='price'>$1246</span><span class='category'>drones</span><span class='brand'>Amazon</span></div>\", 'output': {'name': 'Nikon Z6 II', 'price': '$1246', 'category': 'drones', 'manufacturer': 'Amazon'}}, {'input': \"Extract the product information:\\n<div class='product'><h2>Samsung Galaxy S23</h2><span class='price'>$2004</span><span class='category'>laptops</span><span class='brand'>Samsung</span></div>\", 'output': {'name': 'Samsung Galaxy S23', 'price': '$2004', 'category': 'laptops', 'manufacturer': 'Samsung'}}, {'input': \"Extract the product information:\\n<div class='product'><h2>Apple Watch</h2><span class='price'>$1194</span><span class='category'>fitness</span><span class='brand'>Canon</span></div>\", 'output': {'name': 'Apple Watch', 'price': '$1194', 'category': 'fitness', 'manufacturer': 'Canon'}}, {'input': \"Extract the product information:\\n<div class='product'><h2>Logitech MX Master 3</h2><span class='price'>$563</span><span class='category'>electronics</span><span class='brand'>Samsung</span></div>\", 'output': {'name': 'Logitech MX Master 3', 'price': '$563', 'category': 'electronics', 'manufacturer': 'Samsung'}}, {'input': \"Extract the product information:\\n<div class='product'><h2>DJI Mini 3 Pro</h2><span class='price'>$1688</span><span class='category'>smartphones</span><span class='brand'>Google</span></div>\", 'output': {'name': 'DJI Mini 3 Pro', 'price': '$1688', 'category': 'smartphones', 'manufacturer': 'Google'}}, {'input': \"Extract the product information:\\n<div class='product'><h2>Nintendo Switch</h2><span class='price'>$2061</span><span class='category'>drones</span><span class='brand'>Amazon</span></div>\", 'output': {'name': 'Nintendo Switch', 'price': '$2061', 'category': 'drones', 'manufacturer': 'Amazon'}}, {'input': \"Extract the product information:\\n<div class='product'><h2>Nikon Z6 II</h2><span class='price'>$453</span><span class='category'>gaming</span><span class='brand'>HP</span></div>\", 'output': {'name': 'Nikon Z6 II', 'price': '$453', 'category': 'gaming', 'manufacturer': 'HP'}}, {'input': \"Extract the product information:\\n<div class='product'><h2>HP Envy 15</h2><span class='price'>$979</span><span class='category'>laptops</span><span class='brand'>Asus</span></div>\", 'output': {'name': 'HP Envy 15', 'price': '$979', 'category': 'laptops', 'manufacturer': 'Asus'}}, {'input': \"Extract the product information:\\n<div class='product'><h2>Dell XPS 13</h2><span class='price'>$2389</span><span class='category'>cameras</span><span class='brand'>Canon</span></div>\", 'output': {'name': 'Dell XPS 13', 'price': '$2389', 'category': 'cameras', 'manufacturer': 'Canon'}}, {'input': \"Extract the product information:\\n<div class='product'><h2>Nikon Z6 II</h2><span class='price'>$1002</span><span class='category'>audio</span><span class='brand'>Dell</span></div>\", 'output': {'name': 'Nikon Z6 II', 'price': '$1002', 'category': 'audio', 'manufacturer': 'Dell'}}, {'input': \"Extract the product information:\\n<div class='product'><h2>Kindle Paperwhite</h2><span class='price'>$1576</span><span class='category'>drones</span><span class='brand'>Dell</span></div>\", 'output': {'name': 'Kindle Paperwhite', 'price': '$1576', 'category': 'drones', 'manufacturer': 'Dell'}}, {'input': \"Extract the product information:\\n<div class='product'><h2>Razer DeathAdder V2</h2><span class='price'>$2389</span><span class='category'>fitness</span><span class='brand'>Google</span></div>\", 'output': {'name': 'Razer DeathAdder V2', 'price': '$2389', 'category': 'fitness', 'manufacturer': 'Google'}}, {'input': \"Extract the product information:\\n<div class='product'><h2>Kindle Paperwhite</h2><span class='price'>$915</span><span class='category'>smartphones</span><span class='brand'>Dell</span></div>\", 'output': {'name': 'Kindle Paperwhite', 'price': '$915', 'category': 'smartphones', 'manufacturer': 'Dell'}}, {'input': \"Extract the product information:\\n<div class='product'><h2>DJI Mini 3 Pro</h2><span class='price'>$2389</span><span class='category'>gaming</span><span class='brand'>Apple</span></div>\", 'output': {'name': 'DJI Mini 3 Pro', 'price': '$2389', 'category': 'gaming', 'manufacturer': 'Apple'}}]\n"
     ]
    }
   ],
   "source": [
    "import json\n",
    "\n",
    "file = json.load(open('/content/json_dataset_500.json', 'r'))\n",
    "print(file)\n"
   ]
  },
  {
   "cell_type": "code",
   "execution_count": 2,
   "metadata": {
    "id": "BaiQtfg4YOSn"
   },
   "outputs": [],
   "source": [
    "!pip install -q unsloth trl peft accelerate bitsandbytes"
   ]
  },
  {
   "cell_type": "code",
   "execution_count": 3,
   "metadata": {
    "colab": {
     "base_uri": "https://localhost:8080/"
    },
    "id": "1gl7ncwBbTJx",
    "outputId": "c4675526-5029-433d-c249-eb4e1ee5fe6f"
   },
   "outputs": [
    {
     "name": "stdout",
     "output_type": "stream",
     "text": [
      "cuda available:True\n",
      "GPU: Tesla T4\n"
     ]
    }
   ],
   "source": [
    "# for GPU check\n",
    "import torch\n",
    "print(f\"cuda available:{torch.cuda.is_available() }\")\n",
    "print(f\"GPU: {torch.cuda.get_device_name(0) if torch.cuda.is_available() else 'None'}\")"
   ]
  },
  {
   "cell_type": "code",
   "execution_count": 4,
   "metadata": {
    "colab": {
     "base_uri": "https://localhost:8080/",
     "height": 380,
     "referenced_widgets": [
      "94a64f636c0e403c982cab76b7a960b0",
      "c76a4111c4c04e6fb7ba74a7007a9068",
      "d9104c0c70b84ff2ba3f7152715e7bde",
      "922c6fc88c8b43829aecd18106ed34df",
      "adc2b7d766c1423aa5be6f4f8a70c8e3",
      "e3d493a2345d4730b393945944110274",
      "5125846c6e554e50894cdb2a6f92553b",
      "a7f2da0250a646caac35db61f43fade1",
      "c4541c3df12c41f49a9a15de3ded9111",
      "894bc664efe04c12aead3081ddf82ad1",
      "971703b69b634a418a0549d4280e6e2e",
      "62b72b9562be4e55aaef011ff269317b",
      "052a290a7ed74316b336e889e483e030",
      "ff84e4978f5d4038851b1d522b88b679",
      "30c4aebe474e433188614e457273d415",
      "4b2b25db05b141ca8467f8deadd60809",
      "5d4cda80ae394435904fa82362b93121",
      "0945beb019e44c6a956ddaa2263f66ba",
      "4337864c31204d1d96e49be9fc41abad",
      "c558cf3b084744ef85387e1a10e3bf1a",
      "61e9463e55a74787bde09c010d482a62",
      "6604c59913e84e03b30df28920a4dabe",
      "9064698bcdaf4bd6b44c60f09ff57302",
      "94b991916e6c46ddb1ac522e52225941",
      "5f3a4357a5a940b693d59339f4cdd0c7",
      "e7ecae5094024df1961cba2397a0fca3",
      "953e6617b49246fdb71caf06a164aa83",
      "4e3d5c8996cc4ea0a28592da7cf349e9",
      "15c9b469121a4fa79f03e72c01af0cef",
      "aee3c0376678434f8df8bc3f9cc7e34c",
      "4e610cc8518b4b9caf592141c5106ae7",
      "292276cb1ad84174b129c14dbf653c7f",
      "b589b9ef11744e62883ebbd816d9c07e",
      "3ffe568624784dbd894d4d172a2fd010",
      "2498ce10a7d74220b46f082ba80b6019",
      "76bea7464d084b6e99c4805f35ed2b95",
      "a8a6785b76754550a5461ec5fa4a8f0c",
      "3337631cc95a4a8c962bbad3b85fa252",
      "c1f02fb4efb84c05b969cc2e18d1b1c8",
      "e1b4d8e290fe4d43920a89cf0ad09376",
      "232c553b78974e98bdb68c0dd0321c72",
      "c4f8c31ecd504aaf9a1153a84754cf36",
      "5a8ed719791843faab97a449010f8936",
      "420210e1a3864de5a21ee51d5bf922cd",
      "2948bd1d22b3407e931e980c4cee5f45",
      "91ef10a7bc23423bbfdc6afdc8b199cc",
      "01077615e1b94350a2d40964cdafc7f2",
      "e45caad9c93b4ef1a28ef645dedaff47",
      "1a128276af18444092735bb92bbda93d",
      "b80e299d4a374831a11ee8d0ab23e593",
      "51fce996652c486e8c3c3afbc6ba83a3",
      "9f8324a07b384555a6834a75b67751dd",
      "d9b7a8682574411eab9570188484f273",
      "e4dedf5a2b7c4b19b4a9e93cebeb1e61",
      "3b21ad3023d84836a921a0dff51cc76b",
      "472262baad434bd0b8326c724271de5e",
      "f1756f52edd24fefa6a3bfea7a55f59a",
      "21c2509bdb3542a48aa3bfc66112d104",
      "4ac7c5e5d65d4700853575c2da11efa6",
      "3c96d13fb405495d803c9203c940c8fa",
      "75500133bac440aaa61ed550d5ae8fb9",
      "8bbfb98d7a15471683cb508d2c04ba44",
      "fdd11440d9db4805b9ba14f57374cb97",
      "1435c4a3634a4f4d89d2a6e8c829b483",
      "1438e0c78cd348128f126c7361460895",
      "60afc22ae5584a0f8177ed0512f11da8",
      "820b046edc3c4903bbd6cb98357864ca",
      "7dbbc2f006d84d8f83f81f5598e866d8",
      "b07cc431dfd8497d8de3ad5ef7af86b7",
      "661ca789c4ae4641b89394780551d018",
      "fdefe03cccb44a428c020951e42ddd9c",
      "59a56bfafb284f79a392a465c290b681",
      "bfca3e724aff480cadfe2276e5e7193e",
      "1e5eb3e0bcac484f843bed3da8d6a497",
      "8f5d8b3bece04cc7a2bf3cf6700c620e",
      "36d83d488e4540a8ac0a835b6f8ab11a",
      "c9a1c90943a147a2969ea671cc9bb60f"
     ]
    },
    "id": "MBdKF4otbbcd",
    "outputId": "966b40b2-f694-48a8-8a13-21bfd648aa84"
   },
   "outputs": [
    {
     "name": "stdout",
     "output_type": "stream",
     "text": [
      "🦥 Unsloth: Will patch your computer to enable 2x faster free finetuning.\n",
      "🦥 Unsloth Zoo will now patch everything to make training faster!\n",
      "==((====))==  Unsloth 2025.6.12: Fast Mistral patching. Transformers: 4.53.0.\n",
      "   \\\\   /|    Tesla T4. Num GPUs = 1. Max memory: 14.741 GB. Platform: Linux.\n",
      "O^O/ \\_/ \\    Torch: 2.7.0+cu126. CUDA: 7.5. CUDA Toolkit: 12.6. Triton: 3.3.0\n",
      "\\        /    Bfloat16 = FALSE. FA [Xformers = 0.0.30. FA2 = False]\n",
      " \"-____-\"     Free license: http://github.com/unslothai/unsloth\n",
      "Unsloth: Fast downloading is enabled - ignore downloading bars which are red colored!\n"
     ]
    },
    {
     "data": {
      "application/vnd.jupyter.widget-view+json": {
       "model_id": "94a64f636c0e403c982cab76b7a960b0",
       "version_major": 2,
       "version_minor": 0
      },
      "text/plain": [
       "model.safetensors:   0%|          | 0.00/2.26G [00:00<?, ?B/s]"
      ]
     },
     "metadata": {},
     "output_type": "display_data"
    },
    {
     "data": {
      "application/vnd.jupyter.widget-view+json": {
       "model_id": "62b72b9562be4e55aaef011ff269317b",
       "version_major": 2,
       "version_minor": 0
      },
      "text/plain": [
       "generation_config.json:   0%|          | 0.00/194 [00:00<?, ?B/s]"
      ]
     },
     "metadata": {},
     "output_type": "display_data"
    },
    {
     "data": {
      "application/vnd.jupyter.widget-view+json": {
       "model_id": "9064698bcdaf4bd6b44c60f09ff57302",
       "version_major": 2,
       "version_minor": 0
      },
      "text/plain": [
       "tokenizer_config.json: 0.00B [00:00, ?B/s]"
      ]
     },
     "metadata": {},
     "output_type": "display_data"
    },
    {
     "data": {
      "application/vnd.jupyter.widget-view+json": {
       "model_id": "3ffe568624784dbd894d4d172a2fd010",
       "version_major": 2,
       "version_minor": 0
      },
      "text/plain": [
       "tokenizer.model:   0%|          | 0.00/500k [00:00<?, ?B/s]"
      ]
     },
     "metadata": {},
     "output_type": "display_data"
    },
    {
     "data": {
      "application/vnd.jupyter.widget-view+json": {
       "model_id": "2948bd1d22b3407e931e980c4cee5f45",
       "version_major": 2,
       "version_minor": 0
      },
      "text/plain": [
       "added_tokens.json:   0%|          | 0.00/293 [00:00<?, ?B/s]"
      ]
     },
     "metadata": {},
     "output_type": "display_data"
    },
    {
     "data": {
      "application/vnd.jupyter.widget-view+json": {
       "model_id": "472262baad434bd0b8326c724271de5e",
       "version_major": 2,
       "version_minor": 0
      },
      "text/plain": [
       "special_tokens_map.json:   0%|          | 0.00/458 [00:00<?, ?B/s]"
      ]
     },
     "metadata": {},
     "output_type": "display_data"
    },
    {
     "data": {
      "application/vnd.jupyter.widget-view+json": {
       "model_id": "820b046edc3c4903bbd6cb98357864ca",
       "version_major": 2,
       "version_minor": 0
      },
      "text/plain": [
       "tokenizer.json: 0.00B [00:00, ?B/s]"
      ]
     },
     "metadata": {},
     "output_type": "display_data"
    }
   ],
   "source": [
    "from unsloth import FastLanguageModel\n",
    "import torch\n",
    "\n",
    "model_name = \"unsloth/Phi-3-mini-4k-instruct-bnb-4bit\"\n",
    "\n",
    "max_seq_length=2048\n",
    "dtype = None\n",
    "\n",
    "# Load model and tookenizer\n",
    "model, tokenizer = FastLanguageModel.from_pretrained(\n",
    "    model_name=model_name,\n",
    "    max_seq_length=max_seq_length,\n",
    "    dtype=dtype,\n",
    "    load_in_4bit=True,\n",
    ")"
   ]
  },
  {
   "cell_type": "code",
   "execution_count": 5,
   "metadata": {
    "id": "14Oa21wle9jw"
   },
   "outputs": [],
   "source": [
    "from datasets import Dataset\n",
    "\n",
    "def format_prompt(example):\n",
    "  return f\"### Input: {example['input']}\\n### Output:  {json.dumps(example['output'])}<|endoftext|>\"\n",
    "\n",
    "formatted_data = [format_prompt(item) for item in file]\n",
    "dataset = Dataset.from_dict({\"text\":formatted_data})"
   ]
  },
  {
   "cell_type": "code",
   "execution_count": 6,
   "metadata": {
    "colab": {
     "base_uri": "https://localhost:8080/"
    },
    "id": "3UKlo1dDQOWS",
    "outputId": "e67423b7-d9b1-4b53-fc0e-9c2abf0f1bcf"
   },
   "outputs": [
    {
     "name": "stderr",
     "output_type": "stream",
     "text": [
      "Unsloth 2025.6.12 patched 32 layers with 32 QKV layers, 32 O layers and 32 MLP layers.\n"
     ]
    }
   ],
   "source": [
    "# Add Lora adaptor\n",
    "\n",
    "model = FastLanguageModel.get_peft_model(\n",
    "    model,\n",
    "    r=64,\n",
    "    target_modules=[\n",
    "        \"q_proj\", \"k_proj\", \"v_proj\", \"o_proj\",\n",
    "        \"gate_proj\",\"up_proj\",\"down_proj\",\n",
    "    ],\n",
    "    lora_alpha=128,\n",
    "    bias=\"none\",\n",
    "    use_gradient_checkpointing=\"unsloth\",\n",
    "    random_state=3407,\n",
    "    use_rslora=False,\n",
    "    loftq_config=None,\n",
    ")"
   ]
  },
  {
   "cell_type": "code",
   "execution_count": 7,
   "metadata": {
    "colab": {
     "base_uri": "https://localhost:8080/",
     "height": 49,
     "referenced_widgets": [
      "613fd7bdc30f472284c2ec52c949a855",
      "d799e6bee8d54415b0f1f77c625a080d",
      "f7970a5ab60b4d7b81ca2913431df524",
      "a4b379d1ddd64ee5a8a6faec90c7f71a",
      "cae9c6e2177944a68e21f45214ff8a68",
      "e0cd8bb92fcc47b1b55ef7b6a9670a25",
      "a22999da60cf49d18fafd87a51eac99d",
      "1edfc7c41c2c4205b5e20ba013219ba7",
      "8bad74f098924d87a6297af4b60a05f3",
      "0f616d004a86466eaef2e40f2b1a6342",
      "41b7e3f58c504ea5a7cd5255954da2ed"
     ]
    },
    "id": "bt13vTZUSO4L",
    "outputId": "cb416dc9-0ed4-4c08-b2f5-9c269809ca77"
   },
   "outputs": [
    {
     "data": {
      "application/vnd.jupyter.widget-view+json": {
       "model_id": "613fd7bdc30f472284c2ec52c949a855",
       "version_major": 2,
       "version_minor": 0
      },
      "text/plain": [
       "Unsloth: Tokenizing [\"text\"]:   0%|          | 0/500 [00:00<?, ? examples/s]"
      ]
     },
     "metadata": {},
     "output_type": "display_data"
    }
   ],
   "source": [
    "from trl import SFTTrainer\n",
    "from transformers import TrainingArguments\n",
    "\n",
    "#Training arguments optimized for Unsloth\n",
    "trainer = SFTTrainer(\n",
    "    model=model,\n",
    "    tokenizer=tokenizer,\n",
    "    train_dataset=dataset,\n",
    "    dataset_text_field=\"text\",\n",
    "    max_seq_length=max_seq_length,\n",
    "    dataset_num_proc=2,\n",
    "    args=TrainingArguments(\n",
    "        per_device_train_batch_size=2,\n",
    "        gradient_accumulation_steps=4,\n",
    "        warmup_steps=10,\n",
    "        num_train_epochs=3,\n",
    "        max_steps=100,\n",
    "        learning_rate=2e-4,\n",
    "        fp16=not torch.cuda.is_bf16_supported(),\n",
    "        logging_steps=25,\n",
    "        optim=\"adamw_8bit\",\n",
    "        weight_decay=0.01,\n",
    "        lr_scheduler_type=\"linear\",\n",
    "        seed=3407,\n",
    "        output_dir=\"outputs\",\n",
    "        save_strategy=\"epoch\",\n",
    "        save_total_limit=2,\n",
    "        dataloader_pin_memory=False,\n",
    "    ),\n",
    ")"
   ]
  },
  {
   "cell_type": "code",
   "execution_count": 8,
   "metadata": {
    "colab": {
     "base_uri": "https://localhost:8080/",
     "height": 720
    },
    "id": "8ORX6QbpVMW4",
    "outputId": "2bd10a03-0f9f-43bf-d2f0-0ae09004941c"
   },
   "outputs": [
    {
     "metadata": {
      "tags": null
     },
     "name": "stderr",
     "output_type": "stream",
     "text": [
      "==((====))==  Unsloth - 2x faster free finetuning | Num GPUs used = 1\n",
      "   \\\\   /|    Num examples = 500 | Num Epochs = 2 | Total steps = 100\n",
      "O^O/ \\_/ \\    Batch size per device = 2 | Gradient accumulation steps = 4\n",
      "\\        /    Data Parallel GPUs = 1 | Total batch size (2 x 4 x 1) = 8\n",
      " \"-____-\"     Trainable parameters = 119,537,664 of 2,128,677,888 (5.62% trained)\n",
      "\u001b[34m\u001b[1mwandb\u001b[0m: \u001b[33mWARNING\u001b[0m The `run_name` is currently set to the same value as `TrainingArguments.output_dir`. If this was not intended, please specify a different run name by setting the `TrainingArguments.run_name` parameter.\n"
     ]
    },
    {
     "data": {
      "application/javascript": [
       "\n",
       "        window._wandbApiKey = new Promise((resolve, reject) => {\n",
       "            function loadScript(url) {\n",
       "            return new Promise(function(resolve, reject) {\n",
       "                let newScript = document.createElement(\"script\");\n",
       "                newScript.onerror = reject;\n",
       "                newScript.onload = resolve;\n",
       "                document.body.appendChild(newScript);\n",
       "                newScript.src = url;\n",
       "            });\n",
       "            }\n",
       "            loadScript(\"https://cdn.jsdelivr.net/npm/postmate/build/postmate.min.js\").then(() => {\n",
       "            const iframe = document.createElement('iframe')\n",
       "            iframe.style.cssText = \"width:0;height:0;border:none\"\n",
       "            document.body.appendChild(iframe)\n",
       "            const handshake = new Postmate({\n",
       "                container: iframe,\n",
       "                url: 'https://wandb.ai/authorize'\n",
       "            });\n",
       "            const timeout = setTimeout(() => reject(\"Couldn't auto authenticate\"), 5000)\n",
       "            handshake.then(function(child) {\n",
       "                child.on('authorize', data => {\n",
       "                    clearTimeout(timeout)\n",
       "                    resolve(data)\n",
       "                });\n",
       "            });\n",
       "            })\n",
       "        });\n",
       "    "
      ],
      "text/plain": [
       "<IPython.core.display.Javascript object>"
      ]
     },
     "metadata": {},
     "output_type": "display_data"
    },
    {
     "metadata": {
      "tags": null
     },
     "name": "stderr",
     "output_type": "stream",
     "text": [
      "\u001b[34m\u001b[1mwandb\u001b[0m: Logging into wandb.ai. (Learn how to deploy a W&B server locally: https://wandb.me/wandb-server)\n",
      "\u001b[34m\u001b[1mwandb\u001b[0m: You can find your API key in your browser here: https://wandb.ai/authorize?ref=models\n",
      "wandb: Paste an API key from your profile and hit enter:\u001b[34m\u001b[1mwandb\u001b[0m: \u001b[33mWARNING\u001b[0m If you're specifying your api key in code, ensure this code is not shared publicly.\n",
      "\u001b[34m\u001b[1mwandb\u001b[0m: \u001b[33mWARNING\u001b[0m Consider setting the WANDB_API_KEY environment variable, or running `wandb login` from the command line.\n",
      "\u001b[34m\u001b[1mwandb\u001b[0m: No netrc file found, creating one.\n",
      "\u001b[34m\u001b[1mwandb\u001b[0m: Appending key for api.wandb.ai to your netrc file: /root/.netrc\n",
      "\u001b[34m\u001b[1mwandb\u001b[0m: Currently logged in as: \u001b[33mnebula3477\u001b[0m (\u001b[33mhimanshu78-iiit-nagpur-official\u001b[0m) to \u001b[32mhttps://api.wandb.ai\u001b[0m. Use \u001b[1m`wandb login --relogin`\u001b[0m to force relogin\n"
     ]
    },
    {
     "data": {
      "text/html": [
       "Tracking run with wandb version 0.21.0"
      ],
      "text/plain": [
       "<IPython.core.display.HTML object>"
      ]
     },
     "metadata": {},
     "output_type": "display_data"
    },
    {
     "data": {
      "text/html": [
       "Run data is saved locally in <code>/content/wandb/run-20250709_090347-zp8g9818</code>"
      ],
      "text/plain": [
       "<IPython.core.display.HTML object>"
      ]
     },
     "metadata": {},
     "output_type": "display_data"
    },
    {
     "data": {
      "text/html": [
       "Syncing run <strong><a href='https://wandb.ai/himanshu78-iiit-nagpur-official/huggingface/runs/zp8g9818' target=\"_blank\">outputs</a></strong> to <a href='https://wandb.ai/himanshu78-iiit-nagpur-official/huggingface' target=\"_blank\">Weights & Biases</a> (<a href='https://wandb.me/developer-guide' target=\"_blank\">docs</a>)<br>"
      ],
      "text/plain": [
       "<IPython.core.display.HTML object>"
      ]
     },
     "metadata": {},
     "output_type": "display_data"
    },
    {
     "data": {
      "text/html": [
       " View project at <a href='https://wandb.ai/himanshu78-iiit-nagpur-official/huggingface' target=\"_blank\">https://wandb.ai/himanshu78-iiit-nagpur-official/huggingface</a>"
      ],
      "text/plain": [
       "<IPython.core.display.HTML object>"
      ]
     },
     "metadata": {},
     "output_type": "display_data"
    },
    {
     "data": {
      "text/html": [
       " View run at <a href='https://wandb.ai/himanshu78-iiit-nagpur-official/huggingface/runs/zp8g9818' target=\"_blank\">https://wandb.ai/himanshu78-iiit-nagpur-official/huggingface/runs/zp8g9818</a>"
      ],
      "text/plain": [
       "<IPython.core.display.HTML object>"
      ]
     },
     "metadata": {},
     "output_type": "display_data"
    },
    {
     "data": {
      "text/html": [
       "\n",
       "    <div>\n",
       "      \n",
       "      <progress value='88' max='100' style='width:300px; height:20px; vertical-align: middle;'></progress>\n",
       "      [ 88/100 04:01 < 00:33, 0.36 it/s, Epoch 1.38/2]\n",
       "    </div>\n",
       "    <table border=\"1\" class=\"dataframe\">\n",
       "  <thead>\n",
       " <tr style=\"text-align: left;\">\n",
       "      <th>Step</th>\n",
       "      <th>Training Loss</th>\n",
       "    </tr>\n",
       "  </thead>\n",
       "  <tbody>\n",
       "    <tr>\n",
       "      <td>25</td>\n",
       "      <td>0.463100</td>\n",
       "    </tr>\n",
       "    <tr>\n",
       "      <td>50</td>\n",
       "      <td>0.148200</td>\n",
       "    </tr>\n",
       "    <tr>\n",
       "      <td>75</td>\n",
       "      <td>0.132100</td>\n",
       "    </tr>\n",
       "  </tbody>\n",
       "</table><p>"
      ],
      "text/plain": [
       "<IPython.core.display.HTML object>"
      ]
     },
     "metadata": {},
     "output_type": "display_data"
    },
    {
     "metadata": {
      "tags": null
     },
     "name": "stderr",
     "output_type": "stream",
     "text": [
      "\u001b[34m\u001b[1mwandb\u001b[0m: \u001b[33mWARNING\u001b[0m The get_url method is deprecated and will be removed in a future release. Please use `run.url` instead.\n"
     ]
    },
    {
     "data": {
      "text/html": [
       "\n",
       "    <div>\n",
       "      \n",
       "      <progress value='100' max='100' style='width:300px; height:20px; vertical-align: middle;'></progress>\n",
       "      [100/100 04:42, Epoch 1/2]\n",
       "    </div>\n",
       "    <table border=\"1\" class=\"dataframe\">\n",
       "  <thead>\n",
       " <tr style=\"text-align: left;\">\n",
       "      <th>Step</th>\n",
       "      <th>Training Loss</th>\n",
       "    </tr>\n",
       "  </thead>\n",
       "  <tbody>\n",
       "    <tr>\n",
       "      <td>25</td>\n",
       "      <td>0.463100</td>\n",
       "    </tr>\n",
       "    <tr>\n",
       "      <td>50</td>\n",
       "      <td>0.148200</td>\n",
       "    </tr>\n",
       "    <tr>\n",
       "      <td>75</td>\n",
       "      <td>0.132100</td>\n",
       "    </tr>\n",
       "    <tr>\n",
       "      <td>100</td>\n",
       "      <td>0.120100</td>\n",
       "    </tr>\n",
       "  </tbody>\n",
       "</table><p>"
      ],
      "text/plain": [
       "<IPython.core.display.HTML object>"
      ]
     },
     "metadata": {},
     "output_type": "display_data"
    }
   ],
   "source": [
    "# Train the model\n",
    "\n",
    "trainer_stats=trainer.train()"
   ]
  },
  {
   "cell_type": "code",
   "execution_count": 16,
   "metadata": {
    "colab": {
     "base_uri": "https://localhost:8080/"
    },
    "id": "Ep0_6xcNVp_8",
    "outputId": "f7fe4a9c-e3ce-438f-9609-31386b6841aa"
   },
   "outputs": [
    {
     "name": "stdout",
     "output_type": "stream",
     "text": [
      "<|user|> Extract the product information:\n",
      "<div class='product'><h2>iPad Air</h2><span class='price'>$1344</span><span class='category'>audio</span><span class='brand'>Dell</span></div><|end|><|assistant|>  {\"name\": \"iPad Air\", \"price\": \"$1344\", \"category\": \"audio\", \"manufacturer\": \"Dell\"}<|end|>\n"
     ]
    }
   ],
   "source": [
    "# Test the fine tuned model\n",
    "\n",
    "FastLanguageModel.for_inference(model)\n",
    "\n",
    "#Test prompt\n",
    "messages = [\n",
    "    {\"role\": \"user\", \"content\": \"Extract the product information:\\n<div class='product'><h2>iPad Air</h2><span class='price'>$1344</span><span class='category'>audio</span><span class='brand'>Dell</span></div>\"},\n",
    "\n",
    "]\n",
    "\n",
    "inputs = tokenizer.apply_chat_template(\n",
    "    messages,\n",
    "    tokenize=True,\n",
    "    add_generation_prompt=True,\n",
    "    return_tensors=\"pt\",\n",
    ").to(\"cuda\")\n",
    "\n",
    "#Generate response\n",
    "outputs = model.generate(\n",
    "    input_ids=inputs,\n",
    "    max_new_tokens=256,\n",
    "    use_cache=True,\n",
    "    do_sample=True,\n",
    "    top_p=0.9,\n",
    "\n",
    ")\n",
    "\n",
    "#decode and print\n",
    "\n",
    "response = tokenizer.batch_decode(outputs)[0]\n",
    "print(response)"
   ]
  },
  {
   "cell_type": "code",
   "execution_count": 17,
   "metadata": {
    "colab": {
     "base_uri": "https://localhost:8080/"
    },
    "id": "3RiyinfLf7hH",
    "outputId": "69f3ee21-ec65-40ae-9305-9e4f2795507a"
   },
   "outputs": [
    {
     "name": "stderr",
     "output_type": "stream",
     "text": [
      "Unsloth: You have 1 CPUs. Using `safe_serialization` is 10x slower.\n",
      "We shall switch to Pytorch saving, which might take 3 minutes and not 30 minutes.\n",
      "To force `safe_serialization`, set it to `None` instead.\n",
      "Unsloth: Kaggle/Colab has limited disk space. We need to delete the downloaded\n",
      "model which will save 4-16GB of disk space, allowing you to save on Kaggle/Colab.\n",
      "Unsloth: Will remove a cached repo with size 2.3G\n"
     ]
    },
    {
     "name": "stdout",
     "output_type": "stream",
     "text": [
      "Unsloth: Merging 4bit and LoRA weights to 16bit...\n",
      "Unsloth: Will use up to 1.63 out of 12.67 RAM for saving.\n",
      "Unsloth: Saving model... This might take 5 minutes ...\n"
     ]
    },
    {
     "name": "stderr",
     "output_type": "stream",
     "text": [
      "100%|██████████| 32/32 [00:02<00:00, 12.21it/s]\n"
     ]
    },
    {
     "name": "stdout",
     "output_type": "stream",
     "text": [
      "Unsloth: Saving tokenizer... Done.\n",
      "Unsloth: Saving gguf_model/pytorch_model-00001-of-00002.bin...\n",
      "Unsloth: Saving gguf_model/pytorch_model-00002-of-00002.bin...\n",
      "Done.\n"
     ]
    },
    {
     "name": "stderr",
     "output_type": "stream",
     "text": [
      "Unsloth: Converting mistral model. Can use fast conversion = True.\n"
     ]
    },
    {
     "name": "stdout",
     "output_type": "stream",
     "text": [
      "==((====))==  Unsloth: Conversion from QLoRA to GGUF information\n",
      "   \\\\   /|    [0] Installing llama.cpp might take 3 minutes.\n",
      "O^O/ \\_/ \\    [1] Converting HF to GGUF 16bits might take 3 minutes.\n",
      "\\        /    [2] Converting GGUF 16bits to ['q4_k_m'] might take 10 minutes each.\n",
      " \"-____-\"     In total, you will have to wait at least 16 minutes.\n",
      "\n",
      "Unsloth: Installing llama.cpp. This might take 3 minutes...\n",
      "Unsloth: CMAKE detected. Finalizing some steps for installation.\n",
      "Unsloth: [1] Converting model at gguf_model into f16 GGUF format.\n",
      "The output location will be /content/gguf_model/unsloth.F16.gguf\n",
      "This might take 3 minutes...\n"
     ]
    },
    {
     "name": "stderr",
     "output_type": "stream",
     "text": [
      "Unsloth: Extending gguf_model/tokenizer.model with added_tokens.json.\n",
      "Originally tokenizer.model is of size (32000).\n",
      "But we need to extend to sentencepiece vocab size (32011).\n"
     ]
    },
    {
     "name": "stdout",
     "output_type": "stream",
     "text": [
      "INFO:hf-to-gguf:Loading model: gguf_model\n",
      "INFO:hf-to-gguf:Model architecture: MistralForCausalLM\n",
      "INFO:gguf.gguf_writer:gguf: This GGUF file is for Little Endian only\n",
      "INFO:hf-to-gguf:Exporting model...\n",
      "INFO:hf-to-gguf:gguf: loading model weight map from 'pytorch_model.bin.index.json'\n",
      "INFO:hf-to-gguf:gguf: loading model part 'pytorch_model-00001-of-00002.bin'\n",
      "INFO:hf-to-gguf:token_embd.weight,           torch.float16 --> F16, shape = {3072, 32064}\n",
      "INFO:hf-to-gguf:blk.0.attn_q.weight,         torch.float16 --> F16, shape = {3072, 3072}\n",
      "INFO:hf-to-gguf:blk.0.attn_k.weight,         torch.float16 --> F16, shape = {3072, 3072}\n",
      "INFO:hf-to-gguf:blk.0.attn_v.weight,         torch.float16 --> F16, shape = {3072, 3072}\n",
      "INFO:hf-to-gguf:blk.0.attn_output.weight,    torch.float16 --> F16, shape = {3072, 3072}\n",
      "INFO:hf-to-gguf:blk.0.ffn_gate.weight,       torch.float16 --> F16, shape = {3072, 8192}\n",
      "INFO:hf-to-gguf:blk.0.ffn_up.weight,         torch.float16 --> F16, shape = {3072, 8192}\n",
      "INFO:hf-to-gguf:blk.0.ffn_down.weight,       torch.float16 --> F16, shape = {8192, 3072}\n",
      "INFO:hf-to-gguf:blk.0.attn_norm.weight,      torch.float16 --> F32, shape = {3072}\n",
      "INFO:hf-to-gguf:blk.0.ffn_norm.weight,       torch.float16 --> F32, shape = {3072}\n",
      "INFO:hf-to-gguf:blk.1.attn_q.weight,         torch.float16 --> F16, shape = {3072, 3072}\n",
      "INFO:hf-to-gguf:blk.1.attn_k.weight,         torch.float16 --> F16, shape = {3072, 3072}\n",
      "INFO:hf-to-gguf:blk.1.attn_v.weight,         torch.float16 --> F16, shape = {3072, 3072}\n",
      "INFO:hf-to-gguf:blk.1.attn_output.weight,    torch.float16 --> F16, shape = {3072, 3072}\n",
      "INFO:hf-to-gguf:blk.1.ffn_gate.weight,       torch.float16 --> F16, shape = {3072, 8192}\n",
      "INFO:hf-to-gguf:blk.1.ffn_up.weight,         torch.float16 --> F16, shape = {3072, 8192}\n",
      "INFO:hf-to-gguf:blk.1.ffn_down.weight,       torch.float16 --> F16, shape = {8192, 3072}\n",
      "INFO:hf-to-gguf:blk.1.attn_norm.weight,      torch.float16 --> F32, shape = {3072}\n",
      "INFO:hf-to-gguf:blk.1.ffn_norm.weight,       torch.float16 --> F32, shape = {3072}\n",
      "INFO:hf-to-gguf:blk.2.attn_q.weight,         torch.float16 --> F16, shape = {3072, 3072}\n",
      "INFO:hf-to-gguf:blk.2.attn_k.weight,         torch.float16 --> F16, shape = {3072, 3072}\n",
      "INFO:hf-to-gguf:blk.2.attn_v.weight,         torch.float16 --> F16, shape = {3072, 3072}\n",
      "INFO:hf-to-gguf:blk.2.attn_output.weight,    torch.float16 --> F16, shape = {3072, 3072}\n",
      "INFO:hf-to-gguf:blk.2.ffn_gate.weight,       torch.float16 --> F16, shape = {3072, 8192}\n",
      "INFO:hf-to-gguf:blk.2.ffn_up.weight,         torch.float16 --> F16, shape = {3072, 8192}\n",
      "INFO:hf-to-gguf:blk.2.ffn_down.weight,       torch.float16 --> F16, shape = {8192, 3072}\n",
      "INFO:hf-to-gguf:blk.2.attn_norm.weight,      torch.float16 --> F32, shape = {3072}\n",
      "INFO:hf-to-gguf:blk.2.ffn_norm.weight,       torch.float16 --> F32, shape = {3072}\n",
      "INFO:hf-to-gguf:blk.3.attn_q.weight,         torch.float16 --> F16, shape = {3072, 3072}\n",
      "INFO:hf-to-gguf:blk.3.attn_k.weight,         torch.float16 --> F16, shape = {3072, 3072}\n",
      "INFO:hf-to-gguf:blk.3.attn_v.weight,         torch.float16 --> F16, shape = {3072, 3072}\n",
      "INFO:hf-to-gguf:blk.3.attn_output.weight,    torch.float16 --> F16, shape = {3072, 3072}\n",
      "INFO:hf-to-gguf:blk.3.ffn_gate.weight,       torch.float16 --> F16, shape = {3072, 8192}\n",
      "INFO:hf-to-gguf:blk.3.ffn_up.weight,         torch.float16 --> F16, shape = {3072, 8192}\n",
      "INFO:hf-to-gguf:blk.3.ffn_down.weight,       torch.float16 --> F16, shape = {8192, 3072}\n",
      "INFO:hf-to-gguf:blk.3.attn_norm.weight,      torch.float16 --> F32, shape = {3072}\n",
      "INFO:hf-to-gguf:blk.3.ffn_norm.weight,       torch.float16 --> F32, shape = {3072}\n",
      "INFO:hf-to-gguf:blk.4.attn_q.weight,         torch.float16 --> F16, shape = {3072, 3072}\n",
      "INFO:hf-to-gguf:blk.4.attn_k.weight,         torch.float16 --> F16, shape = {3072, 3072}\n",
      "INFO:hf-to-gguf:blk.4.attn_v.weight,         torch.float16 --> F16, shape = {3072, 3072}\n",
      "INFO:hf-to-gguf:blk.4.attn_output.weight,    torch.float16 --> F16, shape = {3072, 3072}\n",
      "INFO:hf-to-gguf:blk.4.ffn_gate.weight,       torch.float16 --> F16, shape = {3072, 8192}\n",
      "INFO:hf-to-gguf:blk.4.ffn_up.weight,         torch.float16 --> F16, shape = {3072, 8192}\n",
      "INFO:hf-to-gguf:blk.4.ffn_down.weight,       torch.float16 --> F16, shape = {8192, 3072}\n",
      "INFO:hf-to-gguf:blk.4.attn_norm.weight,      torch.float16 --> F32, shape = {3072}\n",
      "INFO:hf-to-gguf:blk.4.ffn_norm.weight,       torch.float16 --> F32, shape = {3072}\n",
      "INFO:hf-to-gguf:blk.5.attn_q.weight,         torch.float16 --> F16, shape = {3072, 3072}\n",
      "INFO:hf-to-gguf:blk.5.attn_k.weight,         torch.float16 --> F16, shape = {3072, 3072}\n",
      "INFO:hf-to-gguf:blk.5.attn_v.weight,         torch.float16 --> F16, shape = {3072, 3072}\n",
      "INFO:hf-to-gguf:blk.5.attn_output.weight,    torch.float16 --> F16, shape = {3072, 3072}\n",
      "INFO:hf-to-gguf:blk.5.ffn_gate.weight,       torch.float16 --> F16, shape = {3072, 8192}\n",
      "INFO:hf-to-gguf:blk.5.ffn_up.weight,         torch.float16 --> F16, shape = {3072, 8192}\n",
      "INFO:hf-to-gguf:blk.5.ffn_down.weight,       torch.float16 --> F16, shape = {8192, 3072}\n",
      "INFO:hf-to-gguf:blk.5.attn_norm.weight,      torch.float16 --> F32, shape = {3072}\n",
      "INFO:hf-to-gguf:blk.5.ffn_norm.weight,       torch.float16 --> F32, shape = {3072}\n",
      "INFO:hf-to-gguf:blk.6.attn_q.weight,         torch.float16 --> F16, shape = {3072, 3072}\n",
      "INFO:hf-to-gguf:blk.6.attn_k.weight,         torch.float16 --> F16, shape = {3072, 3072}\n",
      "INFO:hf-to-gguf:blk.6.attn_v.weight,         torch.float16 --> F16, shape = {3072, 3072}\n",
      "INFO:hf-to-gguf:blk.6.attn_output.weight,    torch.float16 --> F16, shape = {3072, 3072}\n",
      "INFO:hf-to-gguf:blk.6.ffn_gate.weight,       torch.float16 --> F16, shape = {3072, 8192}\n",
      "INFO:hf-to-gguf:blk.6.ffn_up.weight,         torch.float16 --> F16, shape = {3072, 8192}\n",
      "INFO:hf-to-gguf:blk.6.ffn_down.weight,       torch.float16 --> F16, shape = {8192, 3072}\n",
      "INFO:hf-to-gguf:blk.6.attn_norm.weight,      torch.float16 --> F32, shape = {3072}\n",
      "INFO:hf-to-gguf:blk.6.ffn_norm.weight,       torch.float16 --> F32, shape = {3072}\n",
      "INFO:hf-to-gguf:blk.7.attn_q.weight,         torch.float16 --> F16, shape = {3072, 3072}\n",
      "INFO:hf-to-gguf:blk.7.attn_k.weight,         torch.float16 --> F16, shape = {3072, 3072}\n",
      "INFO:hf-to-gguf:blk.7.attn_v.weight,         torch.float16 --> F16, shape = {3072, 3072}\n",
      "INFO:hf-to-gguf:blk.7.attn_output.weight,    torch.float16 --> F16, shape = {3072, 3072}\n",
      "INFO:hf-to-gguf:blk.7.ffn_gate.weight,       torch.float16 --> F16, shape = {3072, 8192}\n",
      "INFO:hf-to-gguf:blk.7.ffn_up.weight,         torch.float16 --> F16, shape = {3072, 8192}\n",
      "INFO:hf-to-gguf:blk.7.ffn_down.weight,       torch.float16 --> F16, shape = {8192, 3072}\n",
      "INFO:hf-to-gguf:blk.7.attn_norm.weight,      torch.float16 --> F32, shape = {3072}\n",
      "INFO:hf-to-gguf:blk.7.ffn_norm.weight,       torch.float16 --> F32, shape = {3072}\n",
      "INFO:hf-to-gguf:blk.8.attn_q.weight,         torch.float16 --> F16, shape = {3072, 3072}\n",
      "INFO:hf-to-gguf:blk.8.attn_k.weight,         torch.float16 --> F16, shape = {3072, 3072}\n",
      "INFO:hf-to-gguf:blk.8.attn_v.weight,         torch.float16 --> F16, shape = {3072, 3072}\n",
      "INFO:hf-to-gguf:blk.8.attn_output.weight,    torch.float16 --> F16, shape = {3072, 3072}\n",
      "INFO:hf-to-gguf:blk.8.ffn_gate.weight,       torch.float16 --> F16, shape = {3072, 8192}\n",
      "INFO:hf-to-gguf:blk.8.ffn_up.weight,         torch.float16 --> F16, shape = {3072, 8192}\n",
      "INFO:hf-to-gguf:blk.8.ffn_down.weight,       torch.float16 --> F16, shape = {8192, 3072}\n",
      "INFO:hf-to-gguf:blk.8.attn_norm.weight,      torch.float16 --> F32, shape = {3072}\n",
      "INFO:hf-to-gguf:blk.8.ffn_norm.weight,       torch.float16 --> F32, shape = {3072}\n",
      "INFO:hf-to-gguf:blk.9.attn_q.weight,         torch.float16 --> F16, shape = {3072, 3072}\n",
      "INFO:hf-to-gguf:blk.9.attn_k.weight,         torch.float16 --> F16, shape = {3072, 3072}\n",
      "INFO:hf-to-gguf:blk.9.attn_v.weight,         torch.float16 --> F16, shape = {3072, 3072}\n",
      "INFO:hf-to-gguf:blk.9.attn_output.weight,    torch.float16 --> F16, shape = {3072, 3072}\n",
      "INFO:hf-to-gguf:blk.9.ffn_gate.weight,       torch.float16 --> F16, shape = {3072, 8192}\n",
      "INFO:hf-to-gguf:blk.9.ffn_up.weight,         torch.float16 --> F16, shape = {3072, 8192}\n",
      "INFO:hf-to-gguf:blk.9.ffn_down.weight,       torch.float16 --> F16, shape = {8192, 3072}\n",
      "INFO:hf-to-gguf:blk.9.attn_norm.weight,      torch.float16 --> F32, shape = {3072}\n",
      "INFO:hf-to-gguf:blk.9.ffn_norm.weight,       torch.float16 --> F32, shape = {3072}\n",
      "INFO:hf-to-gguf:blk.10.attn_q.weight,        torch.float16 --> F16, shape = {3072, 3072}\n",
      "INFO:hf-to-gguf:blk.10.attn_k.weight,        torch.float16 --> F16, shape = {3072, 3072}\n",
      "INFO:hf-to-gguf:blk.10.attn_v.weight,        torch.float16 --> F16, shape = {3072, 3072}\n",
      "INFO:hf-to-gguf:blk.10.attn_output.weight,   torch.float16 --> F16, shape = {3072, 3072}\n",
      "INFO:hf-to-gguf:blk.10.ffn_gate.weight,      torch.float16 --> F16, shape = {3072, 8192}\n",
      "INFO:hf-to-gguf:blk.10.ffn_up.weight,        torch.float16 --> F16, shape = {3072, 8192}\n",
      "INFO:hf-to-gguf:blk.10.ffn_down.weight,      torch.float16 --> F16, shape = {8192, 3072}\n",
      "INFO:hf-to-gguf:blk.10.attn_norm.weight,     torch.float16 --> F32, shape = {3072}\n",
      "INFO:hf-to-gguf:blk.10.ffn_norm.weight,      torch.float16 --> F32, shape = {3072}\n",
      "INFO:hf-to-gguf:blk.11.attn_q.weight,        torch.float16 --> F16, shape = {3072, 3072}\n",
      "INFO:hf-to-gguf:blk.11.attn_k.weight,        torch.float16 --> F16, shape = {3072, 3072}\n",
      "INFO:hf-to-gguf:blk.11.attn_v.weight,        torch.float16 --> F16, shape = {3072, 3072}\n",
      "INFO:hf-to-gguf:blk.11.attn_output.weight,   torch.float16 --> F16, shape = {3072, 3072}\n",
      "INFO:hf-to-gguf:blk.11.ffn_gate.weight,      torch.float16 --> F16, shape = {3072, 8192}\n",
      "INFO:hf-to-gguf:blk.11.ffn_up.weight,        torch.float16 --> F16, shape = {3072, 8192}\n",
      "INFO:hf-to-gguf:blk.11.ffn_down.weight,      torch.float16 --> F16, shape = {8192, 3072}\n",
      "INFO:hf-to-gguf:blk.11.attn_norm.weight,     torch.float16 --> F32, shape = {3072}\n",
      "INFO:hf-to-gguf:blk.11.ffn_norm.weight,      torch.float16 --> F32, shape = {3072}\n",
      "INFO:hf-to-gguf:blk.12.attn_q.weight,        torch.float16 --> F16, shape = {3072, 3072}\n",
      "INFO:hf-to-gguf:blk.12.attn_k.weight,        torch.float16 --> F16, shape = {3072, 3072}\n",
      "INFO:hf-to-gguf:blk.12.attn_v.weight,        torch.float16 --> F16, shape = {3072, 3072}\n",
      "INFO:hf-to-gguf:blk.12.attn_output.weight,   torch.float16 --> F16, shape = {3072, 3072}\n",
      "INFO:hf-to-gguf:blk.12.ffn_gate.weight,      torch.float16 --> F16, shape = {3072, 8192}\n",
      "INFO:hf-to-gguf:blk.12.ffn_up.weight,        torch.float16 --> F16, shape = {3072, 8192}\n",
      "INFO:hf-to-gguf:blk.12.ffn_down.weight,      torch.float16 --> F16, shape = {8192, 3072}\n",
      "INFO:hf-to-gguf:blk.12.attn_norm.weight,     torch.float16 --> F32, shape = {3072}\n",
      "INFO:hf-to-gguf:blk.12.ffn_norm.weight,      torch.float16 --> F32, shape = {3072}\n",
      "INFO:hf-to-gguf:blk.13.attn_q.weight,        torch.float16 --> F16, shape = {3072, 3072}\n",
      "INFO:hf-to-gguf:blk.13.attn_k.weight,        torch.float16 --> F16, shape = {3072, 3072}\n",
      "INFO:hf-to-gguf:blk.13.attn_v.weight,        torch.float16 --> F16, shape = {3072, 3072}\n",
      "INFO:hf-to-gguf:blk.13.attn_output.weight,   torch.float16 --> F16, shape = {3072, 3072}\n",
      "INFO:hf-to-gguf:blk.13.ffn_gate.weight,      torch.float16 --> F16, shape = {3072, 8192}\n",
      "INFO:hf-to-gguf:blk.13.ffn_up.weight,        torch.float16 --> F16, shape = {3072, 8192}\n",
      "INFO:hf-to-gguf:blk.13.ffn_down.weight,      torch.float16 --> F16, shape = {8192, 3072}\n",
      "INFO:hf-to-gguf:blk.13.attn_norm.weight,     torch.float16 --> F32, shape = {3072}\n",
      "INFO:hf-to-gguf:blk.13.ffn_norm.weight,      torch.float16 --> F32, shape = {3072}\n",
      "INFO:hf-to-gguf:blk.14.attn_q.weight,        torch.float16 --> F16, shape = {3072, 3072}\n",
      "INFO:hf-to-gguf:blk.14.attn_k.weight,        torch.float16 --> F16, shape = {3072, 3072}\n",
      "INFO:hf-to-gguf:blk.14.attn_v.weight,        torch.float16 --> F16, shape = {3072, 3072}\n",
      "INFO:hf-to-gguf:blk.14.attn_output.weight,   torch.float16 --> F16, shape = {3072, 3072}\n",
      "INFO:hf-to-gguf:blk.14.ffn_gate.weight,      torch.float16 --> F16, shape = {3072, 8192}\n",
      "INFO:hf-to-gguf:blk.14.ffn_up.weight,        torch.float16 --> F16, shape = {3072, 8192}\n",
      "INFO:hf-to-gguf:blk.14.ffn_down.weight,      torch.float16 --> F16, shape = {8192, 3072}\n",
      "INFO:hf-to-gguf:blk.14.attn_norm.weight,     torch.float16 --> F32, shape = {3072}\n",
      "INFO:hf-to-gguf:blk.14.ffn_norm.weight,      torch.float16 --> F32, shape = {3072}\n",
      "INFO:hf-to-gguf:blk.15.attn_q.weight,        torch.float16 --> F16, shape = {3072, 3072}\n",
      "INFO:hf-to-gguf:blk.15.attn_k.weight,        torch.float16 --> F16, shape = {3072, 3072}\n",
      "INFO:hf-to-gguf:blk.15.attn_v.weight,        torch.float16 --> F16, shape = {3072, 3072}\n",
      "INFO:hf-to-gguf:blk.15.attn_output.weight,   torch.float16 --> F16, shape = {3072, 3072}\n",
      "INFO:hf-to-gguf:blk.15.ffn_gate.weight,      torch.float16 --> F16, shape = {3072, 8192}\n",
      "INFO:hf-to-gguf:blk.15.ffn_up.weight,        torch.float16 --> F16, shape = {3072, 8192}\n",
      "INFO:hf-to-gguf:blk.15.ffn_down.weight,      torch.float16 --> F16, shape = {8192, 3072}\n",
      "INFO:hf-to-gguf:blk.15.attn_norm.weight,     torch.float16 --> F32, shape = {3072}\n",
      "INFO:hf-to-gguf:blk.15.ffn_norm.weight,      torch.float16 --> F32, shape = {3072}\n",
      "INFO:hf-to-gguf:blk.16.attn_q.weight,        torch.float16 --> F16, shape = {3072, 3072}\n",
      "INFO:hf-to-gguf:blk.16.attn_k.weight,        torch.float16 --> F16, shape = {3072, 3072}\n",
      "INFO:hf-to-gguf:blk.16.attn_v.weight,        torch.float16 --> F16, shape = {3072, 3072}\n",
      "INFO:hf-to-gguf:blk.16.attn_output.weight,   torch.float16 --> F16, shape = {3072, 3072}\n",
      "INFO:hf-to-gguf:blk.16.ffn_gate.weight,      torch.float16 --> F16, shape = {3072, 8192}\n",
      "INFO:hf-to-gguf:blk.16.ffn_up.weight,        torch.float16 --> F16, shape = {3072, 8192}\n",
      "INFO:hf-to-gguf:blk.16.ffn_down.weight,      torch.float16 --> F16, shape = {8192, 3072}\n",
      "INFO:hf-to-gguf:blk.16.attn_norm.weight,     torch.float16 --> F32, shape = {3072}\n",
      "INFO:hf-to-gguf:blk.16.ffn_norm.weight,      torch.float16 --> F32, shape = {3072}\n",
      "INFO:hf-to-gguf:blk.17.attn_q.weight,        torch.float16 --> F16, shape = {3072, 3072}\n",
      "INFO:hf-to-gguf:blk.17.attn_k.weight,        torch.float16 --> F16, shape = {3072, 3072}\n",
      "INFO:hf-to-gguf:blk.17.attn_v.weight,        torch.float16 --> F16, shape = {3072, 3072}\n",
      "INFO:hf-to-gguf:blk.17.attn_output.weight,   torch.float16 --> F16, shape = {3072, 3072}\n",
      "INFO:hf-to-gguf:blk.17.ffn_gate.weight,      torch.float16 --> F16, shape = {3072, 8192}\n",
      "INFO:hf-to-gguf:blk.17.ffn_up.weight,        torch.float16 --> F16, shape = {3072, 8192}\n",
      "INFO:hf-to-gguf:blk.17.ffn_down.weight,      torch.float16 --> F16, shape = {8192, 3072}\n",
      "INFO:hf-to-gguf:blk.17.attn_norm.weight,     torch.float16 --> F32, shape = {3072}\n",
      "INFO:hf-to-gguf:blk.17.ffn_norm.weight,      torch.float16 --> F32, shape = {3072}\n",
      "INFO:hf-to-gguf:blk.18.attn_q.weight,        torch.float16 --> F16, shape = {3072, 3072}\n",
      "INFO:hf-to-gguf:blk.18.attn_k.weight,        torch.float16 --> F16, shape = {3072, 3072}\n",
      "INFO:hf-to-gguf:blk.18.attn_v.weight,        torch.float16 --> F16, shape = {3072, 3072}\n",
      "INFO:hf-to-gguf:blk.18.attn_output.weight,   torch.float16 --> F16, shape = {3072, 3072}\n",
      "INFO:hf-to-gguf:blk.18.ffn_gate.weight,      torch.float16 --> F16, shape = {3072, 8192}\n",
      "INFO:hf-to-gguf:blk.18.ffn_up.weight,        torch.float16 --> F16, shape = {3072, 8192}\n",
      "INFO:hf-to-gguf:blk.18.ffn_down.weight,      torch.float16 --> F16, shape = {8192, 3072}\n",
      "INFO:hf-to-gguf:blk.18.attn_norm.weight,     torch.float16 --> F32, shape = {3072}\n",
      "INFO:hf-to-gguf:blk.18.ffn_norm.weight,      torch.float16 --> F32, shape = {3072}\n",
      "INFO:hf-to-gguf:blk.19.attn_q.weight,        torch.float16 --> F16, shape = {3072, 3072}\n",
      "INFO:hf-to-gguf:blk.19.attn_k.weight,        torch.float16 --> F16, shape = {3072, 3072}\n",
      "INFO:hf-to-gguf:blk.19.attn_v.weight,        torch.float16 --> F16, shape = {3072, 3072}\n",
      "INFO:hf-to-gguf:blk.19.attn_output.weight,   torch.float16 --> F16, shape = {3072, 3072}\n",
      "INFO:hf-to-gguf:blk.19.ffn_gate.weight,      torch.float16 --> F16, shape = {3072, 8192}\n",
      "INFO:hf-to-gguf:blk.19.ffn_up.weight,        torch.float16 --> F16, shape = {3072, 8192}\n",
      "INFO:hf-to-gguf:blk.19.ffn_down.weight,      torch.float16 --> F16, shape = {8192, 3072}\n",
      "INFO:hf-to-gguf:blk.19.attn_norm.weight,     torch.float16 --> F32, shape = {3072}\n",
      "INFO:hf-to-gguf:blk.19.ffn_norm.weight,      torch.float16 --> F32, shape = {3072}\n",
      "INFO:hf-to-gguf:blk.20.attn_q.weight,        torch.float16 --> F16, shape = {3072, 3072}\n",
      "INFO:hf-to-gguf:blk.20.attn_k.weight,        torch.float16 --> F16, shape = {3072, 3072}\n",
      "INFO:hf-to-gguf:blk.20.attn_v.weight,        torch.float16 --> F16, shape = {3072, 3072}\n",
      "INFO:hf-to-gguf:blk.20.attn_output.weight,   torch.float16 --> F16, shape = {3072, 3072}\n",
      "INFO:hf-to-gguf:blk.20.ffn_gate.weight,      torch.float16 --> F16, shape = {3072, 8192}\n",
      "INFO:hf-to-gguf:blk.20.ffn_up.weight,        torch.float16 --> F16, shape = {3072, 8192}\n",
      "INFO:hf-to-gguf:blk.20.ffn_down.weight,      torch.float16 --> F16, shape = {8192, 3072}\n",
      "INFO:hf-to-gguf:blk.20.attn_norm.weight,     torch.float16 --> F32, shape = {3072}\n",
      "INFO:hf-to-gguf:blk.20.ffn_norm.weight,      torch.float16 --> F32, shape = {3072}\n",
      "INFO:hf-to-gguf:blk.21.attn_q.weight,        torch.float16 --> F16, shape = {3072, 3072}\n",
      "INFO:hf-to-gguf:blk.21.attn_k.weight,        torch.float16 --> F16, shape = {3072, 3072}\n",
      "INFO:hf-to-gguf:gguf: loading model part 'pytorch_model-00002-of-00002.bin'\n",
      "INFO:hf-to-gguf:blk.21.attn_v.weight,        torch.float16 --> F16, shape = {3072, 3072}\n",
      "INFO:hf-to-gguf:blk.21.attn_output.weight,   torch.float16 --> F16, shape = {3072, 3072}\n",
      "INFO:hf-to-gguf:blk.21.ffn_gate.weight,      torch.float16 --> F16, shape = {3072, 8192}\n",
      "INFO:hf-to-gguf:blk.21.ffn_up.weight,        torch.float16 --> F16, shape = {3072, 8192}\n",
      "INFO:hf-to-gguf:blk.21.ffn_down.weight,      torch.float16 --> F16, shape = {8192, 3072}\n",
      "INFO:hf-to-gguf:blk.21.attn_norm.weight,     torch.float16 --> F32, shape = {3072}\n",
      "INFO:hf-to-gguf:blk.21.ffn_norm.weight,      torch.float16 --> F32, shape = {3072}\n",
      "INFO:hf-to-gguf:blk.22.attn_q.weight,        torch.float16 --> F16, shape = {3072, 3072}\n",
      "INFO:hf-to-gguf:blk.22.attn_k.weight,        torch.float16 --> F16, shape = {3072, 3072}\n",
      "INFO:hf-to-gguf:blk.22.attn_v.weight,        torch.float16 --> F16, shape = {3072, 3072}\n",
      "INFO:hf-to-gguf:blk.22.attn_output.weight,   torch.float16 --> F16, shape = {3072, 3072}\n",
      "INFO:hf-to-gguf:blk.22.ffn_gate.weight,      torch.float16 --> F16, shape = {3072, 8192}\n",
      "INFO:hf-to-gguf:blk.22.ffn_up.weight,        torch.float16 --> F16, shape = {3072, 8192}\n",
      "INFO:hf-to-gguf:blk.22.ffn_down.weight,      torch.float16 --> F16, shape = {8192, 3072}\n",
      "INFO:hf-to-gguf:blk.22.attn_norm.weight,     torch.float16 --> F32, shape = {3072}\n",
      "INFO:hf-to-gguf:blk.22.ffn_norm.weight,      torch.float16 --> F32, shape = {3072}\n",
      "INFO:hf-to-gguf:blk.23.attn_q.weight,        torch.float16 --> F16, shape = {3072, 3072}\n",
      "INFO:hf-to-gguf:blk.23.attn_k.weight,        torch.float16 --> F16, shape = {3072, 3072}\n",
      "INFO:hf-to-gguf:blk.23.attn_v.weight,        torch.float16 --> F16, shape = {3072, 3072}\n",
      "INFO:hf-to-gguf:blk.23.attn_output.weight,   torch.float16 --> F16, shape = {3072, 3072}\n",
      "INFO:hf-to-gguf:blk.23.ffn_gate.weight,      torch.float16 --> F16, shape = {3072, 8192}\n",
      "INFO:hf-to-gguf:blk.23.ffn_up.weight,        torch.float16 --> F16, shape = {3072, 8192}\n",
      "INFO:hf-to-gguf:blk.23.ffn_down.weight,      torch.float16 --> F16, shape = {8192, 3072}\n",
      "INFO:hf-to-gguf:blk.23.attn_norm.weight,     torch.float16 --> F32, shape = {3072}\n",
      "INFO:hf-to-gguf:blk.23.ffn_norm.weight,      torch.float16 --> F32, shape = {3072}\n",
      "INFO:hf-to-gguf:blk.24.attn_q.weight,        torch.float16 --> F16, shape = {3072, 3072}\n",
      "INFO:hf-to-gguf:blk.24.attn_k.weight,        torch.float16 --> F16, shape = {3072, 3072}\n",
      "INFO:hf-to-gguf:blk.24.attn_v.weight,        torch.float16 --> F16, shape = {3072, 3072}\n",
      "INFO:hf-to-gguf:blk.24.attn_output.weight,   torch.float16 --> F16, shape = {3072, 3072}\n",
      "INFO:hf-to-gguf:blk.24.ffn_gate.weight,      torch.float16 --> F16, shape = {3072, 8192}\n",
      "INFO:hf-to-gguf:blk.24.ffn_up.weight,        torch.float16 --> F16, shape = {3072, 8192}\n",
      "INFO:hf-to-gguf:blk.24.ffn_down.weight,      torch.float16 --> F16, shape = {8192, 3072}\n",
      "INFO:hf-to-gguf:blk.24.attn_norm.weight,     torch.float16 --> F32, shape = {3072}\n",
      "INFO:hf-to-gguf:blk.24.ffn_norm.weight,      torch.float16 --> F32, shape = {3072}\n",
      "INFO:hf-to-gguf:blk.25.attn_q.weight,        torch.float16 --> F16, shape = {3072, 3072}\n",
      "INFO:hf-to-gguf:blk.25.attn_k.weight,        torch.float16 --> F16, shape = {3072, 3072}\n",
      "INFO:hf-to-gguf:blk.25.attn_v.weight,        torch.float16 --> F16, shape = {3072, 3072}\n",
      "INFO:hf-to-gguf:blk.25.attn_output.weight,   torch.float16 --> F16, shape = {3072, 3072}\n",
      "INFO:hf-to-gguf:blk.25.ffn_gate.weight,      torch.float16 --> F16, shape = {3072, 8192}\n",
      "INFO:hf-to-gguf:blk.25.ffn_up.weight,        torch.float16 --> F16, shape = {3072, 8192}\n",
      "INFO:hf-to-gguf:blk.25.ffn_down.weight,      torch.float16 --> F16, shape = {8192, 3072}\n",
      "INFO:hf-to-gguf:blk.25.attn_norm.weight,     torch.float16 --> F32, shape = {3072}\n",
      "INFO:hf-to-gguf:blk.25.ffn_norm.weight,      torch.float16 --> F32, shape = {3072}\n",
      "INFO:hf-to-gguf:blk.26.attn_q.weight,        torch.float16 --> F16, shape = {3072, 3072}\n",
      "INFO:hf-to-gguf:blk.26.attn_k.weight,        torch.float16 --> F16, shape = {3072, 3072}\n",
      "INFO:hf-to-gguf:blk.26.attn_v.weight,        torch.float16 --> F16, shape = {3072, 3072}\n",
      "INFO:hf-to-gguf:blk.26.attn_output.weight,   torch.float16 --> F16, shape = {3072, 3072}\n",
      "INFO:hf-to-gguf:blk.26.ffn_gate.weight,      torch.float16 --> F16, shape = {3072, 8192}\n",
      "INFO:hf-to-gguf:blk.26.ffn_up.weight,        torch.float16 --> F16, shape = {3072, 8192}\n",
      "INFO:hf-to-gguf:blk.26.ffn_down.weight,      torch.float16 --> F16, shape = {8192, 3072}\n",
      "INFO:hf-to-gguf:blk.26.attn_norm.weight,     torch.float16 --> F32, shape = {3072}\n",
      "INFO:hf-to-gguf:blk.26.ffn_norm.weight,      torch.float16 --> F32, shape = {3072}\n",
      "INFO:hf-to-gguf:blk.27.attn_q.weight,        torch.float16 --> F16, shape = {3072, 3072}\n",
      "INFO:hf-to-gguf:blk.27.attn_k.weight,        torch.float16 --> F16, shape = {3072, 3072}\n",
      "INFO:hf-to-gguf:blk.27.attn_v.weight,        torch.float16 --> F16, shape = {3072, 3072}\n",
      "INFO:hf-to-gguf:blk.27.attn_output.weight,   torch.float16 --> F16, shape = {3072, 3072}\n",
      "INFO:hf-to-gguf:blk.27.ffn_gate.weight,      torch.float16 --> F16, shape = {3072, 8192}\n",
      "INFO:hf-to-gguf:blk.27.ffn_up.weight,        torch.float16 --> F16, shape = {3072, 8192}\n",
      "INFO:hf-to-gguf:blk.27.ffn_down.weight,      torch.float16 --> F16, shape = {8192, 3072}\n",
      "INFO:hf-to-gguf:blk.27.attn_norm.weight,     torch.float16 --> F32, shape = {3072}\n",
      "INFO:hf-to-gguf:blk.27.ffn_norm.weight,      torch.float16 --> F32, shape = {3072}\n",
      "INFO:hf-to-gguf:blk.28.attn_q.weight,        torch.float16 --> F16, shape = {3072, 3072}\n",
      "INFO:hf-to-gguf:blk.28.attn_k.weight,        torch.float16 --> F16, shape = {3072, 3072}\n",
      "INFO:hf-to-gguf:blk.28.attn_v.weight,        torch.float16 --> F16, shape = {3072, 3072}\n",
      "INFO:hf-to-gguf:blk.28.attn_output.weight,   torch.float16 --> F16, shape = {3072, 3072}\n",
      "INFO:hf-to-gguf:blk.28.ffn_gate.weight,      torch.float16 --> F16, shape = {3072, 8192}\n",
      "INFO:hf-to-gguf:blk.28.ffn_up.weight,        torch.float16 --> F16, shape = {3072, 8192}\n",
      "INFO:hf-to-gguf:blk.28.ffn_down.weight,      torch.float16 --> F16, shape = {8192, 3072}\n",
      "INFO:hf-to-gguf:blk.28.attn_norm.weight,     torch.float16 --> F32, shape = {3072}\n",
      "INFO:hf-to-gguf:blk.28.ffn_norm.weight,      torch.float16 --> F32, shape = {3072}\n",
      "INFO:hf-to-gguf:blk.29.attn_q.weight,        torch.float16 --> F16, shape = {3072, 3072}\n",
      "INFO:hf-to-gguf:blk.29.attn_k.weight,        torch.float16 --> F16, shape = {3072, 3072}\n",
      "INFO:hf-to-gguf:blk.29.attn_v.weight,        torch.float16 --> F16, shape = {3072, 3072}\n",
      "INFO:hf-to-gguf:blk.29.attn_output.weight,   torch.float16 --> F16, shape = {3072, 3072}\n",
      "INFO:hf-to-gguf:blk.29.ffn_gate.weight,      torch.float16 --> F16, shape = {3072, 8192}\n",
      "INFO:hf-to-gguf:blk.29.ffn_up.weight,        torch.float16 --> F16, shape = {3072, 8192}\n",
      "INFO:hf-to-gguf:blk.29.ffn_down.weight,      torch.float16 --> F16, shape = {8192, 3072}\n",
      "INFO:hf-to-gguf:blk.29.attn_norm.weight,     torch.float16 --> F32, shape = {3072}\n",
      "INFO:hf-to-gguf:blk.29.ffn_norm.weight,      torch.float16 --> F32, shape = {3072}\n",
      "INFO:hf-to-gguf:blk.30.attn_q.weight,        torch.float16 --> F16, shape = {3072, 3072}\n",
      "INFO:hf-to-gguf:blk.30.attn_k.weight,        torch.float16 --> F16, shape = {3072, 3072}\n",
      "INFO:hf-to-gguf:blk.30.attn_v.weight,        torch.float16 --> F16, shape = {3072, 3072}\n",
      "INFO:hf-to-gguf:blk.30.attn_output.weight,   torch.float16 --> F16, shape = {3072, 3072}\n",
      "INFO:hf-to-gguf:blk.30.ffn_gate.weight,      torch.float16 --> F16, shape = {3072, 8192}\n",
      "INFO:hf-to-gguf:blk.30.ffn_up.weight,        torch.float16 --> F16, shape = {3072, 8192}\n",
      "INFO:hf-to-gguf:blk.30.ffn_down.weight,      torch.float16 --> F16, shape = {8192, 3072}\n",
      "INFO:hf-to-gguf:blk.30.attn_norm.weight,     torch.float16 --> F32, shape = {3072}\n",
      "INFO:hf-to-gguf:blk.30.ffn_norm.weight,      torch.float16 --> F32, shape = {3072}\n",
      "INFO:hf-to-gguf:blk.31.attn_q.weight,        torch.float16 --> F16, shape = {3072, 3072}\n",
      "INFO:hf-to-gguf:blk.31.attn_k.weight,        torch.float16 --> F16, shape = {3072, 3072}\n",
      "INFO:hf-to-gguf:blk.31.attn_v.weight,        torch.float16 --> F16, shape = {3072, 3072}\n",
      "INFO:hf-to-gguf:blk.31.attn_output.weight,   torch.float16 --> F16, shape = {3072, 3072}\n",
      "INFO:hf-to-gguf:blk.31.ffn_gate.weight,      torch.float16 --> F16, shape = {3072, 8192}\n",
      "INFO:hf-to-gguf:blk.31.ffn_up.weight,        torch.float16 --> F16, shape = {3072, 8192}\n",
      "INFO:hf-to-gguf:blk.31.ffn_down.weight,      torch.float16 --> F16, shape = {8192, 3072}\n",
      "INFO:hf-to-gguf:blk.31.attn_norm.weight,     torch.float16 --> F32, shape = {3072}\n",
      "INFO:hf-to-gguf:blk.31.ffn_norm.weight,      torch.float16 --> F32, shape = {3072}\n",
      "INFO:hf-to-gguf:output_norm.weight,          torch.float16 --> F32, shape = {3072}\n",
      "INFO:hf-to-gguf:output.weight,               torch.float16 --> F16, shape = {3072, 32064}\n",
      "INFO:hf-to-gguf:Set meta model\n",
      "INFO:hf-to-gguf:Set model parameters\n",
      "INFO:hf-to-gguf:gguf: context length = 4096\n",
      "INFO:hf-to-gguf:gguf: embedding length = 3072\n",
      "INFO:hf-to-gguf:gguf: feed forward length = 8192\n",
      "INFO:hf-to-gguf:gguf: head count = 32\n",
      "INFO:hf-to-gguf:gguf: key-value head count = 32\n",
      "INFO:hf-to-gguf:gguf: rope theta = 10000.0\n",
      "INFO:hf-to-gguf:gguf: rms norm epsilon = 1e-05\n",
      "INFO:hf-to-gguf:gguf: file type = 1\n",
      "INFO:hf-to-gguf:Set model quantization version\n",
      "INFO:hf-to-gguf:Set model tokenizer\n",
      "INFO:gguf.vocab:Setting special token type bos to 1\n",
      "INFO:gguf.vocab:Setting special token type eos to 32000\n",
      "INFO:gguf.vocab:Setting special token type unk to 0\n",
      "INFO:gguf.vocab:Setting special token type pad to 32000\n",
      "INFO:gguf.vocab:Setting add_bos_token to False\n",
      "INFO:gguf.vocab:Setting add_eos_token to False\n",
      "INFO:gguf.vocab:Setting chat_template to {% for message in messages %}{% if message['role'] == 'system' %}{{'<|system|>\n",
      "' + message['content'] + '<|end|>\n",
      "'}}{% elif message['role'] == 'user' %}{{'<|user|>\n",
      "' + message['content'] + '<|end|>\n",
      "'}}{% elif message['role'] == 'assistant' %}{{'<|assistant|>\n",
      "' + message['content'] + '<|end|>\n",
      "'}}{% endif %}{% endfor %}{% if add_generation_prompt %}{{ '<|assistant|>\n",
      "' }}{% else %}{{ eos_token }}{% endif %}\n",
      "INFO:gguf.gguf_writer:Writing the following files:\n",
      "INFO:gguf.gguf_writer:/content/gguf_model/unsloth.F16.gguf: n_tensors = 291, total_size = 7.6G\n",
      "Writing: 100%|██████████| 7.64G/7.64G [03:40<00:00, 34.7Mbyte/s]\n",
      "INFO:hf-to-gguf:Model successfully exported to /content/gguf_model/unsloth.F16.gguf\n",
      "Unsloth: Conversion completed! Output location: /content/gguf_model/unsloth.F16.gguf\n",
      "Unsloth: [2] Converting GGUF 16bit into q4_k_m. This might take 20 minutes...\n",
      "main: build = 5853 (ffd59e7d)\n",
      "main: built with cc (Ubuntu 11.4.0-1ubuntu1~22.04) 11.4.0 for x86_64-linux-gnu\n",
      "main: quantizing '/content/gguf_model/unsloth.F16.gguf' to '/content/gguf_model/unsloth.Q4_K_M.gguf' as Q4_K_M using 4 threads\n",
      "llama_model_loader: loaded meta data with 31 key-value pairs and 291 tensors from /content/gguf_model/unsloth.F16.gguf (version GGUF V3 (latest))\n",
      "llama_model_loader: Dumping metadata keys/values. Note: KV overrides do not apply in this output.\n",
      "llama_model_loader: - kv   0:                       general.architecture str              = llama\n",
      "llama_model_loader: - kv   1:                               general.type str              = model\n",
      "llama_model_loader: - kv   2:                               general.name str              = Gguf_Model\n",
      "llama_model_loader: - kv   3:                         general.size_label str              = 3.8B\n",
      "llama_model_loader: - kv   4:                          llama.block_count u32              = 32\n",
      "llama_model_loader: - kv   5:                       llama.context_length u32              = 4096\n",
      "llama_model_loader: - kv   6:                     llama.embedding_length u32              = 3072\n",
      "llama_model_loader: - kv   7:                  llama.feed_forward_length u32              = 8192\n",
      "llama_model_loader: - kv   8:                 llama.attention.head_count u32              = 32\n",
      "llama_model_loader: - kv   9:              llama.attention.head_count_kv u32              = 32\n",
      "llama_model_loader: - kv  10:                       llama.rope.freq_base f32              = 10000.000000\n",
      "llama_model_loader: - kv  11:     llama.attention.layer_norm_rms_epsilon f32              = 0.000010\n",
      "llama_model_loader: - kv  12:                 llama.attention.key_length u32              = 96\n",
      "llama_model_loader: - kv  13:               llama.attention.value_length u32              = 96\n",
      "llama_model_loader: - kv  14:                          general.file_type u32              = 1\n",
      "llama_model_loader: - kv  15:                           llama.vocab_size u32              = 32064\n",
      "llama_model_loader: - kv  16:                 llama.rope.dimension_count u32              = 96\n",
      "llama_model_loader: - kv  17:               general.quantization_version u32              = 2\n",
      "llama_model_loader: - kv  18:                       tokenizer.ggml.model str              = llama\n",
      "llama_model_loader: - kv  19:                         tokenizer.ggml.pre str              = default\n",
      "llama_model_loader: - kv  20:                      tokenizer.ggml.tokens arr[str,32064]   = [\"<unk>\", \"<s>\", \"</s>\", \"<0x00>\", \"<...\n",
      "llama_model_loader: - kv  21:                      tokenizer.ggml.scores arr[f32,32064]   = [-1000.000000, -1000.000000, -1000.00...\n",
      "llama_model_loader: - kv  22:                  tokenizer.ggml.token_type arr[i32,32064]   = [3, 3, 4, 6, 6, 6, 6, 6, 6, 6, 6, 6, ...\n",
      "llama_model_loader: - kv  23:                tokenizer.ggml.bos_token_id u32              = 1\n",
      "llama_model_loader: - kv  24:                tokenizer.ggml.eos_token_id u32              = 32000\n",
      "llama_model_loader: - kv  25:            tokenizer.ggml.unknown_token_id u32              = 0\n",
      "llama_model_loader: - kv  26:            tokenizer.ggml.padding_token_id u32              = 32000\n",
      "llama_model_loader: - kv  27:               tokenizer.ggml.add_bos_token bool             = false\n",
      "llama_model_loader: - kv  28:               tokenizer.ggml.add_eos_token bool             = false\n",
      "llama_model_loader: - kv  29:                    tokenizer.chat_template str              = {% for message in messages %}{% if me...\n",
      "llama_model_loader: - kv  30:            tokenizer.ggml.add_space_prefix bool             = false\n",
      "llama_model_loader: - type  f32:   65 tensors\n",
      "llama_model_loader: - type  f16:  226 tensors\n",
      "[   1/ 291]                        output.weight - [ 3072, 32064,     1,     1], type =    f16, converting to q6_K .. size =   187.88 MiB ->    77.06 MiB\n",
      "[   2/ 291]                   output_norm.weight - [ 3072,     1,     1,     1], type =    f32, size =    0.012 MB\n",
      "[   3/ 291]                    token_embd.weight - [ 3072, 32064,     1,     1], type =    f16, converting to q4_K .. size =   187.88 MiB ->    52.84 MiB\n",
      "[   4/ 291]                  blk.0.attn_k.weight - [ 3072,  3072,     1,     1], type =    f16, converting to q4_K .. size =    18.00 MiB ->     5.06 MiB\n",
      "[   5/ 291]               blk.0.attn_norm.weight - [ 3072,     1,     1,     1], type =    f32, size =    0.012 MB\n",
      "[   6/ 291]             blk.0.attn_output.weight - [ 3072,  3072,     1,     1], type =    f16, converting to q4_K .. size =    18.00 MiB ->     5.06 MiB\n",
      "[   7/ 291]                  blk.0.attn_q.weight - [ 3072,  3072,     1,     1], type =    f16, converting to q4_K .. size =    18.00 MiB ->     5.06 MiB\n",
      "[   8/ 291]                  blk.0.attn_v.weight - [ 3072,  3072,     1,     1], type =    f16, converting to q6_K .. size =    18.00 MiB ->     7.38 MiB\n",
      "[   9/ 291]                blk.0.ffn_down.weight - [ 8192,  3072,     1,     1], type =    f16, converting to q6_K .. size =    48.00 MiB ->    19.69 MiB\n",
      "[  10/ 291]                blk.0.ffn_gate.weight - [ 3072,  8192,     1,     1], type =    f16, converting to q4_K .. size =    48.00 MiB ->    13.50 MiB\n",
      "[  11/ 291]                blk.0.ffn_norm.weight - [ 3072,     1,     1,     1], type =    f32, size =    0.012 MB\n",
      "[  12/ 291]                  blk.0.ffn_up.weight - [ 3072,  8192,     1,     1], type =    f16, converting to q4_K .. size =    48.00 MiB ->    13.50 MiB\n",
      "[  13/ 291]                  blk.1.attn_k.weight - [ 3072,  3072,     1,     1], type =    f16, converting to q4_K .. size =    18.00 MiB ->     5.06 MiB\n",
      "[  14/ 291]               blk.1.attn_norm.weight - [ 3072,     1,     1,     1], type =    f32, size =    0.012 MB\n",
      "[  15/ 291]             blk.1.attn_output.weight - [ 3072,  3072,     1,     1], type =    f16, converting to q4_K .. size =    18.00 MiB ->     5.06 MiB\n",
      "[  16/ 291]                  blk.1.attn_q.weight - [ 3072,  3072,     1,     1], type =    f16, converting to q4_K .. size =    18.00 MiB ->     5.06 MiB\n",
      "[  17/ 291]                  blk.1.attn_v.weight - [ 3072,  3072,     1,     1], type =    f16, converting to q6_K .. size =    18.00 MiB ->     7.38 MiB\n",
      "[  18/ 291]                blk.1.ffn_down.weight - [ 8192,  3072,     1,     1], type =    f16, converting to q6_K .. size =    48.00 MiB ->    19.69 MiB\n",
      "[  19/ 291]                blk.1.ffn_gate.weight - [ 3072,  8192,     1,     1], type =    f16, converting to q4_K .. size =    48.00 MiB ->    13.50 MiB\n",
      "[  20/ 291]                blk.1.ffn_norm.weight - [ 3072,     1,     1,     1], type =    f32, size =    0.012 MB\n",
      "[  21/ 291]                  blk.1.ffn_up.weight - [ 3072,  8192,     1,     1], type =    f16, converting to q4_K .. size =    48.00 MiB ->    13.50 MiB\n",
      "[  22/ 291]                  blk.2.attn_k.weight - [ 3072,  3072,     1,     1], type =    f16, converting to q4_K .. size =    18.00 MiB ->     5.06 MiB\n",
      "[  23/ 291]               blk.2.attn_norm.weight - [ 3072,     1,     1,     1], type =    f32, size =    0.012 MB\n",
      "[  24/ 291]             blk.2.attn_output.weight - [ 3072,  3072,     1,     1], type =    f16, converting to q4_K .. size =    18.00 MiB ->     5.06 MiB\n",
      "[  25/ 291]                  blk.2.attn_q.weight - [ 3072,  3072,     1,     1], type =    f16, converting to q4_K .. size =    18.00 MiB ->     5.06 MiB\n",
      "[  26/ 291]                  blk.2.attn_v.weight - [ 3072,  3072,     1,     1], type =    f16, converting to q6_K .. size =    18.00 MiB ->     7.38 MiB\n",
      "[  27/ 291]                blk.2.ffn_down.weight - [ 8192,  3072,     1,     1], type =    f16, converting to q6_K .. size =    48.00 MiB ->    19.69 MiB\n",
      "[  28/ 291]                blk.2.ffn_gate.weight - [ 3072,  8192,     1,     1], type =    f16, converting to q4_K .. size =    48.00 MiB ->    13.50 MiB\n",
      "[  29/ 291]                blk.2.ffn_norm.weight - [ 3072,     1,     1,     1], type =    f32, size =    0.012 MB\n",
      "[  30/ 291]                  blk.2.ffn_up.weight - [ 3072,  8192,     1,     1], type =    f16, converting to q4_K .. size =    48.00 MiB ->    13.50 MiB\n",
      "[  31/ 291]                  blk.3.attn_k.weight - [ 3072,  3072,     1,     1], type =    f16, converting to q4_K .. size =    18.00 MiB ->     5.06 MiB\n",
      "[  32/ 291]               blk.3.attn_norm.weight - [ 3072,     1,     1,     1], type =    f32, size =    0.012 MB\n",
      "[  33/ 291]             blk.3.attn_output.weight - [ 3072,  3072,     1,     1], type =    f16, converting to q4_K .. size =    18.00 MiB ->     5.06 MiB\n",
      "[  34/ 291]                  blk.3.attn_q.weight - [ 3072,  3072,     1,     1], type =    f16, converting to q4_K .. size =    18.00 MiB ->     5.06 MiB\n",
      "[  35/ 291]                  blk.3.attn_v.weight - [ 3072,  3072,     1,     1], type =    f16, converting to q6_K .. size =    18.00 MiB ->     7.38 MiB\n",
      "[  36/ 291]                blk.3.ffn_down.weight - [ 8192,  3072,     1,     1], type =    f16, converting to q6_K .. size =    48.00 MiB ->    19.69 MiB\n",
      "[  37/ 291]                blk.3.ffn_gate.weight - [ 3072,  8192,     1,     1], type =    f16, converting to q4_K .. size =    48.00 MiB ->    13.50 MiB\n",
      "[  38/ 291]                blk.3.ffn_norm.weight - [ 3072,     1,     1,     1], type =    f32, size =    0.012 MB\n",
      "[  39/ 291]                  blk.3.ffn_up.weight - [ 3072,  8192,     1,     1], type =    f16, converting to q4_K .. size =    48.00 MiB ->    13.50 MiB\n",
      "[  40/ 291]                  blk.4.attn_k.weight - [ 3072,  3072,     1,     1], type =    f16, converting to q4_K .. size =    18.00 MiB ->     5.06 MiB\n",
      "[  41/ 291]               blk.4.attn_norm.weight - [ 3072,     1,     1,     1], type =    f32, size =    0.012 MB\n",
      "[  42/ 291]             blk.4.attn_output.weight - [ 3072,  3072,     1,     1], type =    f16, converting to q4_K .. size =    18.00 MiB ->     5.06 MiB\n",
      "[  43/ 291]                  blk.4.attn_q.weight - [ 3072,  3072,     1,     1], type =    f16, converting to q4_K .. size =    18.00 MiB ->     5.06 MiB\n",
      "[  44/ 291]                  blk.4.attn_v.weight - [ 3072,  3072,     1,     1], type =    f16, converting to q4_K .. size =    18.00 MiB ->     5.06 MiB\n",
      "[  45/ 291]                blk.4.ffn_down.weight - [ 8192,  3072,     1,     1], type =    f16, converting to q4_K .. size =    48.00 MiB ->    13.50 MiB\n",
      "[  46/ 291]                blk.4.ffn_gate.weight - [ 3072,  8192,     1,     1], type =    f16, converting to q4_K .. size =    48.00 MiB ->    13.50 MiB\n",
      "[  47/ 291]                blk.4.ffn_norm.weight - [ 3072,     1,     1,     1], type =    f32, size =    0.012 MB\n",
      "[  48/ 291]                  blk.4.ffn_up.weight - [ 3072,  8192,     1,     1], type =    f16, converting to q4_K .. size =    48.00 MiB ->    13.50 MiB\n",
      "[  49/ 291]                  blk.5.attn_k.weight - [ 3072,  3072,     1,     1], type =    f16, converting to q4_K .. size =    18.00 MiB ->     5.06 MiB\n",
      "[  50/ 291]               blk.5.attn_norm.weight - [ 3072,     1,     1,     1], type =    f32, size =    0.012 MB\n",
      "[  51/ 291]             blk.5.attn_output.weight - [ 3072,  3072,     1,     1], type =    f16, converting to q4_K .. size =    18.00 MiB ->     5.06 MiB\n",
      "[  52/ 291]                  blk.5.attn_q.weight - [ 3072,  3072,     1,     1], type =    f16, converting to q4_K .. size =    18.00 MiB ->     5.06 MiB\n",
      "[  53/ 291]                  blk.5.attn_v.weight - [ 3072,  3072,     1,     1], type =    f16, converting to q4_K .. size =    18.00 MiB ->     5.06 MiB\n",
      "[  54/ 291]                blk.5.ffn_down.weight - [ 8192,  3072,     1,     1], type =    f16, converting to q4_K .. size =    48.00 MiB ->    13.50 MiB\n",
      "[  55/ 291]                blk.5.ffn_gate.weight - [ 3072,  8192,     1,     1], type =    f16, converting to q4_K .. size =    48.00 MiB ->    13.50 MiB\n",
      "[  56/ 291]                blk.5.ffn_norm.weight - [ 3072,     1,     1,     1], type =    f32, size =    0.012 MB\n",
      "[  57/ 291]                  blk.5.ffn_up.weight - [ 3072,  8192,     1,     1], type =    f16, converting to q4_K .. size =    48.00 MiB ->    13.50 MiB\n",
      "[  58/ 291]                  blk.6.attn_k.weight - [ 3072,  3072,     1,     1], type =    f16, converting to q4_K .. size =    18.00 MiB ->     5.06 MiB\n",
      "[  59/ 291]               blk.6.attn_norm.weight - [ 3072,     1,     1,     1], type =    f32, size =    0.012 MB\n",
      "[  60/ 291]             blk.6.attn_output.weight - [ 3072,  3072,     1,     1], type =    f16, converting to q4_K .. size =    18.00 MiB ->     5.06 MiB\n",
      "[  61/ 291]                  blk.6.attn_q.weight - [ 3072,  3072,     1,     1], type =    f16, converting to q4_K .. size =    18.00 MiB ->     5.06 MiB\n",
      "[  62/ 291]                  blk.6.attn_v.weight - [ 3072,  3072,     1,     1], type =    f16, converting to q6_K .. size =    18.00 MiB ->     7.38 MiB\n",
      "[  63/ 291]                blk.6.ffn_down.weight - [ 8192,  3072,     1,     1], type =    f16, converting to q6_K .. size =    48.00 MiB ->    19.69 MiB\n",
      "[  64/ 291]                blk.6.ffn_gate.weight - [ 3072,  8192,     1,     1], type =    f16, converting to q4_K .. size =    48.00 MiB ->    13.50 MiB\n",
      "[  65/ 291]                blk.6.ffn_norm.weight - [ 3072,     1,     1,     1], type =    f32, size =    0.012 MB\n",
      "[  66/ 291]                  blk.6.ffn_up.weight - [ 3072,  8192,     1,     1], type =    f16, converting to q4_K .. size =    48.00 MiB ->    13.50 MiB\n",
      "[  67/ 291]                  blk.7.attn_k.weight - [ 3072,  3072,     1,     1], type =    f16, converting to q4_K .. size =    18.00 MiB ->     5.06 MiB\n",
      "[  68/ 291]               blk.7.attn_norm.weight - [ 3072,     1,     1,     1], type =    f32, size =    0.012 MB\n",
      "[  69/ 291]             blk.7.attn_output.weight - [ 3072,  3072,     1,     1], type =    f16, converting to q4_K .. size =    18.00 MiB ->     5.06 MiB\n",
      "[  70/ 291]                  blk.7.attn_q.weight - [ 3072,  3072,     1,     1], type =    f16, converting to q4_K .. size =    18.00 MiB ->     5.06 MiB\n",
      "[  71/ 291]                  blk.7.attn_v.weight - [ 3072,  3072,     1,     1], type =    f16, converting to q4_K .. size =    18.00 MiB ->     5.06 MiB\n",
      "[  72/ 291]                blk.7.ffn_down.weight - [ 8192,  3072,     1,     1], type =    f16, converting to q4_K .. size =    48.00 MiB ->    13.50 MiB\n",
      "[  73/ 291]                blk.7.ffn_gate.weight - [ 3072,  8192,     1,     1], type =    f16, converting to q4_K .. size =    48.00 MiB ->    13.50 MiB\n",
      "[  74/ 291]                blk.7.ffn_norm.weight - [ 3072,     1,     1,     1], type =    f32, size =    0.012 MB\n",
      "[  75/ 291]                  blk.7.ffn_up.weight - [ 3072,  8192,     1,     1], type =    f16, converting to q4_K .. size =    48.00 MiB ->    13.50 MiB\n",
      "[  76/ 291]                  blk.8.attn_k.weight - [ 3072,  3072,     1,     1], type =    f16, converting to q4_K .. size =    18.00 MiB ->     5.06 MiB\n",
      "[  77/ 291]               blk.8.attn_norm.weight - [ 3072,     1,     1,     1], type =    f32, size =    0.012 MB\n",
      "[  78/ 291]             blk.8.attn_output.weight - [ 3072,  3072,     1,     1], type =    f16, converting to q4_K .. size =    18.00 MiB ->     5.06 MiB\n",
      "[  79/ 291]                  blk.8.attn_q.weight - [ 3072,  3072,     1,     1], type =    f16, converting to q4_K .. size =    18.00 MiB ->     5.06 MiB\n",
      "[  80/ 291]                  blk.8.attn_v.weight - [ 3072,  3072,     1,     1], type =    f16, converting to q4_K .. size =    18.00 MiB ->     5.06 MiB\n",
      "[  81/ 291]                blk.8.ffn_down.weight - [ 8192,  3072,     1,     1], type =    f16, converting to q4_K .. size =    48.00 MiB ->    13.50 MiB\n",
      "[  82/ 291]                blk.8.ffn_gate.weight - [ 3072,  8192,     1,     1], type =    f16, converting to q4_K .. size =    48.00 MiB ->    13.50 MiB\n",
      "[  83/ 291]                blk.8.ffn_norm.weight - [ 3072,     1,     1,     1], type =    f32, size =    0.012 MB\n",
      "[  84/ 291]                  blk.8.ffn_up.weight - [ 3072,  8192,     1,     1], type =    f16, converting to q4_K .. size =    48.00 MiB ->    13.50 MiB\n",
      "[  85/ 291]                  blk.9.attn_k.weight - [ 3072,  3072,     1,     1], type =    f16, converting to q4_K .. size =    18.00 MiB ->     5.06 MiB\n",
      "[  86/ 291]               blk.9.attn_norm.weight - [ 3072,     1,     1,     1], type =    f32, size =    0.012 MB\n",
      "[  87/ 291]             blk.9.attn_output.weight - [ 3072,  3072,     1,     1], type =    f16, converting to q4_K .. size =    18.00 MiB ->     5.06 MiB\n",
      "[  88/ 291]                  blk.9.attn_q.weight - [ 3072,  3072,     1,     1], type =    f16, converting to q4_K .. size =    18.00 MiB ->     5.06 MiB\n",
      "[  89/ 291]                  blk.9.attn_v.weight - [ 3072,  3072,     1,     1], type =    f16, converting to q6_K .. size =    18.00 MiB ->     7.38 MiB\n",
      "[  90/ 291]                blk.9.ffn_down.weight - [ 8192,  3072,     1,     1], type =    f16, converting to q6_K .. size =    48.00 MiB ->    19.69 MiB\n",
      "[  91/ 291]                blk.9.ffn_gate.weight - [ 3072,  8192,     1,     1], type =    f16, converting to q4_K .. size =    48.00 MiB ->    13.50 MiB\n",
      "[  92/ 291]                blk.9.ffn_norm.weight - [ 3072,     1,     1,     1], type =    f32, size =    0.012 MB\n",
      "[  93/ 291]                  blk.9.ffn_up.weight - [ 3072,  8192,     1,     1], type =    f16, converting to q4_K .. size =    48.00 MiB ->    13.50 MiB\n",
      "[  94/ 291]                 blk.10.attn_k.weight - [ 3072,  3072,     1,     1], type =    f16, converting to q4_K .. size =    18.00 MiB ->     5.06 MiB\n",
      "[  95/ 291]              blk.10.attn_norm.weight - [ 3072,     1,     1,     1], type =    f32, size =    0.012 MB\n",
      "[  96/ 291]            blk.10.attn_output.weight - [ 3072,  3072,     1,     1], type =    f16, converting to q4_K .. size =    18.00 MiB ->     5.06 MiB\n",
      "[  97/ 291]                 blk.10.attn_q.weight - [ 3072,  3072,     1,     1], type =    f16, converting to q4_K .. size =    18.00 MiB ->     5.06 MiB\n",
      "[  98/ 291]                 blk.10.attn_v.weight - [ 3072,  3072,     1,     1], type =    f16, converting to q4_K .. size =    18.00 MiB ->     5.06 MiB\n",
      "[  99/ 291]               blk.10.ffn_down.weight - [ 8192,  3072,     1,     1], type =    f16, converting to q4_K .. size =    48.00 MiB ->    13.50 MiB\n",
      "[ 100/ 291]               blk.10.ffn_gate.weight - [ 3072,  8192,     1,     1], type =    f16, converting to q4_K .. size =    48.00 MiB ->    13.50 MiB\n",
      "[ 101/ 291]               blk.10.ffn_norm.weight - [ 3072,     1,     1,     1], type =    f32, size =    0.012 MB\n",
      "[ 102/ 291]                 blk.10.ffn_up.weight - [ 3072,  8192,     1,     1], type =    f16, converting to q4_K .. size =    48.00 MiB ->    13.50 MiB\n",
      "[ 103/ 291]                 blk.11.attn_k.weight - [ 3072,  3072,     1,     1], type =    f16, converting to q4_K .. size =    18.00 MiB ->     5.06 MiB\n",
      "[ 104/ 291]              blk.11.attn_norm.weight - [ 3072,     1,     1,     1], type =    f32, size =    0.012 MB\n",
      "[ 105/ 291]            blk.11.attn_output.weight - [ 3072,  3072,     1,     1], type =    f16, converting to q4_K .. size =    18.00 MiB ->     5.06 MiB\n",
      "[ 106/ 291]                 blk.11.attn_q.weight - [ 3072,  3072,     1,     1], type =    f16, converting to q4_K .. size =    18.00 MiB ->     5.06 MiB\n",
      "[ 107/ 291]                 blk.11.attn_v.weight - [ 3072,  3072,     1,     1], type =    f16, converting to q4_K .. size =    18.00 MiB ->     5.06 MiB\n",
      "[ 108/ 291]               blk.11.ffn_down.weight - [ 8192,  3072,     1,     1], type =    f16, converting to q4_K .. size =    48.00 MiB ->    13.50 MiB\n",
      "[ 109/ 291]               blk.11.ffn_gate.weight - [ 3072,  8192,     1,     1], type =    f16, converting to q4_K .. size =    48.00 MiB ->    13.50 MiB\n",
      "[ 110/ 291]               blk.11.ffn_norm.weight - [ 3072,     1,     1,     1], type =    f32, size =    0.012 MB\n",
      "[ 111/ 291]                 blk.11.ffn_up.weight - [ 3072,  8192,     1,     1], type =    f16, converting to q4_K .. size =    48.00 MiB ->    13.50 MiB\n",
      "[ 112/ 291]                 blk.12.attn_k.weight - [ 3072,  3072,     1,     1], type =    f16, converting to q4_K .. size =    18.00 MiB ->     5.06 MiB\n",
      "[ 113/ 291]              blk.12.attn_norm.weight - [ 3072,     1,     1,     1], type =    f32, size =    0.012 MB\n",
      "[ 114/ 291]            blk.12.attn_output.weight - [ 3072,  3072,     1,     1], type =    f16, converting to q4_K .. size =    18.00 MiB ->     5.06 MiB\n",
      "[ 115/ 291]                 blk.12.attn_q.weight - [ 3072,  3072,     1,     1], type =    f16, converting to q4_K .. size =    18.00 MiB ->     5.06 MiB\n",
      "[ 116/ 291]                 blk.12.attn_v.weight - [ 3072,  3072,     1,     1], type =    f16, converting to q6_K .. size =    18.00 MiB ->     7.38 MiB\n",
      "[ 117/ 291]               blk.12.ffn_down.weight - [ 8192,  3072,     1,     1], type =    f16, converting to q6_K .. size =    48.00 MiB ->    19.69 MiB\n",
      "[ 118/ 291]               blk.12.ffn_gate.weight - [ 3072,  8192,     1,     1], type =    f16, converting to q4_K .. size =    48.00 MiB ->    13.50 MiB\n",
      "[ 119/ 291]               blk.12.ffn_norm.weight - [ 3072,     1,     1,     1], type =    f32, size =    0.012 MB\n",
      "[ 120/ 291]                 blk.12.ffn_up.weight - [ 3072,  8192,     1,     1], type =    f16, converting to q4_K .. size =    48.00 MiB ->    13.50 MiB\n",
      "[ 121/ 291]                 blk.13.attn_k.weight - [ 3072,  3072,     1,     1], type =    f16, converting to q4_K .. size =    18.00 MiB ->     5.06 MiB\n",
      "[ 122/ 291]              blk.13.attn_norm.weight - [ 3072,     1,     1,     1], type =    f32, size =    0.012 MB\n",
      "[ 123/ 291]            blk.13.attn_output.weight - [ 3072,  3072,     1,     1], type =    f16, converting to q4_K .. size =    18.00 MiB ->     5.06 MiB\n",
      "[ 124/ 291]                 blk.13.attn_q.weight - [ 3072,  3072,     1,     1], type =    f16, converting to q4_K .. size =    18.00 MiB ->     5.06 MiB\n",
      "[ 125/ 291]                 blk.13.attn_v.weight - [ 3072,  3072,     1,     1], type =    f16, converting to q4_K .. size =    18.00 MiB ->     5.06 MiB\n",
      "[ 126/ 291]               blk.13.ffn_down.weight - [ 8192,  3072,     1,     1], type =    f16, converting to q4_K .. size =    48.00 MiB ->    13.50 MiB\n",
      "[ 127/ 291]               blk.13.ffn_gate.weight - [ 3072,  8192,     1,     1], type =    f16, converting to q4_K .. size =    48.00 MiB ->    13.50 MiB\n",
      "[ 128/ 291]               blk.13.ffn_norm.weight - [ 3072,     1,     1,     1], type =    f32, size =    0.012 MB\n",
      "[ 129/ 291]                 blk.13.ffn_up.weight - [ 3072,  8192,     1,     1], type =    f16, converting to q4_K .. size =    48.00 MiB ->    13.50 MiB\n",
      "[ 130/ 291]                 blk.14.attn_k.weight - [ 3072,  3072,     1,     1], type =    f16, converting to q4_K .. size =    18.00 MiB ->     5.06 MiB\n",
      "[ 131/ 291]              blk.14.attn_norm.weight - [ 3072,     1,     1,     1], type =    f32, size =    0.012 MB\n",
      "[ 132/ 291]            blk.14.attn_output.weight - [ 3072,  3072,     1,     1], type =    f16, converting to q4_K .. size =    18.00 MiB ->     5.06 MiB\n",
      "[ 133/ 291]                 blk.14.attn_q.weight - [ 3072,  3072,     1,     1], type =    f16, converting to q4_K .. size =    18.00 MiB ->     5.06 MiB\n",
      "[ 134/ 291]                 blk.14.attn_v.weight - [ 3072,  3072,     1,     1], type =    f16, converting to q4_K .. size =    18.00 MiB ->     5.06 MiB\n",
      "[ 135/ 291]               blk.14.ffn_down.weight - [ 8192,  3072,     1,     1], type =    f16, converting to q4_K .. size =    48.00 MiB ->    13.50 MiB\n",
      "[ 136/ 291]               blk.14.ffn_gate.weight - [ 3072,  8192,     1,     1], type =    f16, converting to q4_K .. size =    48.00 MiB ->    13.50 MiB\n",
      "[ 137/ 291]               blk.14.ffn_norm.weight - [ 3072,     1,     1,     1], type =    f32, size =    0.012 MB\n",
      "[ 138/ 291]                 blk.14.ffn_up.weight - [ 3072,  8192,     1,     1], type =    f16, converting to q4_K .. size =    48.00 MiB ->    13.50 MiB\n",
      "[ 139/ 291]                 blk.15.attn_k.weight - [ 3072,  3072,     1,     1], type =    f16, converting to q4_K .. size =    18.00 MiB ->     5.06 MiB\n",
      "[ 140/ 291]              blk.15.attn_norm.weight - [ 3072,     1,     1,     1], type =    f32, size =    0.012 MB\n",
      "[ 141/ 291]            blk.15.attn_output.weight - [ 3072,  3072,     1,     1], type =    f16, converting to q4_K .. size =    18.00 MiB ->     5.06 MiB\n",
      "[ 142/ 291]                 blk.15.attn_q.weight - [ 3072,  3072,     1,     1], type =    f16, converting to q4_K .. size =    18.00 MiB ->     5.06 MiB\n",
      "[ 143/ 291]                 blk.15.attn_v.weight - [ 3072,  3072,     1,     1], type =    f16, converting to q6_K .. size =    18.00 MiB ->     7.38 MiB\n",
      "[ 144/ 291]               blk.15.ffn_down.weight - [ 8192,  3072,     1,     1], type =    f16, converting to q6_K .. size =    48.00 MiB ->    19.69 MiB\n",
      "[ 145/ 291]               blk.15.ffn_gate.weight - [ 3072,  8192,     1,     1], type =    f16, converting to q4_K .. size =    48.00 MiB ->    13.50 MiB\n",
      "[ 146/ 291]               blk.15.ffn_norm.weight - [ 3072,     1,     1,     1], type =    f32, size =    0.012 MB\n",
      "[ 147/ 291]                 blk.15.ffn_up.weight - [ 3072,  8192,     1,     1], type =    f16, converting to q4_K .. size =    48.00 MiB ->    13.50 MiB\n",
      "[ 148/ 291]                 blk.16.attn_k.weight - [ 3072,  3072,     1,     1], type =    f16, converting to q4_K .. size =    18.00 MiB ->     5.06 MiB\n",
      "[ 149/ 291]              blk.16.attn_norm.weight - [ 3072,     1,     1,     1], type =    f32, size =    0.012 MB\n",
      "[ 150/ 291]            blk.16.attn_output.weight - [ 3072,  3072,     1,     1], type =    f16, converting to q4_K .. size =    18.00 MiB ->     5.06 MiB\n",
      "[ 151/ 291]                 blk.16.attn_q.weight - [ 3072,  3072,     1,     1], type =    f16, converting to q4_K .. size =    18.00 MiB ->     5.06 MiB\n",
      "[ 152/ 291]                 blk.16.attn_v.weight - [ 3072,  3072,     1,     1], type =    f16, converting to q4_K .. size =    18.00 MiB ->     5.06 MiB\n",
      "[ 153/ 291]               blk.16.ffn_down.weight - [ 8192,  3072,     1,     1], type =    f16, converting to q4_K .. size =    48.00 MiB ->    13.50 MiB\n",
      "[ 154/ 291]               blk.16.ffn_gate.weight - [ 3072,  8192,     1,     1], type =    f16, converting to q4_K .. size =    48.00 MiB ->    13.50 MiB\n",
      "[ 155/ 291]               blk.16.ffn_norm.weight - [ 3072,     1,     1,     1], type =    f32, size =    0.012 MB\n",
      "[ 156/ 291]                 blk.16.ffn_up.weight - [ 3072,  8192,     1,     1], type =    f16, converting to q4_K .. size =    48.00 MiB ->    13.50 MiB\n",
      "[ 157/ 291]                 blk.17.attn_k.weight - [ 3072,  3072,     1,     1], type =    f16, converting to q4_K .. size =    18.00 MiB ->     5.06 MiB\n",
      "[ 158/ 291]              blk.17.attn_norm.weight - [ 3072,     1,     1,     1], type =    f32, size =    0.012 MB\n",
      "[ 159/ 291]            blk.17.attn_output.weight - [ 3072,  3072,     1,     1], type =    f16, converting to q4_K .. size =    18.00 MiB ->     5.06 MiB\n",
      "[ 160/ 291]                 blk.17.attn_q.weight - [ 3072,  3072,     1,     1], type =    f16, converting to q4_K .. size =    18.00 MiB ->     5.06 MiB\n",
      "[ 161/ 291]                 blk.17.attn_v.weight - [ 3072,  3072,     1,     1], type =    f16, converting to q4_K .. size =    18.00 MiB ->     5.06 MiB\n",
      "[ 162/ 291]               blk.17.ffn_down.weight - [ 8192,  3072,     1,     1], type =    f16, converting to q4_K .. size =    48.00 MiB ->    13.50 MiB\n",
      "[ 163/ 291]               blk.17.ffn_gate.weight - [ 3072,  8192,     1,     1], type =    f16, converting to q4_K .. size =    48.00 MiB ->    13.50 MiB\n",
      "[ 164/ 291]               blk.17.ffn_norm.weight - [ 3072,     1,     1,     1], type =    f32, size =    0.012 MB\n",
      "[ 165/ 291]                 blk.17.ffn_up.weight - [ 3072,  8192,     1,     1], type =    f16, converting to q4_K .. size =    48.00 MiB ->    13.50 MiB\n",
      "[ 166/ 291]                 blk.18.attn_k.weight - [ 3072,  3072,     1,     1], type =    f16, converting to q4_K .. size =    18.00 MiB ->     5.06 MiB\n",
      "[ 167/ 291]              blk.18.attn_norm.weight - [ 3072,     1,     1,     1], type =    f32, size =    0.012 MB\n",
      "[ 168/ 291]            blk.18.attn_output.weight - [ 3072,  3072,     1,     1], type =    f16, converting to q4_K .. size =    18.00 MiB ->     5.06 MiB\n",
      "[ 169/ 291]                 blk.18.attn_q.weight - [ 3072,  3072,     1,     1], type =    f16, converting to q4_K .. size =    18.00 MiB ->     5.06 MiB\n",
      "[ 170/ 291]                 blk.18.attn_v.weight - [ 3072,  3072,     1,     1], type =    f16, converting to q6_K .. size =    18.00 MiB ->     7.38 MiB\n",
      "[ 171/ 291]               blk.18.ffn_down.weight - [ 8192,  3072,     1,     1], type =    f16, converting to q6_K .. size =    48.00 MiB ->    19.69 MiB\n",
      "[ 172/ 291]               blk.18.ffn_gate.weight - [ 3072,  8192,     1,     1], type =    f16, converting to q4_K .. size =    48.00 MiB ->    13.50 MiB\n",
      "[ 173/ 291]               blk.18.ffn_norm.weight - [ 3072,     1,     1,     1], type =    f32, size =    0.012 MB\n",
      "[ 174/ 291]                 blk.18.ffn_up.weight - [ 3072,  8192,     1,     1], type =    f16, converting to q4_K .. size =    48.00 MiB ->    13.50 MiB\n",
      "[ 175/ 291]                 blk.19.attn_k.weight - [ 3072,  3072,     1,     1], type =    f16, converting to q4_K .. size =    18.00 MiB ->     5.06 MiB\n",
      "[ 176/ 291]              blk.19.attn_norm.weight - [ 3072,     1,     1,     1], type =    f32, size =    0.012 MB\n",
      "[ 177/ 291]            blk.19.attn_output.weight - [ 3072,  3072,     1,     1], type =    f16, converting to q4_K .. size =    18.00 MiB ->     5.06 MiB\n",
      "[ 178/ 291]                 blk.19.attn_q.weight - [ 3072,  3072,     1,     1], type =    f16, converting to q4_K .. size =    18.00 MiB ->     5.06 MiB\n",
      "[ 179/ 291]                 blk.19.attn_v.weight - [ 3072,  3072,     1,     1], type =    f16, converting to q4_K .. size =    18.00 MiB ->     5.06 MiB\n",
      "[ 180/ 291]               blk.19.ffn_down.weight - [ 8192,  3072,     1,     1], type =    f16, converting to q4_K .. size =    48.00 MiB ->    13.50 MiB\n",
      "[ 181/ 291]               blk.19.ffn_gate.weight - [ 3072,  8192,     1,     1], type =    f16, converting to q4_K .. size =    48.00 MiB ->    13.50 MiB\n",
      "[ 182/ 291]               blk.19.ffn_norm.weight - [ 3072,     1,     1,     1], type =    f32, size =    0.012 MB\n",
      "[ 183/ 291]                 blk.19.ffn_up.weight - [ 3072,  8192,     1,     1], type =    f16, converting to q4_K .. size =    48.00 MiB ->    13.50 MiB\n",
      "[ 184/ 291]                 blk.20.attn_k.weight - [ 3072,  3072,     1,     1], type =    f16, converting to q4_K .. size =    18.00 MiB ->     5.06 MiB\n",
      "[ 185/ 291]              blk.20.attn_norm.weight - [ 3072,     1,     1,     1], type =    f32, size =    0.012 MB\n",
      "[ 186/ 291]            blk.20.attn_output.weight - [ 3072,  3072,     1,     1], type =    f16, converting to q4_K .. size =    18.00 MiB ->     5.06 MiB\n",
      "[ 187/ 291]                 blk.20.attn_q.weight - [ 3072,  3072,     1,     1], type =    f16, converting to q4_K .. size =    18.00 MiB ->     5.06 MiB\n",
      "[ 188/ 291]                 blk.20.attn_v.weight - [ 3072,  3072,     1,     1], type =    f16, converting to q4_K .. size =    18.00 MiB ->     5.06 MiB\n",
      "[ 189/ 291]               blk.20.ffn_down.weight - [ 8192,  3072,     1,     1], type =    f16, converting to q4_K .. size =    48.00 MiB ->    13.50 MiB\n",
      "[ 190/ 291]               blk.20.ffn_gate.weight - [ 3072,  8192,     1,     1], type =    f16, converting to q4_K .. size =    48.00 MiB ->    13.50 MiB\n",
      "[ 191/ 291]               blk.20.ffn_norm.weight - [ 3072,     1,     1,     1], type =    f32, size =    0.012 MB\n",
      "[ 192/ 291]                 blk.20.ffn_up.weight - [ 3072,  8192,     1,     1], type =    f16, converting to q4_K .. size =    48.00 MiB ->    13.50 MiB\n",
      "[ 193/ 291]                 blk.21.attn_k.weight - [ 3072,  3072,     1,     1], type =    f16, converting to q4_K .. size =    18.00 MiB ->     5.06 MiB\n",
      "[ 194/ 291]              blk.21.attn_norm.weight - [ 3072,     1,     1,     1], type =    f32, size =    0.012 MB\n",
      "[ 195/ 291]            blk.21.attn_output.weight - [ 3072,  3072,     1,     1], type =    f16, converting to q4_K .. size =    18.00 MiB ->     5.06 MiB\n",
      "[ 196/ 291]                 blk.21.attn_q.weight - [ 3072,  3072,     1,     1], type =    f16, converting to q4_K .. size =    18.00 MiB ->     5.06 MiB\n",
      "[ 197/ 291]                 blk.21.attn_v.weight - [ 3072,  3072,     1,     1], type =    f16, converting to q6_K .. size =    18.00 MiB ->     7.38 MiB\n",
      "[ 198/ 291]               blk.21.ffn_down.weight - [ 8192,  3072,     1,     1], type =    f16, converting to q6_K .. size =    48.00 MiB ->    19.69 MiB\n",
      "[ 199/ 291]               blk.21.ffn_gate.weight - [ 3072,  8192,     1,     1], type =    f16, converting to q4_K .. size =    48.00 MiB ->    13.50 MiB\n",
      "[ 200/ 291]               blk.21.ffn_norm.weight - [ 3072,     1,     1,     1], type =    f32, size =    0.012 MB\n",
      "[ 201/ 291]                 blk.21.ffn_up.weight - [ 3072,  8192,     1,     1], type =    f16, converting to q4_K .. size =    48.00 MiB ->    13.50 MiB\n",
      "[ 202/ 291]                 blk.22.attn_k.weight - [ 3072,  3072,     1,     1], type =    f16, converting to q4_K .. size =    18.00 MiB ->     5.06 MiB\n",
      "[ 203/ 291]              blk.22.attn_norm.weight - [ 3072,     1,     1,     1], type =    f32, size =    0.012 MB\n",
      "[ 204/ 291]            blk.22.attn_output.weight - [ 3072,  3072,     1,     1], type =    f16, converting to q4_K .. size =    18.00 MiB ->     5.06 MiB\n",
      "[ 205/ 291]                 blk.22.attn_q.weight - [ 3072,  3072,     1,     1], type =    f16, converting to q4_K .. size =    18.00 MiB ->     5.06 MiB\n",
      "[ 206/ 291]                 blk.22.attn_v.weight - [ 3072,  3072,     1,     1], type =    f16, converting to q4_K .. size =    18.00 MiB ->     5.06 MiB\n",
      "[ 207/ 291]               blk.22.ffn_down.weight - [ 8192,  3072,     1,     1], type =    f16, converting to q4_K .. size =    48.00 MiB ->    13.50 MiB\n",
      "[ 208/ 291]               blk.22.ffn_gate.weight - [ 3072,  8192,     1,     1], type =    f16, converting to q4_K .. size =    48.00 MiB ->    13.50 MiB\n",
      "[ 209/ 291]               blk.22.ffn_norm.weight - [ 3072,     1,     1,     1], type =    f32, size =    0.012 MB\n",
      "[ 210/ 291]                 blk.22.ffn_up.weight - [ 3072,  8192,     1,     1], type =    f16, converting to q4_K .. size =    48.00 MiB ->    13.50 MiB\n",
      "[ 211/ 291]                 blk.23.attn_k.weight - [ 3072,  3072,     1,     1], type =    f16, converting to q4_K .. size =    18.00 MiB ->     5.06 MiB\n",
      "[ 212/ 291]              blk.23.attn_norm.weight - [ 3072,     1,     1,     1], type =    f32, size =    0.012 MB\n",
      "[ 213/ 291]            blk.23.attn_output.weight - [ 3072,  3072,     1,     1], type =    f16, converting to q4_K .. size =    18.00 MiB ->     5.06 MiB\n",
      "[ 214/ 291]                 blk.23.attn_q.weight - [ 3072,  3072,     1,     1], type =    f16, converting to q4_K .. size =    18.00 MiB ->     5.06 MiB\n",
      "[ 215/ 291]                 blk.23.attn_v.weight - [ 3072,  3072,     1,     1], type =    f16, converting to q4_K .. size =    18.00 MiB ->     5.06 MiB\n",
      "[ 216/ 291]               blk.23.ffn_down.weight - [ 8192,  3072,     1,     1], type =    f16, converting to q4_K .. size =    48.00 MiB ->    13.50 MiB\n",
      "[ 217/ 291]               blk.23.ffn_gate.weight - [ 3072,  8192,     1,     1], type =    f16, converting to q4_K .. size =    48.00 MiB ->    13.50 MiB\n",
      "[ 218/ 291]               blk.23.ffn_norm.weight - [ 3072,     1,     1,     1], type =    f32, size =    0.012 MB\n",
      "[ 219/ 291]                 blk.23.ffn_up.weight - [ 3072,  8192,     1,     1], type =    f16, converting to q4_K .. size =    48.00 MiB ->    13.50 MiB\n",
      "[ 220/ 291]                 blk.24.attn_k.weight - [ 3072,  3072,     1,     1], type =    f16, converting to q4_K .. size =    18.00 MiB ->     5.06 MiB\n",
      "[ 221/ 291]              blk.24.attn_norm.weight - [ 3072,     1,     1,     1], type =    f32, size =    0.012 MB\n",
      "[ 222/ 291]            blk.24.attn_output.weight - [ 3072,  3072,     1,     1], type =    f16, converting to q4_K .. size =    18.00 MiB ->     5.06 MiB\n",
      "[ 223/ 291]                 blk.24.attn_q.weight - [ 3072,  3072,     1,     1], type =    f16, converting to q4_K .. size =    18.00 MiB ->     5.06 MiB\n",
      "[ 224/ 291]                 blk.24.attn_v.weight - [ 3072,  3072,     1,     1], type =    f16, converting to q6_K .. size =    18.00 MiB ->     7.38 MiB\n",
      "[ 225/ 291]               blk.24.ffn_down.weight - [ 8192,  3072,     1,     1], type =    f16, converting to q6_K .. size =    48.00 MiB ->    19.69 MiB\n",
      "[ 226/ 291]               blk.24.ffn_gate.weight - [ 3072,  8192,     1,     1], type =    f16, converting to q4_K .. size =    48.00 MiB ->    13.50 MiB\n",
      "[ 227/ 291]               blk.24.ffn_norm.weight - [ 3072,     1,     1,     1], type =    f32, size =    0.012 MB\n",
      "[ 228/ 291]                 blk.24.ffn_up.weight - [ 3072,  8192,     1,     1], type =    f16, converting to q4_K .. size =    48.00 MiB ->    13.50 MiB\n",
      "[ 229/ 291]                 blk.25.attn_k.weight - [ 3072,  3072,     1,     1], type =    f16, converting to q4_K .. size =    18.00 MiB ->     5.06 MiB\n",
      "[ 230/ 291]              blk.25.attn_norm.weight - [ 3072,     1,     1,     1], type =    f32, size =    0.012 MB\n",
      "[ 231/ 291]            blk.25.attn_output.weight - [ 3072,  3072,     1,     1], type =    f16, converting to q4_K .. size =    18.00 MiB ->     5.06 MiB\n",
      "[ 232/ 291]                 blk.25.attn_q.weight - [ 3072,  3072,     1,     1], type =    f16, converting to q4_K .. size =    18.00 MiB ->     5.06 MiB\n",
      "[ 233/ 291]                 blk.25.attn_v.weight - [ 3072,  3072,     1,     1], type =    f16, converting to q4_K .. size =    18.00 MiB ->     5.06 MiB\n",
      "[ 234/ 291]               blk.25.ffn_down.weight - [ 8192,  3072,     1,     1], type =    f16, converting to q4_K .. size =    48.00 MiB ->    13.50 MiB\n",
      "[ 235/ 291]               blk.25.ffn_gate.weight - [ 3072,  8192,     1,     1], type =    f16, converting to q4_K .. size =    48.00 MiB ->    13.50 MiB\n",
      "[ 236/ 291]               blk.25.ffn_norm.weight - [ 3072,     1,     1,     1], type =    f32, size =    0.012 MB\n",
      "[ 237/ 291]                 blk.25.ffn_up.weight - [ 3072,  8192,     1,     1], type =    f16, converting to q4_K .. size =    48.00 MiB ->    13.50 MiB\n",
      "[ 238/ 291]                 blk.26.attn_k.weight - [ 3072,  3072,     1,     1], type =    f16, converting to q4_K .. size =    18.00 MiB ->     5.06 MiB\n",
      "[ 239/ 291]              blk.26.attn_norm.weight - [ 3072,     1,     1,     1], type =    f32, size =    0.012 MB\n",
      "[ 240/ 291]            blk.26.attn_output.weight - [ 3072,  3072,     1,     1], type =    f16, converting to q4_K .. size =    18.00 MiB ->     5.06 MiB\n",
      "[ 241/ 291]                 blk.26.attn_q.weight - [ 3072,  3072,     1,     1], type =    f16, converting to q4_K .. size =    18.00 MiB ->     5.06 MiB\n",
      "[ 242/ 291]                 blk.26.attn_v.weight - [ 3072,  3072,     1,     1], type =    f16, converting to q4_K .. size =    18.00 MiB ->     5.06 MiB\n",
      "[ 243/ 291]               blk.26.ffn_down.weight - [ 8192,  3072,     1,     1], type =    f16, converting to q4_K .. size =    48.00 MiB ->    13.50 MiB\n",
      "[ 244/ 291]               blk.26.ffn_gate.weight - [ 3072,  8192,     1,     1], type =    f16, converting to q4_K .. size =    48.00 MiB ->    13.50 MiB\n",
      "[ 245/ 291]               blk.26.ffn_norm.weight - [ 3072,     1,     1,     1], type =    f32, size =    0.012 MB\n",
      "[ 246/ 291]                 blk.26.ffn_up.weight - [ 3072,  8192,     1,     1], type =    f16, converting to q4_K .. size =    48.00 MiB ->    13.50 MiB\n",
      "[ 247/ 291]                 blk.27.attn_k.weight - [ 3072,  3072,     1,     1], type =    f16, converting to q4_K .. size =    18.00 MiB ->     5.06 MiB\n",
      "[ 248/ 291]              blk.27.attn_norm.weight - [ 3072,     1,     1,     1], type =    f32, size =    0.012 MB\n",
      "[ 249/ 291]            blk.27.attn_output.weight - [ 3072,  3072,     1,     1], type =    f16, converting to q4_K .. size =    18.00 MiB ->     5.06 MiB\n",
      "[ 250/ 291]                 blk.27.attn_q.weight - [ 3072,  3072,     1,     1], type =    f16, converting to q4_K .. size =    18.00 MiB ->     5.06 MiB\n",
      "[ 251/ 291]                 blk.27.attn_v.weight - [ 3072,  3072,     1,     1], type =    f16, converting to q6_K .. size =    18.00 MiB ->     7.38 MiB\n",
      "[ 252/ 291]               blk.27.ffn_down.weight - [ 8192,  3072,     1,     1], type =    f16, converting to q6_K .. size =    48.00 MiB ->    19.69 MiB\n",
      "[ 253/ 291]               blk.27.ffn_gate.weight - [ 3072,  8192,     1,     1], type =    f16, converting to q4_K .. size =    48.00 MiB ->    13.50 MiB\n",
      "[ 254/ 291]               blk.27.ffn_norm.weight - [ 3072,     1,     1,     1], type =    f32, size =    0.012 MB\n",
      "[ 255/ 291]                 blk.27.ffn_up.weight - [ 3072,  8192,     1,     1], type =    f16, converting to q4_K .. size =    48.00 MiB ->    13.50 MiB\n",
      "[ 256/ 291]                 blk.28.attn_k.weight - [ 3072,  3072,     1,     1], type =    f16, converting to q4_K .. size =    18.00 MiB ->     5.06 MiB\n",
      "[ 257/ 291]              blk.28.attn_norm.weight - [ 3072,     1,     1,     1], type =    f32, size =    0.012 MB\n",
      "[ 258/ 291]            blk.28.attn_output.weight - [ 3072,  3072,     1,     1], type =    f16, converting to q4_K .. size =    18.00 MiB ->     5.06 MiB\n",
      "[ 259/ 291]                 blk.28.attn_q.weight - [ 3072,  3072,     1,     1], type =    f16, converting to q4_K .. size =    18.00 MiB ->     5.06 MiB\n",
      "[ 260/ 291]                 blk.28.attn_v.weight - [ 3072,  3072,     1,     1], type =    f16, converting to q6_K .. size =    18.00 MiB ->     7.38 MiB\n",
      "[ 261/ 291]               blk.28.ffn_down.weight - [ 8192,  3072,     1,     1], type =    f16, converting to q6_K .. size =    48.00 MiB ->    19.69 MiB\n",
      "[ 262/ 291]               blk.28.ffn_gate.weight - [ 3072,  8192,     1,     1], type =    f16, converting to q4_K .. size =    48.00 MiB ->    13.50 MiB\n",
      "[ 263/ 291]               blk.28.ffn_norm.weight - [ 3072,     1,     1,     1], type =    f32, size =    0.012 MB\n",
      "[ 264/ 291]                 blk.28.ffn_up.weight - [ 3072,  8192,     1,     1], type =    f16, converting to q4_K .. size =    48.00 MiB ->    13.50 MiB\n",
      "[ 265/ 291]                 blk.29.attn_k.weight - [ 3072,  3072,     1,     1], type =    f16, converting to q4_K .. size =    18.00 MiB ->     5.06 MiB\n",
      "[ 266/ 291]              blk.29.attn_norm.weight - [ 3072,     1,     1,     1], type =    f32, size =    0.012 MB\n",
      "[ 267/ 291]            blk.29.attn_output.weight - [ 3072,  3072,     1,     1], type =    f16, converting to q4_K .. size =    18.00 MiB ->     5.06 MiB\n",
      "[ 268/ 291]                 blk.29.attn_q.weight - [ 3072,  3072,     1,     1], type =    f16, converting to q4_K .. size =    18.00 MiB ->     5.06 MiB\n",
      "[ 269/ 291]                 blk.29.attn_v.weight - [ 3072,  3072,     1,     1], type =    f16, converting to q6_K .. size =    18.00 MiB ->     7.38 MiB\n",
      "[ 270/ 291]               blk.29.ffn_down.weight - [ 8192,  3072,     1,     1], type =    f16, converting to q6_K .. size =    48.00 MiB ->    19.69 MiB\n",
      "[ 271/ 291]               blk.29.ffn_gate.weight - [ 3072,  8192,     1,     1], type =    f16, converting to q4_K .. size =    48.00 MiB ->    13.50 MiB\n",
      "[ 272/ 291]               blk.29.ffn_norm.weight - [ 3072,     1,     1,     1], type =    f32, size =    0.012 MB\n",
      "[ 273/ 291]                 blk.29.ffn_up.weight - [ 3072,  8192,     1,     1], type =    f16, converting to q4_K .. size =    48.00 MiB ->    13.50 MiB\n",
      "[ 274/ 291]                 blk.30.attn_k.weight - [ 3072,  3072,     1,     1], type =    f16, converting to q4_K .. size =    18.00 MiB ->     5.06 MiB\n",
      "[ 275/ 291]              blk.30.attn_norm.weight - [ 3072,     1,     1,     1], type =    f32, size =    0.012 MB\n",
      "[ 276/ 291]            blk.30.attn_output.weight - [ 3072,  3072,     1,     1], type =    f16, converting to q4_K .. size =    18.00 MiB ->     5.06 MiB\n",
      "[ 277/ 291]                 blk.30.attn_q.weight - [ 3072,  3072,     1,     1], type =    f16, converting to q4_K .. size =    18.00 MiB ->     5.06 MiB\n",
      "[ 278/ 291]                 blk.30.attn_v.weight - [ 3072,  3072,     1,     1], type =    f16, converting to q6_K .. size =    18.00 MiB ->     7.38 MiB\n",
      "[ 279/ 291]               blk.30.ffn_down.weight - [ 8192,  3072,     1,     1], type =    f16, converting to q6_K .. size =    48.00 MiB ->    19.69 MiB\n",
      "[ 280/ 291]               blk.30.ffn_gate.weight - [ 3072,  8192,     1,     1], type =    f16, converting to q4_K .. size =    48.00 MiB ->    13.50 MiB\n",
      "[ 281/ 291]               blk.30.ffn_norm.weight - [ 3072,     1,     1,     1], type =    f32, size =    0.012 MB\n",
      "[ 282/ 291]                 blk.30.ffn_up.weight - [ 3072,  8192,     1,     1], type =    f16, converting to q4_K .. size =    48.00 MiB ->    13.50 MiB\n",
      "[ 283/ 291]                 blk.31.attn_k.weight - [ 3072,  3072,     1,     1], type =    f16, converting to q4_K .. size =    18.00 MiB ->     5.06 MiB\n",
      "[ 284/ 291]              blk.31.attn_norm.weight - [ 3072,     1,     1,     1], type =    f32, size =    0.012 MB\n",
      "[ 285/ 291]            blk.31.attn_output.weight - [ 3072,  3072,     1,     1], type =    f16, converting to q4_K .. size =    18.00 MiB ->     5.06 MiB\n",
      "[ 286/ 291]                 blk.31.attn_q.weight - [ 3072,  3072,     1,     1], type =    f16, converting to q4_K .. size =    18.00 MiB ->     5.06 MiB\n",
      "[ 287/ 291]                 blk.31.attn_v.weight - [ 3072,  3072,     1,     1], type =    f16, converting to q6_K .. size =    18.00 MiB ->     7.38 MiB\n",
      "[ 288/ 291]               blk.31.ffn_down.weight - [ 8192,  3072,     1,     1], type =    f16, converting to q6_K .. size =    48.00 MiB ->    19.69 MiB\n",
      "[ 289/ 291]               blk.31.ffn_gate.weight - [ 3072,  8192,     1,     1], type =    f16, converting to q4_K .. size =    48.00 MiB ->    13.50 MiB\n",
      "[ 290/ 291]               blk.31.ffn_norm.weight - [ 3072,     1,     1,     1], type =    f32, size =    0.012 MB\n",
      "[ 291/ 291]                 blk.31.ffn_up.weight - [ 3072,  8192,     1,     1], type =    f16, converting to q4_K .. size =    48.00 MiB ->    13.50 MiB\n",
      "llama_model_quantize_impl: model size  =  7288.51 MB\n",
      "llama_model_quantize_impl: quant size  =  2210.78 MB\n",
      "\n",
      "main: quantize time = 447247.27 ms\n",
      "main:    total time = 447247.27 ms\n",
      "Unsloth: Conversion completed! Output location: /content/gguf_model/unsloth.Q4_K_M.gguf\n"
     ]
    }
   ],
   "source": [
    "model.save_pretrained_gguf(\"gguf_model\",tokenizer,quantization_method=\"q4_k_m\")"
   ]
  },
  {
   "cell_type": "code",
   "execution_count": null,
   "metadata": {
    "id": "eZ19Kx-miD45"
   },
   "outputs": [],
   "source": [
    "from google.colab import files\n",
    "import os\n",
    "\n",
    "gguf_files = [f for f in os.listdir(\"gguf_model\") if f.endswith(\".gguf\")]\n",
    "if gguf_files:\n",
    "    gguf_file = os.path.join(\"gguf_model\",gguf_files[0])\n",
    "    print(f\"Downloading {gguf_file}...\")\n",
    "    files.download(gguf_file)\n",
    "else:\n",
    "    print(\"No .gguf files found in the 'gguf_model' directory.\"\n",
    "\n"
   ]
  }
 ],
 "metadata": {
  "accelerator": "GPU",
  "colab": {
   "gpuType": "T4",
   "provenance": []
  },
  "kernelspec": {
   "display_name": "Python 3",
   "name": "python3"
  },
  "language_info": {
   "name": "python"
  }
 },
 "nbformat": 4,
 "nbformat_minor": 0
}
